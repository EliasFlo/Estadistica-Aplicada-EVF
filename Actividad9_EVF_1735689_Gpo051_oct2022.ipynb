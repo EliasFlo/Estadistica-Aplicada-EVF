{
 "cells": [
  {
   "cell_type": "markdown",
   "id": "65f895a9",
   "metadata": {},
   "source": [
    "# Actividad 9\n",
    "## Elias Villaseñor Flores \n",
    "## 1735689\n",
    "## Estadística Aplicada\n",
    "## Grupo 051"
   ]
  },
  {
   "cell_type": "code",
   "execution_count": 56,
   "id": "80642402",
   "metadata": {},
   "outputs": [],
   "source": [
    "import pandas as pd"
   ]
  },
  {
   "cell_type": "code",
   "execution_count": 2,
   "id": "31d9b084",
   "metadata": {},
   "outputs": [
    {
     "data": {
      "text/html": [
       "<div>\n",
       "<style scoped>\n",
       "    .dataframe tbody tr th:only-of-type {\n",
       "        vertical-align: middle;\n",
       "    }\n",
       "\n",
       "    .dataframe tbody tr th {\n",
       "        vertical-align: top;\n",
       "    }\n",
       "\n",
       "    .dataframe thead th {\n",
       "        text-align: right;\n",
       "    }\n",
       "</style>\n",
       "<table border=\"1\" class=\"dataframe\">\n",
       "  <thead>\n",
       "    <tr style=\"text-align: right;\">\n",
       "      <th></th>\n",
       "      <th>id</th>\n",
       "      <th>tiempo</th>\n",
       "      <th>examen</th>\n",
       "      <th>calificación</th>\n",
       "      <th>género</th>\n",
       "    </tr>\n",
       "  </thead>\n",
       "  <tbody>\n",
       "    <tr>\n",
       "      <th>0</th>\n",
       "      <td>1</td>\n",
       "      <td>85</td>\n",
       "      <td>1</td>\n",
       "      <td>100</td>\n",
       "      <td>m</td>\n",
       "    </tr>\n",
       "    <tr>\n",
       "      <th>1</th>\n",
       "      <td>2</td>\n",
       "      <td>109</td>\n",
       "      <td>1</td>\n",
       "      <td>100</td>\n",
       "      <td>m</td>\n",
       "    </tr>\n",
       "    <tr>\n",
       "      <th>2</th>\n",
       "      <td>3</td>\n",
       "      <td>118</td>\n",
       "      <td>1</td>\n",
       "      <td>100</td>\n",
       "      <td>m</td>\n",
       "    </tr>\n",
       "    <tr>\n",
       "      <th>3</th>\n",
       "      <td>4</td>\n",
       "      <td>120</td>\n",
       "      <td>1</td>\n",
       "      <td>100</td>\n",
       "      <td>f</td>\n",
       "    </tr>\n",
       "    <tr>\n",
       "      <th>4</th>\n",
       "      <td>5</td>\n",
       "      <td>106</td>\n",
       "      <td>1</td>\n",
       "      <td>98</td>\n",
       "      <td>f</td>\n",
       "    </tr>\n",
       "    <tr>\n",
       "      <th>5</th>\n",
       "      <td>6</td>\n",
       "      <td>103</td>\n",
       "      <td>1</td>\n",
       "      <td>98</td>\n",
       "      <td>m</td>\n",
       "    </tr>\n",
       "    <tr>\n",
       "      <th>6</th>\n",
       "      <td>7</td>\n",
       "      <td>108</td>\n",
       "      <td>1</td>\n",
       "      <td>96</td>\n",
       "      <td>f</td>\n",
       "    </tr>\n",
       "    <tr>\n",
       "      <th>7</th>\n",
       "      <td>8</td>\n",
       "      <td>119</td>\n",
       "      <td>1</td>\n",
       "      <td>96</td>\n",
       "      <td>f</td>\n",
       "    </tr>\n",
       "    <tr>\n",
       "      <th>8</th>\n",
       "      <td>9</td>\n",
       "      <td>115</td>\n",
       "      <td>1</td>\n",
       "      <td>96</td>\n",
       "      <td>f</td>\n",
       "    </tr>\n",
       "    <tr>\n",
       "      <th>9</th>\n",
       "      <td>10</td>\n",
       "      <td>108</td>\n",
       "      <td>1</td>\n",
       "      <td>94</td>\n",
       "      <td>f</td>\n",
       "    </tr>\n",
       "    <tr>\n",
       "      <th>10</th>\n",
       "      <td>11</td>\n",
       "      <td>87</td>\n",
       "      <td>1</td>\n",
       "      <td>88</td>\n",
       "      <td>m</td>\n",
       "    </tr>\n",
       "    <tr>\n",
       "      <th>11</th>\n",
       "      <td>12</td>\n",
       "      <td>99</td>\n",
       "      <td>1</td>\n",
       "      <td>86</td>\n",
       "      <td>f</td>\n",
       "    </tr>\n",
       "    <tr>\n",
       "      <th>12</th>\n",
       "      <td>13</td>\n",
       "      <td>112</td>\n",
       "      <td>1</td>\n",
       "      <td>84</td>\n",
       "      <td>m</td>\n",
       "    </tr>\n",
       "    <tr>\n",
       "      <th>13</th>\n",
       "      <td>14</td>\n",
       "      <td>111</td>\n",
       "      <td>1</td>\n",
       "      <td>82</td>\n",
       "      <td>m</td>\n",
       "    </tr>\n",
       "    <tr>\n",
       "      <th>14</th>\n",
       "      <td>15</td>\n",
       "      <td>90</td>\n",
       "      <td>1</td>\n",
       "      <td>78</td>\n",
       "      <td>f</td>\n",
       "    </tr>\n",
       "    <tr>\n",
       "      <th>15</th>\n",
       "      <td>16</td>\n",
       "      <td>116</td>\n",
       "      <td>1</td>\n",
       "      <td>74</td>\n",
       "      <td>m</td>\n",
       "    </tr>\n",
       "    <tr>\n",
       "      <th>16</th>\n",
       "      <td>17</td>\n",
       "      <td>119</td>\n",
       "      <td>1</td>\n",
       "      <td>72</td>\n",
       "      <td>m</td>\n",
       "    </tr>\n",
       "  </tbody>\n",
       "</table>\n",
       "</div>"
      ],
      "text/plain": [
       "    id  tiempo  examen  calificación género\n",
       "0    1      85       1           100      m\n",
       "1    2     109       1           100      m\n",
       "2    3     118       1           100      m\n",
       "3    4     120       1           100      f\n",
       "4    5     106       1            98      f\n",
       "5    6     103       1            98      m\n",
       "6    7     108       1            96      f\n",
       "7    8     119       1            96      f\n",
       "8    9     115       1            96      f\n",
       "9   10     108       1            94      f\n",
       "10  11      87       1            88      m\n",
       "11  12      99       1            86      f\n",
       "12  13     112       1            84      m\n",
       "13  14     111       1            82      m\n",
       "14  15      90       1            78      f\n",
       "15  16     116       1            74      m\n",
       "16  17     119       1            72      m"
      ]
     },
     "execution_count": 2,
     "metadata": {},
     "output_type": "execute_result"
    }
   ],
   "source": [
    "datos = pd.read_csv('supervivencia_examenes.csv')\n",
    "datos"
   ]
  },
  {
   "cell_type": "code",
   "execution_count": 3,
   "id": "3ff02ad1",
   "metadata": {},
   "outputs": [
    {
     "data": {
      "text/html": [
       "<div>\n",
       "<style scoped>\n",
       "    .dataframe tbody tr th:only-of-type {\n",
       "        vertical-align: middle;\n",
       "    }\n",
       "\n",
       "    .dataframe tbody tr th {\n",
       "        vertical-align: top;\n",
       "    }\n",
       "\n",
       "    .dataframe thead th {\n",
       "        text-align: right;\n",
       "    }\n",
       "</style>\n",
       "<table border=\"1\" class=\"dataframe\">\n",
       "  <thead>\n",
       "    <tr style=\"text-align: right;\">\n",
       "      <th></th>\n",
       "      <th>id</th>\n",
       "      <th>tiempo</th>\n",
       "      <th>examen</th>\n",
       "      <th>calificación</th>\n",
       "      <th>género_m</th>\n",
       "    </tr>\n",
       "  </thead>\n",
       "  <tbody>\n",
       "    <tr>\n",
       "      <th>0</th>\n",
       "      <td>1</td>\n",
       "      <td>85</td>\n",
       "      <td>1</td>\n",
       "      <td>100</td>\n",
       "      <td>1</td>\n",
       "    </tr>\n",
       "    <tr>\n",
       "      <th>1</th>\n",
       "      <td>2</td>\n",
       "      <td>109</td>\n",
       "      <td>1</td>\n",
       "      <td>100</td>\n",
       "      <td>1</td>\n",
       "    </tr>\n",
       "    <tr>\n",
       "      <th>2</th>\n",
       "      <td>3</td>\n",
       "      <td>118</td>\n",
       "      <td>1</td>\n",
       "      <td>100</td>\n",
       "      <td>1</td>\n",
       "    </tr>\n",
       "    <tr>\n",
       "      <th>3</th>\n",
       "      <td>4</td>\n",
       "      <td>120</td>\n",
       "      <td>1</td>\n",
       "      <td>100</td>\n",
       "      <td>0</td>\n",
       "    </tr>\n",
       "    <tr>\n",
       "      <th>4</th>\n",
       "      <td>5</td>\n",
       "      <td>106</td>\n",
       "      <td>1</td>\n",
       "      <td>98</td>\n",
       "      <td>0</td>\n",
       "    </tr>\n",
       "    <tr>\n",
       "      <th>5</th>\n",
       "      <td>6</td>\n",
       "      <td>103</td>\n",
       "      <td>1</td>\n",
       "      <td>98</td>\n",
       "      <td>1</td>\n",
       "    </tr>\n",
       "    <tr>\n",
       "      <th>6</th>\n",
       "      <td>7</td>\n",
       "      <td>108</td>\n",
       "      <td>1</td>\n",
       "      <td>96</td>\n",
       "      <td>0</td>\n",
       "    </tr>\n",
       "    <tr>\n",
       "      <th>7</th>\n",
       "      <td>8</td>\n",
       "      <td>119</td>\n",
       "      <td>1</td>\n",
       "      <td>96</td>\n",
       "      <td>0</td>\n",
       "    </tr>\n",
       "    <tr>\n",
       "      <th>8</th>\n",
       "      <td>9</td>\n",
       "      <td>115</td>\n",
       "      <td>1</td>\n",
       "      <td>96</td>\n",
       "      <td>0</td>\n",
       "    </tr>\n",
       "    <tr>\n",
       "      <th>9</th>\n",
       "      <td>10</td>\n",
       "      <td>108</td>\n",
       "      <td>1</td>\n",
       "      <td>94</td>\n",
       "      <td>0</td>\n",
       "    </tr>\n",
       "    <tr>\n",
       "      <th>10</th>\n",
       "      <td>11</td>\n",
       "      <td>87</td>\n",
       "      <td>1</td>\n",
       "      <td>88</td>\n",
       "      <td>1</td>\n",
       "    </tr>\n",
       "    <tr>\n",
       "      <th>11</th>\n",
       "      <td>12</td>\n",
       "      <td>99</td>\n",
       "      <td>1</td>\n",
       "      <td>86</td>\n",
       "      <td>0</td>\n",
       "    </tr>\n",
       "    <tr>\n",
       "      <th>12</th>\n",
       "      <td>13</td>\n",
       "      <td>112</td>\n",
       "      <td>1</td>\n",
       "      <td>84</td>\n",
       "      <td>1</td>\n",
       "    </tr>\n",
       "    <tr>\n",
       "      <th>13</th>\n",
       "      <td>14</td>\n",
       "      <td>111</td>\n",
       "      <td>1</td>\n",
       "      <td>82</td>\n",
       "      <td>1</td>\n",
       "    </tr>\n",
       "    <tr>\n",
       "      <th>14</th>\n",
       "      <td>15</td>\n",
       "      <td>90</td>\n",
       "      <td>1</td>\n",
       "      <td>78</td>\n",
       "      <td>0</td>\n",
       "    </tr>\n",
       "    <tr>\n",
       "      <th>15</th>\n",
       "      <td>16</td>\n",
       "      <td>116</td>\n",
       "      <td>1</td>\n",
       "      <td>74</td>\n",
       "      <td>1</td>\n",
       "    </tr>\n",
       "    <tr>\n",
       "      <th>16</th>\n",
       "      <td>17</td>\n",
       "      <td>119</td>\n",
       "      <td>1</td>\n",
       "      <td>72</td>\n",
       "      <td>1</td>\n",
       "    </tr>\n",
       "  </tbody>\n",
       "</table>\n",
       "</div>"
      ],
      "text/plain": [
       "    id  tiempo  examen  calificación  género_m\n",
       "0    1      85       1           100         1\n",
       "1    2     109       1           100         1\n",
       "2    3     118       1           100         1\n",
       "3    4     120       1           100         0\n",
       "4    5     106       1            98         0\n",
       "5    6     103       1            98         1\n",
       "6    7     108       1            96         0\n",
       "7    8     119       1            96         0\n",
       "8    9     115       1            96         0\n",
       "9   10     108       1            94         0\n",
       "10  11      87       1            88         1\n",
       "11  12      99       1            86         0\n",
       "12  13     112       1            84         1\n",
       "13  14     111       1            82         1\n",
       "14  15      90       1            78         0\n",
       "15  16     116       1            74         1\n",
       "16  17     119       1            72         1"
      ]
     },
     "execution_count": 3,
     "metadata": {},
     "output_type": "execute_result"
    }
   ],
   "source": [
    "datos = pd.get_dummies(datos,'género', drop_first=True )\n",
    "datos"
   ]
  },
  {
   "cell_type": "markdown",
   "id": "9b26695e",
   "metadata": {},
   "source": [
    "a) Estadísticas descriptivas. Calcule el tiempo promedio que tardaron en\n",
    "responder los alumnos el examen y la calificación promedio obtenida.\n",
    "El profesor sospecha que las alumnas responden más rápido el examen,\n",
    "calcule el tiempo promedio que tardaron en responder las alumnas y su\n",
    "calificación promedio, asi como el tiempo promedio que tardaron en\n",
    "responder los alumnos y su calificación promedio.\n",
    "Elabore un print mostrando dichos resultados"
   ]
  },
  {
   "cell_type": "code",
   "execution_count": 4,
   "id": "cc7764e0",
   "metadata": {},
   "outputs": [
    {
     "data": {
      "text/plain": [
       "107.3529411764706"
      ]
     },
     "execution_count": 4,
     "metadata": {},
     "output_type": "execute_result"
    }
   ],
   "source": [
    "datos['tiempo'].mean()"
   ]
  },
  {
   "cell_type": "code",
   "execution_count": 5,
   "id": "d2196bab",
   "metadata": {},
   "outputs": [
    {
     "data": {
      "text/plain": [
       "90.70588235294117"
      ]
     },
     "execution_count": 5,
     "metadata": {},
     "output_type": "execute_result"
    }
   ],
   "source": [
    "datos['calificación'].mean()"
   ]
  },
  {
   "cell_type": "code",
   "execution_count": 6,
   "id": "90b029e1",
   "metadata": {
    "scrolled": true
   },
   "outputs": [
    {
     "data": {
      "text/plain": [
       "106.66666666666667"
      ]
     },
     "execution_count": 6,
     "metadata": {},
     "output_type": "execute_result"
    }
   ],
   "source": [
    "datosTM = datos[datos['género_m'] == 1]\n",
    "datosTM\n",
    "promTM=datosTM['tiempo'].mean()\n",
    "promTM "
   ]
  },
  {
   "cell_type": "code",
   "execution_count": 7,
   "id": "4a252100",
   "metadata": {},
   "outputs": [],
   "source": [
    "datosCM = datos[datos['género_m'] == 1]\n",
    "datosCM\n",
    "promCM=datosCM['calificación'].mean()"
   ]
  },
  {
   "cell_type": "code",
   "execution_count": 8,
   "id": "8f57cb47",
   "metadata": {},
   "outputs": [],
   "source": [
    "datosTF = datos[datos['género_m'] == 0]\n",
    "datosTF\n",
    "promTF=datosTF['tiempo'].mean()"
   ]
  },
  {
   "cell_type": "code",
   "execution_count": 9,
   "id": "2621d272",
   "metadata": {},
   "outputs": [],
   "source": [
    "datosCF = datos[datos['género_m'] == 0]\n",
    "datosCF\n",
    "promCF=datosCF['calificación'].mean()"
   ]
  },
  {
   "cell_type": "code",
   "execution_count": 10,
   "id": "5ed1a170",
   "metadata": {},
   "outputs": [
    {
     "name": "stdout",
     "output_type": "stream",
     "text": [
      "La calificación promedio de hombres es de: 88.66666666666667 Y el tiempo promedio es de:  106.66666666666667\n"
     ]
    }
   ],
   "source": [
    "print('La calificación promedio de hombres es de:', promCM, 'Y el tiempo promedio es de: ',promTM)"
   ]
  },
  {
   "cell_type": "code",
   "execution_count": 11,
   "id": "5e0cdaf3",
   "metadata": {},
   "outputs": [
    {
     "name": "stdout",
     "output_type": "stream",
     "text": [
      "La calificación promedio de mujeres es de: 93.0 Y el tiempo promedio es de:  108.125\n"
     ]
    }
   ],
   "source": [
    "print('La calificación promedio de mujeres es de:', promCF, 'Y el tiempo promedio es de: ',promTF)"
   ]
  },
  {
   "cell_type": "markdown",
   "id": "8171d933",
   "metadata": {},
   "source": [
    "b) ¿Cómo crees que se comporta el riesgo de entregar el examen conforme\n",
    "transcurre el tiempo? ¿es constante, creciente, o decreciente? Según tu \n",
    "respuesta ajusta un modelo exponencial o Weibull, primero para todos\n",
    "los individuos y muestra la función de riesgo."
   ]
  },
  {
   "cell_type": "markdown",
   "id": "9a59c1bc",
   "metadata": {},
   "source": [
    "### Creo que seran constantes"
   ]
  },
  {
   "cell_type": "markdown",
   "id": "125a857e",
   "metadata": {},
   "source": [
    "## Modelo exponencial"
   ]
  },
  {
   "cell_type": "code",
   "execution_count": 12,
   "id": "edbf4df1",
   "metadata": {},
   "outputs": [],
   "source": [
    "import numpy as np\n",
    "import matplotlib.pyplot as plt\n",
    "from lifelines import ExponentialFitter"
   ]
  },
  {
   "cell_type": "code",
   "execution_count": 13,
   "id": "231ce631",
   "metadata": {},
   "outputs": [
    {
     "name": "stdout",
     "output_type": "stream",
     "text": [
      "Requirement already satisfied: lifelines in c:\\users\\elías\\appdata\\local\\programs\\python\\python310\\lib\\site-packages (0.27.3)Note: you may need to restart the kernel to use updated packages.\n",
      "\n",
      "Requirement already satisfied: numpy>=1.14.0 in c:\\users\\elías\\appdata\\local\\programs\\python\\python310\\lib\\site-packages (from lifelines) (1.23.3)\n",
      "Requirement already satisfied: autograd>=1.3 in c:\\users\\elías\\appdata\\local\\programs\\python\\python310\\lib\\site-packages (from lifelines) (1.5)\n",
      "Requirement already satisfied: matplotlib>=3.0 in c:\\users\\elías\\appdata\\local\\programs\\python\\python310\\lib\\site-packages (from lifelines) (3.6.0)\n",
      "Requirement already satisfied: autograd-gamma>=0.3 in c:\\users\\elías\\appdata\\local\\programs\\python\\python310\\lib\\site-packages (from lifelines) (0.5.0)\n",
      "Requirement already satisfied: formulaic>=0.2.2 in c:\\users\\elías\\appdata\\local\\programs\\python\\python310\\lib\\site-packages (from lifelines) (0.5.2)\n",
      "Requirement already satisfied: pandas>=1.0.0 in c:\\users\\elías\\appdata\\local\\programs\\python\\python310\\lib\\site-packages (from lifelines) (1.5.0)\n",
      "Requirement already satisfied: scipy>=1.2.0 in c:\\users\\elías\\appdata\\local\\programs\\python\\python310\\lib\\site-packages (from lifelines) (1.9.1)\n",
      "Requirement already satisfied: future>=0.15.2 in c:\\users\\elías\\appdata\\local\\programs\\python\\python310\\lib\\site-packages (from autograd>=1.3->lifelines) (0.18.2)\n",
      "Requirement already satisfied: wrapt>=1.0 in c:\\users\\elías\\appdata\\local\\programs\\python\\python310\\lib\\site-packages (from formulaic>=0.2.2->lifelines) (1.14.1)\n",
      "Requirement already satisfied: astor>=0.8 in c:\\users\\elías\\appdata\\local\\programs\\python\\python310\\lib\\site-packages (from formulaic>=0.2.2->lifelines) (0.8.1)\n",
      "Requirement already satisfied: typing-extensions>=4.2.0 in c:\\users\\elías\\appdata\\local\\programs\\python\\python310\\lib\\site-packages (from formulaic>=0.2.2->lifelines) (4.3.0)\n",
      "Requirement already satisfied: interface-meta>=1.2.0 in c:\\users\\elías\\appdata\\local\\programs\\python\\python310\\lib\\site-packages (from formulaic>=0.2.2->lifelines) (1.3.0)\n",
      "Requirement already satisfied: python-dateutil>=2.7 in c:\\users\\elías\\appdata\\local\\programs\\python\\python310\\lib\\site-packages (from matplotlib>=3.0->lifelines) (2.8.2)\n",
      "Requirement already satisfied: fonttools>=4.22.0 in c:\\users\\elías\\appdata\\local\\programs\\python\\python310\\lib\\site-packages (from matplotlib>=3.0->lifelines) (4.37.4)\n",
      "Requirement already satisfied: packaging>=20.0 in c:\\users\\elías\\appdata\\local\\programs\\python\\python310\\lib\\site-packages (from matplotlib>=3.0->lifelines) (21.3)\n",
      "Requirement already satisfied: cycler>=0.10 in c:\\users\\elías\\appdata\\local\\programs\\python\\python310\\lib\\site-packages (from matplotlib>=3.0->lifelines) (0.11.0)\n",
      "Requirement already satisfied: kiwisolver>=1.0.1 in c:\\users\\elías\\appdata\\local\\programs\\python\\python310\\lib\\site-packages (from matplotlib>=3.0->lifelines) (1.4.4)\n",
      "Requirement already satisfied: pillow>=6.2.0 in c:\\users\\elías\\appdata\\local\\programs\\python\\python310\\lib\\site-packages (from matplotlib>=3.0->lifelines) (9.2.0)\n",
      "Requirement already satisfied: contourpy>=1.0.1 in c:\\users\\elías\\appdata\\local\\programs\\python\\python310\\lib\\site-packages (from matplotlib>=3.0->lifelines) (1.0.5)\n",
      "Requirement already satisfied: pyparsing>=2.2.1 in c:\\users\\elías\\appdata\\local\\programs\\python\\python310\\lib\\site-packages (from matplotlib>=3.0->lifelines) (3.0.9)\n",
      "Requirement already satisfied: pytz>=2020.1 in c:\\users\\elías\\appdata\\local\\programs\\python\\python310\\lib\\site-packages (from pandas>=1.0.0->lifelines) (2022.4)\n",
      "Requirement already satisfied: six>=1.5 in c:\\users\\elías\\appdata\\local\\programs\\python\\python310\\lib\\site-packages (from python-dateutil>=2.7->matplotlib>=3.0->lifelines) (1.16.0)\n"
     ]
    }
   ],
   "source": [
    "pip install lifelines"
   ]
  },
  {
   "cell_type": "code",
   "execution_count": 14,
   "id": "d05dd553",
   "metadata": {},
   "outputs": [
    {
     "data": {
      "text/plain": [
       "0.009315068493150684"
      ]
     },
     "execution_count": 14,
     "metadata": {},
     "output_type": "execute_result"
    }
   ],
   "source": [
    "estimador_lamda = datos['examen'].sum()/datos['tiempo'].sum()\n",
    "estimador_lamda"
   ]
  },
  {
   "cell_type": "code",
   "execution_count": 15,
   "id": "752fb326",
   "metadata": {},
   "outputs": [],
   "source": [
    "exf = ExponentialFitter().fit(datos['tiempo'], datos['examen'])"
   ]
  },
  {
   "cell_type": "code",
   "execution_count": 16,
   "id": "4d1f315d",
   "metadata": {},
   "outputs": [
    {
     "data": {
      "text/html": [
       "<div>\n",
       "<style scoped>\n",
       "    .dataframe tbody tr th:only-of-type {\n",
       "        vertical-align: middle;\n",
       "    }\n",
       "\n",
       "    .dataframe tbody tr th {\n",
       "        vertical-align: top;\n",
       "    }\n",
       "\n",
       "    .dataframe thead th {\n",
       "        text-align: right;\n",
       "    }\n",
       "</style>\n",
       "<table border=\"1\" class=\"dataframe\">\n",
       "  <thead>\n",
       "    <tr style=\"text-align: right;\">\n",
       "      <th></th>\n",
       "      <th>Exponential_estimate</th>\n",
       "    </tr>\n",
       "  </thead>\n",
       "  <tbody>\n",
       "    <tr>\n",
       "      <th>85.0000</th>\n",
       "      <td>0.009315</td>\n",
       "    </tr>\n",
       "    <tr>\n",
       "      <th>87.1875</th>\n",
       "      <td>0.009315</td>\n",
       "    </tr>\n",
       "    <tr>\n",
       "      <th>89.3750</th>\n",
       "      <td>0.009315</td>\n",
       "    </tr>\n",
       "    <tr>\n",
       "      <th>91.5625</th>\n",
       "      <td>0.009315</td>\n",
       "    </tr>\n",
       "    <tr>\n",
       "      <th>93.7500</th>\n",
       "      <td>0.009315</td>\n",
       "    </tr>\n",
       "    <tr>\n",
       "      <th>95.9375</th>\n",
       "      <td>0.009315</td>\n",
       "    </tr>\n",
       "    <tr>\n",
       "      <th>98.1250</th>\n",
       "      <td>0.009315</td>\n",
       "    </tr>\n",
       "    <tr>\n",
       "      <th>100.3125</th>\n",
       "      <td>0.009315</td>\n",
       "    </tr>\n",
       "    <tr>\n",
       "      <th>102.5000</th>\n",
       "      <td>0.009315</td>\n",
       "    </tr>\n",
       "    <tr>\n",
       "      <th>104.6875</th>\n",
       "      <td>0.009315</td>\n",
       "    </tr>\n",
       "    <tr>\n",
       "      <th>106.8750</th>\n",
       "      <td>0.009315</td>\n",
       "    </tr>\n",
       "    <tr>\n",
       "      <th>109.0625</th>\n",
       "      <td>0.009315</td>\n",
       "    </tr>\n",
       "    <tr>\n",
       "      <th>111.2500</th>\n",
       "      <td>0.009315</td>\n",
       "    </tr>\n",
       "    <tr>\n",
       "      <th>113.4375</th>\n",
       "      <td>0.009315</td>\n",
       "    </tr>\n",
       "    <tr>\n",
       "      <th>115.6250</th>\n",
       "      <td>0.009315</td>\n",
       "    </tr>\n",
       "    <tr>\n",
       "      <th>117.8125</th>\n",
       "      <td>0.009315</td>\n",
       "    </tr>\n",
       "    <tr>\n",
       "      <th>120.0000</th>\n",
       "      <td>0.009315</td>\n",
       "    </tr>\n",
       "  </tbody>\n",
       "</table>\n",
       "</div>"
      ],
      "text/plain": [
       "          Exponential_estimate\n",
       "85.0000               0.009315\n",
       "87.1875               0.009315\n",
       "89.3750               0.009315\n",
       "91.5625               0.009315\n",
       "93.7500               0.009315\n",
       "95.9375               0.009315\n",
       "98.1250               0.009315\n",
       "100.3125              0.009315\n",
       "102.5000              0.009315\n",
       "104.6875              0.009315\n",
       "106.8750              0.009315\n",
       "109.0625              0.009315\n",
       "111.2500              0.009315\n",
       "113.4375              0.009315\n",
       "115.6250              0.009315\n",
       "117.8125              0.009315\n",
       "120.0000              0.009315"
      ]
     },
     "execution_count": 16,
     "metadata": {},
     "output_type": "execute_result"
    }
   ],
   "source": [
    "exf.hazard_"
   ]
  },
  {
   "cell_type": "markdown",
   "id": "a30d509c",
   "metadata": {},
   "source": [
    "c) Ahora estima el mismo modelo que planteaste en el inciso anterior, pero\n",
    "para hombres y mujeres, y grafica ambas funciones de supervivencia\n",
    "juntas (empalmadas), ¿gráficamente quien tarda más en entregar el\n",
    "examen?"
   ]
  },
  {
   "cell_type": "code",
   "execution_count": 17,
   "id": "1db09539",
   "metadata": {},
   "outputs": [
    {
     "data": {
      "text/plain": [
       "0.009375"
      ]
     },
     "execution_count": 17,
     "metadata": {},
     "output_type": "execute_result"
    }
   ],
   "source": [
    "estimador_lamda = datosTM['examen'].sum()/datosTM['tiempo'].sum()\n",
    "estimador_lamda"
   ]
  },
  {
   "cell_type": "code",
   "execution_count": 18,
   "id": "e83ac256",
   "metadata": {},
   "outputs": [],
   "source": [
    "exfM = ExponentialFitter().fit(datosTM['tiempo'], datosTM['examen'])"
   ]
  },
  {
   "cell_type": "code",
   "execution_count": 19,
   "id": "cab07c4d",
   "metadata": {},
   "outputs": [
    {
     "data": {
      "text/html": [
       "<div>\n",
       "<style scoped>\n",
       "    .dataframe tbody tr th:only-of-type {\n",
       "        vertical-align: middle;\n",
       "    }\n",
       "\n",
       "    .dataframe tbody tr th {\n",
       "        vertical-align: top;\n",
       "    }\n",
       "\n",
       "    .dataframe thead th {\n",
       "        text-align: right;\n",
       "    }\n",
       "</style>\n",
       "<table border=\"1\" class=\"dataframe\">\n",
       "  <thead>\n",
       "    <tr style=\"text-align: right;\">\n",
       "      <th></th>\n",
       "      <th>Exponential_estimate</th>\n",
       "    </tr>\n",
       "  </thead>\n",
       "  <tbody>\n",
       "    <tr>\n",
       "      <th>85.00</th>\n",
       "      <td>0.009375</td>\n",
       "    </tr>\n",
       "    <tr>\n",
       "      <th>89.25</th>\n",
       "      <td>0.009375</td>\n",
       "    </tr>\n",
       "    <tr>\n",
       "      <th>93.50</th>\n",
       "      <td>0.009375</td>\n",
       "    </tr>\n",
       "    <tr>\n",
       "      <th>97.75</th>\n",
       "      <td>0.009375</td>\n",
       "    </tr>\n",
       "    <tr>\n",
       "      <th>102.00</th>\n",
       "      <td>0.009375</td>\n",
       "    </tr>\n",
       "    <tr>\n",
       "      <th>106.25</th>\n",
       "      <td>0.009375</td>\n",
       "    </tr>\n",
       "    <tr>\n",
       "      <th>110.50</th>\n",
       "      <td>0.009375</td>\n",
       "    </tr>\n",
       "    <tr>\n",
       "      <th>114.75</th>\n",
       "      <td>0.009375</td>\n",
       "    </tr>\n",
       "    <tr>\n",
       "      <th>119.00</th>\n",
       "      <td>0.009375</td>\n",
       "    </tr>\n",
       "  </tbody>\n",
       "</table>\n",
       "</div>"
      ],
      "text/plain": [
       "        Exponential_estimate\n",
       "85.00               0.009375\n",
       "89.25               0.009375\n",
       "93.50               0.009375\n",
       "97.75               0.009375\n",
       "102.00              0.009375\n",
       "106.25              0.009375\n",
       "110.50              0.009375\n",
       "114.75              0.009375\n",
       "119.00              0.009375"
      ]
     },
     "execution_count": 19,
     "metadata": {},
     "output_type": "execute_result"
    }
   ],
   "source": [
    "exfM.hazard_"
   ]
  },
  {
   "cell_type": "code",
   "execution_count": 20,
   "id": "bde5c099",
   "metadata": {},
   "outputs": [
    {
     "data": {
      "text/plain": [
       "0.009248554913294798"
      ]
     },
     "execution_count": 20,
     "metadata": {},
     "output_type": "execute_result"
    }
   ],
   "source": [
    "estimador_lamda = datosTF['examen'].sum()/datosTF['tiempo'].sum()\n",
    "estimador_lamda"
   ]
  },
  {
   "cell_type": "code",
   "execution_count": 21,
   "id": "58f805da",
   "metadata": {},
   "outputs": [],
   "source": [
    "exfF = ExponentialFitter().fit(datosTF['tiempo'], datosTF['examen'])"
   ]
  },
  {
   "cell_type": "code",
   "execution_count": 22,
   "id": "f8d0a33c",
   "metadata": {},
   "outputs": [
    {
     "data": {
      "text/html": [
       "<div>\n",
       "<style scoped>\n",
       "    .dataframe tbody tr th:only-of-type {\n",
       "        vertical-align: middle;\n",
       "    }\n",
       "\n",
       "    .dataframe tbody tr th {\n",
       "        vertical-align: top;\n",
       "    }\n",
       "\n",
       "    .dataframe thead th {\n",
       "        text-align: right;\n",
       "    }\n",
       "</style>\n",
       "<table border=\"1\" class=\"dataframe\">\n",
       "  <thead>\n",
       "    <tr style=\"text-align: right;\">\n",
       "      <th></th>\n",
       "      <th>Exponential_estimate</th>\n",
       "    </tr>\n",
       "  </thead>\n",
       "  <tbody>\n",
       "    <tr>\n",
       "      <th>90.000000</th>\n",
       "      <td>0.009249</td>\n",
       "    </tr>\n",
       "    <tr>\n",
       "      <th>94.285714</th>\n",
       "      <td>0.009249</td>\n",
       "    </tr>\n",
       "    <tr>\n",
       "      <th>98.571429</th>\n",
       "      <td>0.009249</td>\n",
       "    </tr>\n",
       "    <tr>\n",
       "      <th>102.857143</th>\n",
       "      <td>0.009249</td>\n",
       "    </tr>\n",
       "    <tr>\n",
       "      <th>107.142857</th>\n",
       "      <td>0.009249</td>\n",
       "    </tr>\n",
       "    <tr>\n",
       "      <th>111.428571</th>\n",
       "      <td>0.009249</td>\n",
       "    </tr>\n",
       "    <tr>\n",
       "      <th>115.714286</th>\n",
       "      <td>0.009249</td>\n",
       "    </tr>\n",
       "    <tr>\n",
       "      <th>120.000000</th>\n",
       "      <td>0.009249</td>\n",
       "    </tr>\n",
       "  </tbody>\n",
       "</table>\n",
       "</div>"
      ],
      "text/plain": [
       "            Exponential_estimate\n",
       "90.000000               0.009249\n",
       "94.285714               0.009249\n",
       "98.571429               0.009249\n",
       "102.857143              0.009249\n",
       "107.142857              0.009249\n",
       "111.428571              0.009249\n",
       "115.714286              0.009249\n",
       "120.000000              0.009249"
      ]
     },
     "execution_count": 22,
     "metadata": {},
     "output_type": "execute_result"
    }
   ],
   "source": [
    "exfF.hazard_"
   ]
  },
  {
   "cell_type": "code",
   "execution_count": 23,
   "id": "5ca36417",
   "metadata": {},
   "outputs": [
    {
     "data": {
      "image/png": "[encoded data removed]",
      "text/plain": [
       "<Figure size 640x480 with 1 Axes>"
      ]
     },
     "metadata": {},
     "output_type": "display_data"
    }
   ],
   "source": [
    "exfM.plot_survival_function()\n",
    "exfF.plot_survival_function()\n",
    "plt.show()\n",
    "plt.show()"
   ]
  },
  {
   "cell_type": "markdown",
   "id": "111e1afa",
   "metadata": {},
   "source": [
    "d) Estime la función de supervivencia del tiempo de entrega del examen de\n",
    "todos los alumnos utilizando Kaplan-Meier, muestre los valores de la\n",
    "función de supervivencia, los valores del intervalos de confianza al 95%,\n",
    "asi como la gráfica respectiva de la función de supervivencia con sus\n",
    "intervalos"
   ]
  },
  {
   "cell_type": "code",
   "execution_count": 24,
   "id": "c8185911",
   "metadata": {},
   "outputs": [],
   "source": [
    "from lifelines import KaplanMeierFitter "
   ]
  },
  {
   "cell_type": "code",
   "execution_count": 25,
   "id": "332c81f9",
   "metadata": {},
   "outputs": [
    {
     "data": {
      "image/png": "[encoded data removed]",
      "text/plain": [
       "<Figure size 640x480 with 1 Axes>"
      ]
     },
     "metadata": {},
     "output_type": "display_data"
    }
   ],
   "source": [
    "kmf = KaplanMeierFitter(label=\"Duración de entrega del examen\")\n",
    "kmf.fit(datos['tiempo'], datos['examen'])\n",
    "kmf.plot();"
   ]
  },
  {
   "cell_type": "code",
   "execution_count": 26,
   "id": "8dabd51f",
   "metadata": {},
   "outputs": [
    {
     "data": {
      "text/html": [
       "<div>\n",
       "<style scoped>\n",
       "    .dataframe tbody tr th:only-of-type {\n",
       "        vertical-align: middle;\n",
       "    }\n",
       "\n",
       "    .dataframe tbody tr th {\n",
       "        vertical-align: top;\n",
       "    }\n",
       "\n",
       "    .dataframe thead th {\n",
       "        text-align: right;\n",
       "    }\n",
       "</style>\n",
       "<table border=\"1\" class=\"dataframe\">\n",
       "  <thead>\n",
       "    <tr style=\"text-align: right;\">\n",
       "      <th></th>\n",
       "      <th>Duración de entrega del examen</th>\n",
       "    </tr>\n",
       "    <tr>\n",
       "      <th>timeline</th>\n",
       "      <th></th>\n",
       "    </tr>\n",
       "  </thead>\n",
       "  <tbody>\n",
       "    <tr>\n",
       "      <th>0.0</th>\n",
       "      <td>1.000000</td>\n",
       "    </tr>\n",
       "    <tr>\n",
       "      <th>85.0</th>\n",
       "      <td>0.941176</td>\n",
       "    </tr>\n",
       "    <tr>\n",
       "      <th>87.0</th>\n",
       "      <td>0.882353</td>\n",
       "    </tr>\n",
       "    <tr>\n",
       "      <th>90.0</th>\n",
       "      <td>0.823529</td>\n",
       "    </tr>\n",
       "    <tr>\n",
       "      <th>99.0</th>\n",
       "      <td>0.764706</td>\n",
       "    </tr>\n",
       "    <tr>\n",
       "      <th>103.0</th>\n",
       "      <td>0.705882</td>\n",
       "    </tr>\n",
       "    <tr>\n",
       "      <th>106.0</th>\n",
       "      <td>0.647059</td>\n",
       "    </tr>\n",
       "    <tr>\n",
       "      <th>108.0</th>\n",
       "      <td>0.529412</td>\n",
       "    </tr>\n",
       "    <tr>\n",
       "      <th>109.0</th>\n",
       "      <td>0.470588</td>\n",
       "    </tr>\n",
       "    <tr>\n",
       "      <th>111.0</th>\n",
       "      <td>0.411765</td>\n",
       "    </tr>\n",
       "    <tr>\n",
       "      <th>112.0</th>\n",
       "      <td>0.352941</td>\n",
       "    </tr>\n",
       "    <tr>\n",
       "      <th>115.0</th>\n",
       "      <td>0.294118</td>\n",
       "    </tr>\n",
       "    <tr>\n",
       "      <th>116.0</th>\n",
       "      <td>0.235294</td>\n",
       "    </tr>\n",
       "    <tr>\n",
       "      <th>118.0</th>\n",
       "      <td>0.176471</td>\n",
       "    </tr>\n",
       "    <tr>\n",
       "      <th>119.0</th>\n",
       "      <td>0.058824</td>\n",
       "    </tr>\n",
       "    <tr>\n",
       "      <th>120.0</th>\n",
       "      <td>0.000000</td>\n",
       "    </tr>\n",
       "  </tbody>\n",
       "</table>\n",
       "</div>"
      ],
      "text/plain": [
       "          Duración de entrega del examen\n",
       "timeline                                \n",
       "0.0                             1.000000\n",
       "85.0                            0.941176\n",
       "87.0                            0.882353\n",
       "90.0                            0.823529\n",
       "99.0                            0.764706\n",
       "103.0                           0.705882\n",
       "106.0                           0.647059\n",
       "108.0                           0.529412\n",
       "109.0                           0.470588\n",
       "111.0                           0.411765\n",
       "112.0                           0.352941\n",
       "115.0                           0.294118\n",
       "116.0                           0.235294\n",
       "118.0                           0.176471\n",
       "119.0                           0.058824\n",
       "120.0                           0.000000"
      ]
     },
     "execution_count": 26,
     "metadata": {},
     "output_type": "execute_result"
    }
   ],
   "source": [
    "kmf.survival_function_"
   ]
  },
  {
   "cell_type": "code",
   "execution_count": 27,
   "id": "59520a31",
   "metadata": {},
   "outputs": [
    {
     "data": {
      "text/html": [
       "<div>\n",
       "<style scoped>\n",
       "    .dataframe tbody tr th:only-of-type {\n",
       "        vertical-align: middle;\n",
       "    }\n",
       "\n",
       "    .dataframe tbody tr th {\n",
       "        vertical-align: top;\n",
       "    }\n",
       "\n",
       "    .dataframe thead th {\n",
       "        text-align: right;\n",
       "    }\n",
       "</style>\n",
       "<table border=\"1\" class=\"dataframe\">\n",
       "  <thead>\n",
       "    <tr style=\"text-align: right;\">\n",
       "      <th></th>\n",
       "      <th>Duración de entrega del examen_lower_0.95</th>\n",
       "      <th>Duración de entrega del examen_upper_0.95</th>\n",
       "    </tr>\n",
       "  </thead>\n",
       "  <tbody>\n",
       "    <tr>\n",
       "      <th>0.0</th>\n",
       "      <td>1.000000</td>\n",
       "      <td>1.000000</td>\n",
       "    </tr>\n",
       "    <tr>\n",
       "      <th>85.0</th>\n",
       "      <td>0.650179</td>\n",
       "      <td>0.991499</td>\n",
       "    </tr>\n",
       "    <tr>\n",
       "      <th>87.0</th>\n",
       "      <td>0.605979</td>\n",
       "      <td>0.969209</td>\n",
       "    </tr>\n",
       "    <tr>\n",
       "      <th>90.0</th>\n",
       "      <td>0.547132</td>\n",
       "      <td>0.939405</td>\n",
       "    </tr>\n",
       "    <tr>\n",
       "      <th>99.0</th>\n",
       "      <td>0.488278</td>\n",
       "      <td>0.904486</td>\n",
       "    </tr>\n",
       "    <tr>\n",
       "      <th>103.0</th>\n",
       "      <td>0.431478</td>\n",
       "      <td>0.865599</td>\n",
       "    </tr>\n",
       "    <tr>\n",
       "      <th>106.0</th>\n",
       "      <td>0.377147</td>\n",
       "      <td>0.823381</td>\n",
       "    </tr>\n",
       "    <tr>\n",
       "      <th>108.0</th>\n",
       "      <td>0.276168</td>\n",
       "      <td>0.730267</td>\n",
       "    </tr>\n",
       "    <tr>\n",
       "      <th>109.0</th>\n",
       "      <td>0.229598</td>\n",
       "      <td>0.679678</td>\n",
       "    </tr>\n",
       "    <tr>\n",
       "      <th>111.0</th>\n",
       "      <td>0.185759</td>\n",
       "      <td>0.626432</td>\n",
       "    </tr>\n",
       "    <tr>\n",
       "      <th>112.0</th>\n",
       "      <td>0.144835</td>\n",
       "      <td>0.570437</td>\n",
       "    </tr>\n",
       "    <tr>\n",
       "      <th>115.0</th>\n",
       "      <td>0.107120</td>\n",
       "      <td>0.511485</td>\n",
       "    </tr>\n",
       "    <tr>\n",
       "      <th>116.0</th>\n",
       "      <td>0.073083</td>\n",
       "      <td>0.449218</td>\n",
       "    </tr>\n",
       "    <tr>\n",
       "      <th>118.0</th>\n",
       "      <td>0.043478</td>\n",
       "      <td>0.383043</td>\n",
       "    </tr>\n",
       "    <tr>\n",
       "      <th>119.0</th>\n",
       "      <td>0.003915</td>\n",
       "      <td>0.235005</td>\n",
       "    </tr>\n",
       "    <tr>\n",
       "      <th>120.0</th>\n",
       "      <td>0.000000</td>\n",
       "      <td>0.000000</td>\n",
       "    </tr>\n",
       "  </tbody>\n",
       "</table>\n",
       "</div>"
      ],
      "text/plain": [
       "       Duración de entrega del examen_lower_0.95  \\\n",
       "0.0                                     1.000000   \n",
       "85.0                                    0.650179   \n",
       "87.0                                    0.605979   \n",
       "90.0                                    0.547132   \n",
       "99.0                                    0.488278   \n",
       "103.0                                   0.431478   \n",
       "106.0                                   0.377147   \n",
       "108.0                                   0.276168   \n",
       "109.0                                   0.229598   \n",
       "111.0                                   0.185759   \n",
       "112.0                                   0.144835   \n",
       "115.0                                   0.107120   \n",
       "116.0                                   0.073083   \n",
       "118.0                                   0.043478   \n",
       "119.0                                   0.003915   \n",
       "120.0                                   0.000000   \n",
       "\n",
       "       Duración de entrega del examen_upper_0.95  \n",
       "0.0                                     1.000000  \n",
       "85.0                                    0.991499  \n",
       "87.0                                    0.969209  \n",
       "90.0                                    0.939405  \n",
       "99.0                                    0.904486  \n",
       "103.0                                   0.865599  \n",
       "106.0                                   0.823381  \n",
       "108.0                                   0.730267  \n",
       "109.0                                   0.679678  \n",
       "111.0                                   0.626432  \n",
       "112.0                                   0.570437  \n",
       "115.0                                   0.511485  \n",
       "116.0                                   0.449218  \n",
       "118.0                                   0.383043  \n",
       "119.0                                   0.235005  \n",
       "120.0                                   0.000000  "
      ]
     },
     "execution_count": 27,
     "metadata": {},
     "output_type": "execute_result"
    }
   ],
   "source": [
    "kmf.confidence_interval_"
   ]
  },
  {
   "cell_type": "markdown",
   "id": "2de4f493",
   "metadata": {},
   "source": [
    "e) Realice un gráfico donde muestre la función de supervivencia de KaplanMeier de los alumnos (m) y de las alumnas (f) con sus respectivos\n",
    "intervalos de confianza. Y comente con base en la gráfica si es posible que\n",
    "el profesor tenga razón respecto a que las alumnas responden más\n",
    "rápido el examen\n"
   ]
  },
  {
   "cell_type": "code",
   "execution_count": 28,
   "id": "8c5938dc",
   "metadata": {},
   "outputs": [],
   "source": [
    "Hombres = datos[datos['género_m']==0] \n",
    "Mujeres = datos[datos['género_m']==1] "
   ]
  },
  {
   "cell_type": "code",
   "execution_count": 29,
   "id": "86c6fdae",
   "metadata": {},
   "outputs": [
    {
     "data": {
      "image/png": "[encoded data removed]",
      "text/plain": [
       "<Figure size 640x480 with 1 Axes>"
      ]
     },
     "metadata": {},
     "output_type": "display_data"
    }
   ],
   "source": [
    "kmf1 = KaplanMeierFitter(label=\"Hombres\")\n",
    "kmf1.fit(Hombres['tiempo'], Hombres['examen'])\n",
    "\n",
    "kmf2 = KaplanMeierFitter(label=\"Mujeres\")\n",
    "kmf2.fit(Mujeres['tiempo'],Mujeres['examen']) \n",
    "\n",
    "kmf1.plot();\n",
    "kmf2.plot();"
   ]
  },
  {
   "cell_type": "code",
   "execution_count": 30,
   "id": "181ba80f",
   "metadata": {},
   "outputs": [
    {
     "data": {
      "text/html": [
       "<div>\n",
       "<style scoped>\n",
       "    .dataframe tbody tr th:only-of-type {\n",
       "        vertical-align: middle;\n",
       "    }\n",
       "\n",
       "    .dataframe tbody tr th {\n",
       "        vertical-align: top;\n",
       "    }\n",
       "\n",
       "    .dataframe thead th {\n",
       "        text-align: right;\n",
       "    }\n",
       "</style>\n",
       "<table border=\"1\" class=\"dataframe\">\n",
       "  <thead>\n",
       "    <tr style=\"text-align: right;\">\n",
       "      <th></th>\n",
       "      <th>Hombres_lower_0.95</th>\n",
       "      <th>Hombres_upper_0.95</th>\n",
       "    </tr>\n",
       "  </thead>\n",
       "  <tbody>\n",
       "    <tr>\n",
       "      <th>0.0</th>\n",
       "      <td>1.000000</td>\n",
       "      <td>1.000000</td>\n",
       "    </tr>\n",
       "    <tr>\n",
       "      <th>90.0</th>\n",
       "      <td>0.387000</td>\n",
       "      <td>0.981393</td>\n",
       "    </tr>\n",
       "    <tr>\n",
       "      <th>99.0</th>\n",
       "      <td>0.314807</td>\n",
       "      <td>0.930898</td>\n",
       "    </tr>\n",
       "    <tr>\n",
       "      <th>106.0</th>\n",
       "      <td>0.229333</td>\n",
       "      <td>0.860698</td>\n",
       "    </tr>\n",
       "    <tr>\n",
       "      <th>108.0</th>\n",
       "      <td>0.087006</td>\n",
       "      <td>0.674363</td>\n",
       "    </tr>\n",
       "    <tr>\n",
       "      <th>115.0</th>\n",
       "      <td>0.037067</td>\n",
       "      <td>0.558084</td>\n",
       "    </tr>\n",
       "    <tr>\n",
       "      <th>119.0</th>\n",
       "      <td>0.006593</td>\n",
       "      <td>0.422706</td>\n",
       "    </tr>\n",
       "    <tr>\n",
       "      <th>120.0</th>\n",
       "      <td>0.000000</td>\n",
       "      <td>0.000000</td>\n",
       "    </tr>\n",
       "  </tbody>\n",
       "</table>\n",
       "</div>"
      ],
      "text/plain": [
       "       Hombres_lower_0.95  Hombres_upper_0.95\n",
       "0.0              1.000000            1.000000\n",
       "90.0             0.387000            0.981393\n",
       "99.0             0.314807            0.930898\n",
       "106.0            0.229333            0.860698\n",
       "108.0            0.087006            0.674363\n",
       "115.0            0.037067            0.558084\n",
       "119.0            0.006593            0.422706\n",
       "120.0            0.000000            0.000000"
      ]
     },
     "execution_count": 30,
     "metadata": {},
     "output_type": "execute_result"
    }
   ],
   "source": [
    "kmf1.confidence_interval_"
   ]
  },
  {
   "cell_type": "code",
   "execution_count": 32,
   "id": "c8df3fa9",
   "metadata": {},
   "outputs": [
    {
     "data": {
      "text/html": [
       "<div>\n",
       "<style scoped>\n",
       "    .dataframe tbody tr th:only-of-type {\n",
       "        vertical-align: middle;\n",
       "    }\n",
       "\n",
       "    .dataframe tbody tr th {\n",
       "        vertical-align: top;\n",
       "    }\n",
       "\n",
       "    .dataframe thead th {\n",
       "        text-align: right;\n",
       "    }\n",
       "</style>\n",
       "<table border=\"1\" class=\"dataframe\">\n",
       "  <thead>\n",
       "    <tr style=\"text-align: right;\">\n",
       "      <th></th>\n",
       "      <th>Mujeres_lower_0.95</th>\n",
       "      <th>Mujeres_upper_0.95</th>\n",
       "    </tr>\n",
       "  </thead>\n",
       "  <tbody>\n",
       "    <tr>\n",
       "      <th>0.0</th>\n",
       "      <td>1.000000</td>\n",
       "      <td>1.000000</td>\n",
       "    </tr>\n",
       "    <tr>\n",
       "      <th>85.0</th>\n",
       "      <td>0.432965</td>\n",
       "      <td>0.983564</td>\n",
       "    </tr>\n",
       "    <tr>\n",
       "      <th>87.0</th>\n",
       "      <td>0.364751</td>\n",
       "      <td>0.939296</td>\n",
       "    </tr>\n",
       "    <tr>\n",
       "      <th>103.0</th>\n",
       "      <td>0.281682</td>\n",
       "      <td>0.878307</td>\n",
       "    </tr>\n",
       "    <tr>\n",
       "      <th>109.0</th>\n",
       "      <td>0.204242</td>\n",
       "      <td>0.804525</td>\n",
       "    </tr>\n",
       "    <tr>\n",
       "      <th>111.0</th>\n",
       "      <td>0.135872</td>\n",
       "      <td>0.719315</td>\n",
       "    </tr>\n",
       "    <tr>\n",
       "      <th>112.0</th>\n",
       "      <td>0.078289</td>\n",
       "      <td>0.622627</td>\n",
       "    </tr>\n",
       "    <tr>\n",
       "      <th>116.0</th>\n",
       "      <td>0.033711</td>\n",
       "      <td>0.513068</td>\n",
       "    </tr>\n",
       "    <tr>\n",
       "      <th>118.0</th>\n",
       "      <td>0.006129</td>\n",
       "      <td>0.387665</td>\n",
       "    </tr>\n",
       "    <tr>\n",
       "      <th>119.0</th>\n",
       "      <td>0.000000</td>\n",
       "      <td>0.000000</td>\n",
       "    </tr>\n",
       "  </tbody>\n",
       "</table>\n",
       "</div>"
      ],
      "text/plain": [
       "       Mujeres_lower_0.95  Mujeres_upper_0.95\n",
       "0.0              1.000000            1.000000\n",
       "85.0             0.432965            0.983564\n",
       "87.0             0.364751            0.939296\n",
       "103.0            0.281682            0.878307\n",
       "109.0            0.204242            0.804525\n",
       "111.0            0.135872            0.719315\n",
       "112.0            0.078289            0.622627\n",
       "116.0            0.033711            0.513068\n",
       "118.0            0.006129            0.387665\n",
       "119.0            0.000000            0.000000"
      ]
     },
     "execution_count": 32,
     "metadata": {},
     "output_type": "execute_result"
    }
   ],
   "source": [
    "kmf2.confidence_interval_"
   ]
  },
  {
   "cell_type": "markdown",
   "id": "9534c163",
   "metadata": {},
   "source": [
    "### Podemos decir conforme a la grafica que el profesor se equivoca al decir que las alumnas acaban mas rapido el examen que los hombres"
   ]
  },
  {
   "cell_type": "markdown",
   "id": "0b68c645",
   "metadata": {},
   "source": [
    "f) Realice el log rank test para probar si las funciones de supervivencia de\n",
    "alumnos y alumnas para responder el examen son iguales. Comente el\n",
    "resultado de la prueba de hipótesis y diga si el profesor tiene razón o no "
   ]
  },
  {
   "cell_type": "code",
   "execution_count": 34,
   "id": "c2625146",
   "metadata": {},
   "outputs": [],
   "source": [
    "from lifelines.statistics import logrank_test"
   ]
  },
  {
   "cell_type": "code",
   "execution_count": 36,
   "id": "8db26512",
   "metadata": {},
   "outputs": [
    {
     "data": {
      "text/html": [
       "<div>\n",
       "<style scoped>\n",
       "    .dataframe tbody tr th:only-of-type {\n",
       "        vertical-align: middle;\n",
       "    }\n",
       "\n",
       "    .dataframe tbody tr th {\n",
       "        vertical-align: top;\n",
       "    }\n",
       "\n",
       "    .dataframe thead th {\n",
       "        text-align: right;\n",
       "    }\n",
       "</style>\n",
       "<table border=\"1\" class=\"dataframe\">\n",
       "  <tbody>\n",
       "    <tr>\n",
       "      <th>t_0</th>\n",
       "      <td>-1</td>\n",
       "    </tr>\n",
       "    <tr>\n",
       "      <th>null_distribution</th>\n",
       "      <td>chi squared</td>\n",
       "    </tr>\n",
       "    <tr>\n",
       "      <th>degrees_of_freedom</th>\n",
       "      <td>1</td>\n",
       "    </tr>\n",
       "    <tr>\n",
       "      <th>test_name</th>\n",
       "      <td>logrank_test</td>\n",
       "    </tr>\n",
       "  </tbody>\n",
       "</table>\n",
       "</div><table border=\"1\" class=\"dataframe\">\n",
       "  <thead>\n",
       "    <tr style=\"text-align: right;\">\n",
       "      <th></th>\n",
       "      <th>test_statistic</th>\n",
       "      <th>p</th>\n",
       "      <th>-log2(p)</th>\n",
       "    </tr>\n",
       "  </thead>\n",
       "  <tbody>\n",
       "    <tr>\n",
       "      <th>0</th>\n",
       "      <td>0.15</td>\n",
       "      <td>0.69</td>\n",
       "      <td>0.53</td>\n",
       "    </tr>\n",
       "  </tbody>\n",
       "</table>"
      ],
      "text/latex": [
       "\\begin{tabular}{lrrr}\n",
       " & test_statistic & p & -log2(p) \\\\\n",
       "0 & 0.15 & 0.69 & 0.53 \\\\\n",
       "\\end{tabular}\n"
      ],
      "text/plain": [
       "<lifelines.StatisticalResult: logrank_test>\n",
       "               t_0 = -1\n",
       " null_distribution = chi squared\n",
       "degrees_of_freedom = 1\n",
       "         test_name = logrank_test\n",
       "\n",
       "---\n",
       " test_statistic    p  -log2(p)\n",
       "           0.15 0.69      0.53"
      ]
     },
     "metadata": {},
     "output_type": "display_data"
    }
   ],
   "source": [
    "results = logrank_test(Hombres['tiempo'], Mujeres['tiempo'], Hombres['examen'], Mujeres['examen'])\n",
    "results.print_summary()"
   ]
  },
  {
   "cell_type": "markdown",
   "id": "8e282a7e",
   "metadata": {},
   "source": [
    "### Podemos confirmar con un 95% de confianza que los alumnos y las alumnas tardan lo mismo en entregar el examen dado que p>0.005, por lo tanto el profesor esta equivocado."
   ]
  },
  {
   "cell_type": "markdown",
   "id": "aedcea6d",
   "metadata": {},
   "source": [
    "g) El profesor tambien sospecha que quienes entregan el examen más\n",
    "rápido es porque no estudiaron y cómo no saben que responder\n",
    "entregan el examen casi inmediatamente.\n",
    "Estime un modelo de cox de riesgos proporcionales donde utilice como\n",
    "variables explicativas el género y la calificación obtenida, para explicar la\n",
    "función de riesgo de entregar el examen."
   ]
  },
  {
   "cell_type": "code",
   "execution_count": 38,
   "id": "e31f89ad",
   "metadata": {},
   "outputs": [],
   "source": [
    "from lifelines import CoxPHFitter"
   ]
  },
  {
   "cell_type": "code",
   "execution_count": 44,
   "id": "825aee51",
   "metadata": {},
   "outputs": [
    {
     "data": {
      "text/html": [
       "<div>\n",
       "<style scoped>\n",
       "    .dataframe tbody tr th:only-of-type {\n",
       "        vertical-align: middle;\n",
       "    }\n",
       "\n",
       "    .dataframe tbody tr th {\n",
       "        vertical-align: top;\n",
       "    }\n",
       "\n",
       "    .dataframe thead th {\n",
       "        text-align: right;\n",
       "    }\n",
       "</style>\n",
       "<table border=\"1\" class=\"dataframe\">\n",
       "  <tbody>\n",
       "    <tr>\n",
       "      <th>model</th>\n",
       "      <td>lifelines.CoxPHFitter</td>\n",
       "    </tr>\n",
       "    <tr>\n",
       "      <th>duration col</th>\n",
       "      <td>'tiempo'</td>\n",
       "    </tr>\n",
       "    <tr>\n",
       "      <th>event col</th>\n",
       "      <td>'examen'</td>\n",
       "    </tr>\n",
       "    <tr>\n",
       "      <th>baseline estimation</th>\n",
       "      <td>breslow</td>\n",
       "    </tr>\n",
       "    <tr>\n",
       "      <th>number of observations</th>\n",
       "      <td>17</td>\n",
       "    </tr>\n",
       "    <tr>\n",
       "      <th>number of events observed</th>\n",
       "      <td>17</td>\n",
       "    </tr>\n",
       "    <tr>\n",
       "      <th>partial log-likelihood</th>\n",
       "      <td>-33.31</td>\n",
       "    </tr>\n",
       "    <tr>\n",
       "      <th>time fit was run</th>\n",
       "      <td>2022-10-06 01:21:40 UTC</td>\n",
       "    </tr>\n",
       "  </tbody>\n",
       "</table>\n",
       "</div><table border=\"1\" class=\"dataframe\">\n",
       "  <thead>\n",
       "    <tr style=\"text-align: right;\">\n",
       "      <th style=\"min-width: 12px;\"></th>\n",
       "      <th style=\"min-width: 12px;\">coef</th>\n",
       "      <th style=\"min-width: 12px;\">exp(coef)</th>\n",
       "      <th style=\"min-width: 12px;\">se(coef)</th>\n",
       "      <th style=\"min-width: 12px;\">coef lower 95%</th>\n",
       "      <th style=\"min-width: 12px;\">coef upper 95%</th>\n",
       "      <th style=\"min-width: 12px;\">exp(coef) lower 95%</th>\n",
       "      <th style=\"min-width: 12px;\">exp(coef) upper 95%</th>\n",
       "      <th style=\"min-width: 12px;\">cmp to</th>\n",
       "      <th style=\"min-width: 12px;\">z</th>\n",
       "      <th style=\"min-width: 12px;\">p</th>\n",
       "      <th style=\"min-width: 12px;\">-log2(p)</th>\n",
       "    </tr>\n",
       "  </thead>\n",
       "  <tbody>\n",
       "    <tr>\n",
       "      <th>id</th>\n",
       "      <td>0.10</td>\n",
       "      <td>1.10</td>\n",
       "      <td>0.24</td>\n",
       "      <td>-0.36</td>\n",
       "      <td>0.56</td>\n",
       "      <td>0.70</td>\n",
       "      <td>1.75</td>\n",
       "      <td>0.00</td>\n",
       "      <td>0.42</td>\n",
       "      <td>0.67</td>\n",
       "      <td>0.57</td>\n",
       "    </tr>\n",
       "    <tr>\n",
       "      <th>calificación</th>\n",
       "      <td>0.06</td>\n",
       "      <td>1.06</td>\n",
       "      <td>0.13</td>\n",
       "      <td>-0.19</td>\n",
       "      <td>0.30</td>\n",
       "      <td>0.83</td>\n",
       "      <td>1.36</td>\n",
       "      <td>0.00</td>\n",
       "      <td>0.47</td>\n",
       "      <td>0.64</td>\n",
       "      <td>0.64</td>\n",
       "    </tr>\n",
       "    <tr>\n",
       "      <th>género_m</th>\n",
       "      <td>0.50</td>\n",
       "      <td>1.66</td>\n",
       "      <td>0.80</td>\n",
       "      <td>-1.07</td>\n",
       "      <td>2.08</td>\n",
       "      <td>0.34</td>\n",
       "      <td>7.99</td>\n",
       "      <td>0.00</td>\n",
       "      <td>0.63</td>\n",
       "      <td>0.53</td>\n",
       "      <td>0.92</td>\n",
       "    </tr>\n",
       "  </tbody>\n",
       "</table><br><div>\n",
       "<style scoped>\n",
       "    .dataframe tbody tr th:only-of-type {\n",
       "        vertical-align: middle;\n",
       "    }\n",
       "\n",
       "    .dataframe tbody tr th {\n",
       "        vertical-align: top;\n",
       "    }\n",
       "\n",
       "    .dataframe thead th {\n",
       "        text-align: right;\n",
       "    }\n",
       "</style>\n",
       "<table border=\"1\" class=\"dataframe\">\n",
       "  <tbody>\n",
       "    <tr>\n",
       "      <th>Concordance</th>\n",
       "      <td>0.51</td>\n",
       "    </tr>\n",
       "    <tr>\n",
       "      <th>Partial AIC</th>\n",
       "      <td>72.61</td>\n",
       "    </tr>\n",
       "    <tr>\n",
       "      <th>log-likelihood ratio test</th>\n",
       "      <td>0.40 on 3 df</td>\n",
       "    </tr>\n",
       "    <tr>\n",
       "      <th>-log2(p) of ll-ratio test</th>\n",
       "      <td>0.09</td>\n",
       "    </tr>\n",
       "  </tbody>\n",
       "</table>\n",
       "</div>"
      ],
      "text/latex": [
       "\\begin{tabular}{lrrrrrrrrrrr}\n",
       " & coef & exp(coef) & se(coef) & coef lower 95% & coef upper 95% & exp(coef) lower 95% & exp(coef) upper 95% & cmp to & z & p & -log2(p) \\\\\n",
       "covariate &  &  &  &  &  &  &  &  &  &  &  \\\\\n",
       "id & 0.10 & 1.10 & 0.24 & -0.36 & 0.56 & 0.70 & 1.75 & 0.00 & 0.42 & 0.67 & 0.57 \\\\\n",
       "calificación & 0.06 & 1.06 & 0.13 & -0.19 & 0.30 & 0.83 & 1.36 & 0.00 & 0.47 & 0.64 & 0.64 \\\\\n",
       "género_m & 0.50 & 1.66 & 0.80 & -1.07 & 2.08 & 0.34 & 7.99 & 0.00 & 0.63 & 0.53 & 0.92 \\\\\n",
       "\\end{tabular}\n"
      ],
      "text/plain": [
       "<lifelines.CoxPHFitter: fitted with 17 total observations, 0 right-censored observations>\n",
       "             duration col = 'tiempo'\n",
       "                event col = 'examen'\n",
       "      baseline estimation = breslow\n",
       "   number of observations = 17\n",
       "number of events observed = 17\n",
       "   partial log-likelihood = -33.31\n",
       "         time fit was run = 2022-10-06 01:21:40 UTC\n",
       "\n",
       "---\n",
       "               coef  exp(coef)   se(coef)   coef lower 95%   coef upper 95%  exp(coef) lower 95%  exp(coef) upper 95%\n",
       "covariate                                                                                                            \n",
       "id             0.10       1.10       0.24            -0.36             0.56                 0.70                 1.75\n",
       "calificación   0.06       1.06       0.13            -0.19             0.30                 0.83                 1.36\n",
       "género_m       0.50       1.66       0.80            -1.07             2.08                 0.34                 7.99\n",
       "\n",
       "               cmp to    z    p   -log2(p)\n",
       "covariate                                 \n",
       "id               0.00 0.42 0.67       0.57\n",
       "calificación     0.00 0.47 0.64       0.64\n",
       "género_m         0.00 0.63 0.53       0.92\n",
       "---\n",
       "Concordance = 0.51\n",
       "Partial AIC = 72.61\n",
       "log-likelihood ratio test = 0.40 on 3 df\n",
       "-log2(p) of ll-ratio test = 0.09"
      ]
     },
     "metadata": {},
     "output_type": "display_data"
    }
   ],
   "source": [
    "cph= CoxPHFitter()\n",
    "cph.fit(datos, 'tiempo', 'examen')\n",
    "cph.print_summary()"
   ]
  },
  {
   "cell_type": "markdown",
   "id": "f86373b8",
   "metadata": {},
   "source": [
    "-Debemos notar que entre mas pequeño sea el Partial AIC, mejor. Nuestro Partial AIC es de 72.61, es un numero pequeño por lo tanto es conveniente.\n",
    "\n",
    "-También notamos que el concordance esta cerca de estar entre el intervalo deseable (.55 - .75)"
   ]
  },
  {
   "cell_type": "markdown",
   "id": "79d8eb83",
   "metadata": {},
   "source": [
    "### Calificación"
   ]
  },
  {
   "cell_type": "markdown",
   "id": "6f9f7a68",
   "metadata": {},
   "source": [
    "-Dado que el signo del coef de calificación es positivo, calificación no tiene efecto en el riesgo de entregar el examen.\n",
    "-AL igual podemos notar que p>0.005 (0.64>0.05), por lo tanto se confirma lo dicho anteriormente."
   ]
  },
  {
   "cell_type": "markdown",
   "id": "ee4b2201",
   "metadata": {},
   "source": [
    "### Género"
   ]
  },
  {
   "cell_type": "markdown",
   "id": "0b7387f4",
   "metadata": {},
   "source": [
    "-Dado que el signo del coef de género es positivo, género no tiene efecto en el riesgo de entregar el examen.\n",
    "-Tambien lo podemos corroborar con el p>0.005 (0.53>0.05)"
   ]
  },
  {
   "cell_type": "markdown",
   "id": "ee2038eb",
   "metadata": {},
   "source": [
    "#### Con todo lo anterior se puede concluir que no hay relacion entre el tiempo de entrega de examen y la calificación."
   ]
  },
  {
   "cell_type": "markdown",
   "id": "8819ab66",
   "metadata": {},
   "source": [
    "h) Interprete los coeficientes de género y calificación obtenidos por el\n",
    "modelo de cox, recuerde señalar: 1) si el coeficiente es significativo (se\n",
    "rechaza Ho), en caso de ser significativo señala si aumentan el riesgo de\n",
    "entregar el examen, y el tamaño del efecto. Recuerde añadir cph.plot()\n",
    "para ayudarse con la interpretación"
   ]
  },
  {
   "cell_type": "code",
   "execution_count": 47,
   "id": "3f5135a3",
   "metadata": {},
   "outputs": [
    {
     "data": {
      "image/png": "[encoded data removed]",
      "text/plain": [
       "<Figure size 640x480 with 1 Axes>"
      ]
     },
     "metadata": {},
     "output_type": "display_data"
    }
   ],
   "source": [
    "cph.plot();"
   ]
  },
  {
   "cell_type": "markdown",
   "id": "b5bf8ff3",
   "metadata": {},
   "source": [
    "#### Podemos interpretar que no hay significancia en el coeficiente, debido a que nunca se rechaza Ho ni para Calificación ni para género.\n",
    "#### Conlcuimos que la calificación y el genero no influyen en el riesgo de entregar el examen."
   ]
  },
  {
   "cell_type": "markdown",
   "id": "cf5a01cb",
   "metadata": {},
   "source": [
    "i) Utilice cph.plot_partial_effects_on_outcome(covariates='variable',\n",
    "values=[0,1]) para estimar las funciones de supervivencia de alumnos y\n",
    "alumnas de acuerdo con el modelo de cox ¿obtiene resultados similares\n",
    "al inciso c, es decir, coincide con las funciones de supervivencia de KaplanMeier?"
   ]
  },
  {
   "cell_type": "code",
   "execution_count": 55,
   "id": "6fe5ce06",
   "metadata": {},
   "outputs": [
    {
     "data": {
      "image/png": "[encoded data removed]",
      "text/plain": [
       "<Figure size 640x480 with 1 Axes>"
      ]
     },
     "metadata": {},
     "output_type": "display_data"
    }
   ],
   "source": [
    "cph.plot_partial_effects_on_outcome(covariates='tiempo', values=[0,1])\n",
    "kmf1.plot();\n",
    "kmf2.plot();"
   ]
  },
  {
   "cell_type": "markdown",
   "id": "801d0c02",
   "metadata": {},
   "source": [
    "### Podemos observar que si coincide con las funciones de supervivencia de KaplanMeier"
   ]
  },
  {
   "cell_type": "markdown",
   "id": "6b54453f",
   "metadata": {},
   "source": [
    "j) Por último, con base en la interpretación del modelo de cox y la\n",
    "significancia de los coeficientes, comente si el profesor tiene razón al\n",
    "señalar que las alumnas responden en menor tiempo el examen, y si el\n",
    "profesor tambien tiene razón al señalar que los que entregan el examen\n",
    "rápido no estudiaron y por tanto obtienen menores calificación"
   ]
  },
  {
   "cell_type": "markdown",
   "id": "c000ffc9",
   "metadata": {},
   "source": [
    "### Dadas las conclusiones en el método cox, podemos decir que no hay relevancia entre el tiempo de entrega del examen y el género. Tampooco hay relevancia entre el tiempo de entrega del examen y la calificación, por lo tanto, el maestro se esquivoco en ambos casos."
   ]
  }
 ],
 "metadata": {
  "kernelspec": {
   "display_name": "Python 3 (ipykernel)",
   "language": "python",
   "name": "python3"
  },
  "language_info": {
   "codemirror_mode": {
    "name": "ipython",
    "version": 3
   },
   "file_extension": ".py",
   "mimetype": "text/x-python",
   "name": "python",
   "nbconvert_exporter": "python",
   "pygments_lexer": "ipython3",
   "version": "3.10.7"
  }
 },
 "nbformat": 4,
 "nbformat_minor": 5
}

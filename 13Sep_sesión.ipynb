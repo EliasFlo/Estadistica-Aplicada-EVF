{
 "cells": [
  {
   "cell_type": "code",
   "execution_count": 4,
   "id": "9b89080b",
   "metadata": {},
   "outputs": [],
   "source": [
    "import numpy as np\n",
    "import pandas as pd \n",
    "import matplotlib.pyplot as plt\n",
    "from lifelines import ExponentialFitter"
   ]
  },
  {
   "cell_type": "code",
   "execution_count": 5,
   "id": "839d8744",
   "metadata": {},
   "outputs": [
    {
     "name": "stdout",
     "output_type": "stream",
     "text": [
      "Requirement already satisfied: lifelines in c:\\users\\lenovo\\anaconda3\\lib\\site-packages (0.27.2)\n",
      "Requirement already satisfied: autograd-gamma>=0.3 in c:\\users\\lenovo\\anaconda3\\lib\\site-packages (from lifelines) (0.5.0)\n",
      "Requirement already satisfied: autograd>=1.3 in c:\\users\\lenovo\\anaconda3\\lib\\site-packages (from lifelines) (1.4)\n",
      "Requirement already satisfied: scipy>=1.2.0 in c:\\users\\lenovo\\anaconda3\\lib\\site-packages (from lifelines) (1.7.3)\n",
      "Requirement already satisfied: matplotlib>=3.0 in c:\\users\\lenovo\\anaconda3\\lib\\site-packages (from lifelines) (3.5.1)\n",
      "Requirement already satisfied: formulaic>=0.2.2 in c:\\users\\lenovo\\anaconda3\\lib\\site-packages (from lifelines) (0.5.1)\n",
      "Requirement already satisfied: numpy>=1.14.0 in c:\\users\\lenovo\\anaconda3\\lib\\site-packages (from lifelines) (1.21.5)\n",
      "Requirement already satisfied: pandas>=1.0.0 in c:\\users\\lenovo\\anaconda3\\lib\\site-packages (from lifelines) (1.4.2)\n",
      "Requirement already satisfied: future>=0.15.2 in c:\\users\\lenovo\\anaconda3\\lib\\site-packages (from autograd>=1.3->lifelines) (0.18.2)\n",
      "Requirement already satisfied: typing-extensions>=4.2.0 in c:\\users\\lenovo\\anaconda3\\lib\\site-packages (from formulaic>=0.2.2->lifelines) (4.3.0)\n",
      "Requirement already satisfied: wrapt>=1.0 in c:\\users\\lenovo\\anaconda3\\lib\\site-packages (from formulaic>=0.2.2->lifelines) (1.12.1)\n",
      "Requirement already satisfied: interface-meta>=1.2.0 in c:\\users\\lenovo\\anaconda3\\lib\\site-packages (from formulaic>=0.2.2->lifelines) (1.3.0)\n",
      "Requirement already satisfied: astor>=0.8 in c:\\users\\lenovo\\anaconda3\\lib\\site-packages (from formulaic>=0.2.2->lifelines) (0.8.1)\n",
      "Requirement already satisfied: python-dateutil>=2.7 in c:\\users\\lenovo\\anaconda3\\lib\\site-packages (from matplotlib>=3.0->lifelines) (2.8.2)\n",
      "Requirement already satisfied: pillow>=6.2.0 in c:\\users\\lenovo\\anaconda3\\lib\\site-packages (from matplotlib>=3.0->lifelines) (9.0.1)\n",
      "Requirement already satisfied: cycler>=0.10 in c:\\users\\lenovo\\anaconda3\\lib\\site-packages (from matplotlib>=3.0->lifelines) (0.11.0)\n",
      "Requirement already satisfied: packaging>=20.0 in c:\\users\\lenovo\\anaconda3\\lib\\site-packages (from matplotlib>=3.0->lifelines) (21.3)\n",
      "Requirement already satisfied: fonttools>=4.22.0 in c:\\users\\lenovo\\anaconda3\\lib\\site-packages (from matplotlib>=3.0->lifelines) (4.25.0)\n",
      "Requirement already satisfied: kiwisolver>=1.0.1 in c:\\users\\lenovo\\anaconda3\\lib\\site-packages (from matplotlib>=3.0->lifelines) (1.3.2)\n",
      "Requirement already satisfied: pyparsing>=2.2.1 in c:\\users\\lenovo\\anaconda3\\lib\\site-packages (from matplotlib>=3.0->lifelines) (3.0.4)\n",
      "Requirement already satisfied: pytz>=2020.1 in c:\\users\\lenovo\\anaconda3\\lib\\site-packages (from pandas>=1.0.0->lifelines) (2021.3)\n",
      "Requirement already satisfied: six>=1.5 in c:\\users\\lenovo\\anaconda3\\lib\\site-packages (from python-dateutil>=2.7->matplotlib>=3.0->lifelines) (1.16.0)\n",
      "Note: you may need to restart the kernel to use updated packages.\n"
     ]
    }
   ],
   "source": [
    "pip install lifelines"
   ]
  },
  {
   "cell_type": "code",
   "execution_count": 8,
   "id": "9f3c877e",
   "metadata": {},
   "outputs": [],
   "source": [
    "datos = pd.read_csv('https://raw.githubusercontent.com/jimmyzac/Estadistica-Aplicada-FCFM-UANL/main/bases_datos/ejercicio_expo.csv')"
   ]
  },
  {
   "cell_type": "code",
   "execution_count": 11,
   "id": "6dfbd441",
   "metadata": {},
   "outputs": [
    {
     "data": {
      "text/plain": [
       "0.03333333333333333"
      ]
     },
     "execution_count": 11,
     "metadata": {},
     "output_type": "execute_result"
    }
   ],
   "source": [
    "estimador_lamda = datos[' estado'].sum() /datos[' tiempo'].sum()\n",
    "estimador_lamda"
   ]
  },
  {
   "cell_type": "code",
   "execution_count": 27,
   "id": "4d12a96b",
   "metadata": {},
   "outputs": [],
   "source": [
    "exf = ExponentialFitter().fit(datos[' tiempo'], datos[' estado'])"
   ]
  },
  {
   "cell_type": "code",
   "execution_count": 28,
   "id": "3e3581e8",
   "metadata": {},
   "outputs": [
    {
     "data": {
      "text/html": [
       "<div>\n",
       "<style scoped>\n",
       "    .dataframe tbody tr th:only-of-type {\n",
       "        vertical-align: middle;\n",
       "    }\n",
       "\n",
       "    .dataframe tbody tr th {\n",
       "        vertical-align: top;\n",
       "    }\n",
       "\n",
       "    .dataframe thead th {\n",
       "        text-align: right;\n",
       "    }\n",
       "</style>\n",
       "<table border=\"1\" class=\"dataframe\">\n",
       "  <thead>\n",
       "    <tr style=\"text-align: right;\">\n",
       "      <th></th>\n",
       "      <th>Exponential_estimate</th>\n",
       "    </tr>\n",
       "  </thead>\n",
       "  <tbody>\n",
       "    <tr>\n",
       "      <th>5.0</th>\n",
       "      <td>0.033333</td>\n",
       "    </tr>\n",
       "    <tr>\n",
       "      <th>8.0</th>\n",
       "      <td>0.033333</td>\n",
       "    </tr>\n",
       "    <tr>\n",
       "      <th>11.0</th>\n",
       "      <td>0.033333</td>\n",
       "    </tr>\n",
       "    <tr>\n",
       "      <th>14.0</th>\n",
       "      <td>0.033333</td>\n",
       "    </tr>\n",
       "    <tr>\n",
       "      <th>17.0</th>\n",
       "      <td>0.033333</td>\n",
       "    </tr>\n",
       "    <tr>\n",
       "      <th>20.0</th>\n",
       "      <td>0.033333</td>\n",
       "    </tr>\n",
       "    <tr>\n",
       "      <th>23.0</th>\n",
       "      <td>0.033333</td>\n",
       "    </tr>\n",
       "    <tr>\n",
       "      <th>26.0</th>\n",
       "      <td>0.033333</td>\n",
       "    </tr>\n",
       "    <tr>\n",
       "      <th>29.0</th>\n",
       "      <td>0.033333</td>\n",
       "    </tr>\n",
       "    <tr>\n",
       "      <th>32.0</th>\n",
       "      <td>0.033333</td>\n",
       "    </tr>\n",
       "  </tbody>\n",
       "</table>\n",
       "</div>"
      ],
      "text/plain": [
       "      Exponential_estimate\n",
       "5.0               0.033333\n",
       "8.0               0.033333\n",
       "11.0              0.033333\n",
       "14.0              0.033333\n",
       "17.0              0.033333\n",
       "20.0              0.033333\n",
       "23.0              0.033333\n",
       "26.0              0.033333\n",
       "29.0              0.033333\n",
       "32.0              0.033333"
      ]
     },
     "execution_count": 28,
     "metadata": {},
     "output_type": "execute_result"
    }
   ],
   "source": [
    "exf.hazard_"
   ]
  },
  {
   "cell_type": "code",
   "execution_count": 30,
   "id": "f60574db",
   "metadata": {},
   "outputs": [
    {
     "data": {
      "image/png": "[encoded data removed]",
      "text/plain": [
       "<Figure size 432x288 with 1 Axes>"
      ]
     },
     "metadata": {
      "needs_background": "light"
     },
     "output_type": "display_data"
    }
   ],
   "source": [
    "exf.plot_survival_function()\n",
    "plt.show()\n"
   ]
  },
  {
   "cell_type": "code",
   "execution_count": 32,
   "id": "43ab4b98",
   "metadata": {},
   "outputs": [
    {
     "data": {
      "text/plain": [
       "<AxesSubplot:>"
      ]
     },
     "execution_count": 32,
     "metadata": {},
     "output_type": "execute_result"
    },
    {
     "data": {
      "image/png": "[encoded data removed]",
      "text/plain": [
       "<Figure size 432x288 with 1 Axes>"
      ]
     },
     "metadata": {
      "needs_background": "light"
     },
     "output_type": "display_data"
    }
   ],
   "source": [
    "exf.plot_hazard()"
   ]
  },
  {
   "cell_type": "code",
   "execution_count": 34,
   "id": "7510bb6d",
   "metadata": {},
   "outputs": [
    {
     "data": {
      "text/plain": [
       "20.794415437592868"
      ]
     },
     "execution_count": 34,
     "metadata": {},
     "output_type": "execute_result"
    }
   ],
   "source": [
    "exf.median_survival_time_"
   ]
  },
  {
   "cell_type": "code",
   "execution_count": 35,
   "id": "92b26cfe",
   "metadata": {},
   "outputs": [
    {
     "data": {
      "text/plain": [
       "16    0.586646\n",
       "Name: Exponential_estimate, dtype: float64"
      ]
     },
     "execution_count": 35,
     "metadata": {},
     "output_type": "execute_result"
    }
   ],
   "source": [
    "exf.survival_function_at_times(16)"
   ]
  }
 ],
 "metadata": {
  "kernelspec": {
   "display_name": "Python 3 (ipykernel)",
   "language": "python",
   "name": "python3"
  },
  "language_info": {
   "codemirror_mode": {
    "name": "ipython",
    "version": 3
   },
   "file_extension": ".py",
   "mimetype": "text/x-python",
   "name": "python",
   "nbconvert_exporter": "python",
   "pygments_lexer": "ipython3",
   "version": "3.9.12"
  }
 },
 "nbformat": 4,
 "nbformat_minor": 5
}

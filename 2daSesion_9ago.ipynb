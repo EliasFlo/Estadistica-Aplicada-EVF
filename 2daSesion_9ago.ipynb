{
 "cells": [
  {
   "cell_type": "markdown",
   "id": "4b512276-912a-4d0b-94bb-6799543d07a7",
   "metadata": {},
   "source": [
    "# Segunda sesion"
   ]
  },
  {
   "cell_type": "markdown",
   "id": "bc88c1da-940d-47ce-bb49-06404bd87203",
   "metadata": {},
   "source": [
    "# 9 agosto"
   ]
  },
  {
   "cell_type": "code",
   "execution_count": 3,
   "id": "1ade3627-07a1-4791-a211-f02113759bf1",
   "metadata": {
    "tags": []
   },
   "outputs": [],
   "source": [
    "alumno1 = ['Juan', 'Perez', 23]"
   ]
  },
  {
   "cell_type": "code",
   "execution_count": null,
   "id": "48151ecc-ef6c-400b-8ef7-7d3e58c6441a",
   "metadata": {},
   "outputs": [],
   "source": [
    "alumno1"
   ]
  },
  {
   "cell_type": "code",
   "execution_count": 4,
   "id": "56c506b5-6034-418d-836a-d2e6abad0bb7",
   "metadata": {
    "tags": []
   },
   "outputs": [
    {
     "data": {
      "text/plain": [
       "['Juan', 'Perez', 23]"
      ]
     },
     "execution_count": 4,
     "metadata": {},
     "output_type": "execute_result"
    }
   ],
   "source": [
    "['Juan', 'Perez', 23]"
   ]
  },
  {
   "cell_type": "code",
   "execution_count": 5,
   "id": "48e7e673-e37e-44e6-90ba-6cd1a3d3d05d",
   "metadata": {
    "tags": []
   },
   "outputs": [],
   "source": [
    "estadistica_g4 = ['Juan', 'Perez', 'Jimena', 'Alejandra']"
   ]
  },
  {
   "cell_type": "code",
   "execution_count": 6,
   "id": "525bea7d-8aa1-4940-9d54-8e1ddab49501",
   "metadata": {},
   "outputs": [
    {
     "data": {
      "text/plain": [
       "list"
      ]
     },
     "execution_count": 6,
     "metadata": {},
     "output_type": "execute_result"
    }
   ],
   "source": [
    "type(estadistica_g4)"
   ]
  },
  {
   "cell_type": "code",
   "execution_count": 7,
   "id": "0fcdc7dc-07b7-438f-acb6-ab5e3039c243",
   "metadata": {},
   "outputs": [
    {
     "data": {
      "text/plain": [
       "'Juan'"
      ]
     },
     "execution_count": 7,
     "metadata": {},
     "output_type": "execute_result"
    }
   ],
   "source": [
    "estadistica_g4[0]"
   ]
  },
  {
   "cell_type": "code",
   "execution_count": 8,
   "id": "692c35f8-0ac5-4c36-952b-3b8d85683606",
   "metadata": {},
   "outputs": [
    {
     "data": {
      "text/plain": [
       "('Juan', 'Jimena')"
      ]
     },
     "execution_count": 8,
     "metadata": {},
     "output_type": "execute_result"
    }
   ],
   "source": [
    "estadistica_g4[0],estadistica_g4[2]"
   ]
  },
  {
   "cell_type": "code",
   "execution_count": 9,
   "id": "a2607d3a-c378-436c-a146-97a07d89db9a",
   "metadata": {},
   "outputs": [
    {
     "data": {
      "text/plain": [
       "['Juan', 'Perez', 'Jimena']"
      ]
     },
     "execution_count": 9,
     "metadata": {},
     "output_type": "execute_result"
    }
   ],
   "source": [
    "estadistica_g4[0:3]"
   ]
  },
  {
   "cell_type": "code",
   "execution_count": 10,
   "id": "87b14cbd-0292-48c0-aa07-debb356ebbdc",
   "metadata": {},
   "outputs": [
    {
     "data": {
      "text/plain": [
       "'Alejandra'"
      ]
     },
     "execution_count": 10,
     "metadata": {},
     "output_type": "execute_result"
    }
   ],
   "source": [
    "estadistica_g4[-1]"
   ]
  },
  {
   "cell_type": "code",
   "execution_count": 15,
   "id": "346f2cb2-5afe-4e2c-a033-9812d5410ebb",
   "metadata": {},
   "outputs": [],
   "source": [
    "estadistica_g4.append('Elias')"
   ]
  },
  {
   "cell_type": "code",
   "execution_count": 16,
   "id": "e46e3d23-16cd-46d5-99ad-def82c666d24",
   "metadata": {},
   "outputs": [
    {
     "data": {
      "text/plain": [
       "['Juan',\n",
       " 'Perez',\n",
       " 'Jimena',\n",
       " 'Alejandra',\n",
       " 'Elias',\n",
       " 'Elias',\n",
       " 'Elias',\n",
       " 'Elias',\n",
       " 'Elias']"
      ]
     },
     "execution_count": 16,
     "metadata": {},
     "output_type": "execute_result"
    }
   ],
   "source": [
    "estadistica_g4"
   ]
  },
  {
   "cell_type": "code",
   "execution_count": 18,
   "id": "3b397428-1cc8-4181-8957-a769f65f3a3e",
   "metadata": {},
   "outputs": [],
   "source": [
    "estadistica_g4.remove('Elias')"
   ]
  },
  {
   "cell_type": "code",
   "execution_count": 19,
   "id": "8d994359-99a0-4c5d-9129-71d4154569ce",
   "metadata": {},
   "outputs": [
    {
     "data": {
      "text/plain": [
       "['Juan', 'Perez', 'Jimena', 'Alejandra', 'Elias', 'Elias', 'Elias']"
      ]
     },
     "execution_count": 19,
     "metadata": {},
     "output_type": "execute_result"
    }
   ],
   "source": [
    "estadistica_g4"
   ]
  },
  {
   "cell_type": "code",
   "execution_count": 21,
   "id": "4ef2b4a7-23e3-46c1-8026-76fb7ee8b308",
   "metadata": {},
   "outputs": [],
   "source": [
    "estadistica_g4.remove('Elias')"
   ]
  },
  {
   "cell_type": "code",
   "execution_count": 24,
   "id": "3d03bfdd-b2df-453a-935e-c668c96c3d88",
   "metadata": {},
   "outputs": [
    {
     "data": {
      "text/plain": [
       "['Juan', 'Perez', 'Jimena', 'Alejandra', 'Elias']"
      ]
     },
     "execution_count": 24,
     "metadata": {},
     "output_type": "execute_result"
    }
   ],
   "source": [
    "estadistica_g4"
   ]
  },
  {
   "cell_type": "markdown",
   "id": "f111ec08-140a-44b5-88bd-8b25b7011d01",
   "metadata": {},
   "source": [
    "## Librerias"
   ]
  },
  {
   "cell_type": "code",
   "execution_count": 28,
   "id": "5994ee7a-385f-42b4-bfca-c7e290319882",
   "metadata": {},
   "outputs": [
    {
     "name": "stdout",
     "output_type": "stream",
     "text": [
      "Requirement already satisfied: yfinance in c:\\users\\lenovo\\anaconda3\\lib\\site-packages (0.1.74)\n",
      "Requirement already satisfied: pandas>=0.24.0 in c:\\users\\lenovo\\anaconda3\\lib\\site-packages (from yfinance) (1.4.2)\n",
      "Requirement already satisfied: requests>=2.26 in c:\\users\\lenovo\\anaconda3\\lib\\site-packages (from yfinance) (2.27.1)\n",
      "Requirement already satisfied: numpy>=1.15 in c:\\users\\lenovo\\anaconda3\\lib\\site-packages (from yfinance) (1.21.5)\n",
      "Requirement already satisfied: multitasking>=0.0.7 in c:\\users\\lenovo\\anaconda3\\lib\\site-packages (from yfinance) (0.0.11)\n",
      "Requirement already satisfied: lxml>=4.5.1 in c:\\users\\lenovo\\anaconda3\\lib\\site-packages (from yfinance) (4.8.0)\n",
      "Requirement already satisfied: python-dateutil>=2.8.1 in c:\\users\\lenovo\\anaconda3\\lib\\site-packages (from pandas>=0.24.0->yfinance) (2.8.2)\n",
      "Requirement already satisfied: pytz>=2020.1 in c:\\users\\lenovo\\anaconda3\\lib\\site-packages (from pandas>=0.24.0->yfinance) (2021.3)\n",
      "Requirement already satisfied: six>=1.5 in c:\\users\\lenovo\\anaconda3\\lib\\site-packages (from python-dateutil>=2.8.1->pandas>=0.24.0->yfinance) (1.16.0)\n",
      "Requirement already satisfied: certifi>=2017.4.17 in c:\\users\\lenovo\\anaconda3\\lib\\site-packages (from requests>=2.26->yfinance) (2021.10.8)\n",
      "Requirement already satisfied: urllib3<1.27,>=1.21.1 in c:\\users\\lenovo\\anaconda3\\lib\\site-packages (from requests>=2.26->yfinance) (1.26.9)\n",
      "Requirement already satisfied: idna<4,>=2.5 in c:\\users\\lenovo\\anaconda3\\lib\\site-packages (from requests>=2.26->yfinance) (3.3)\n",
      "Requirement already satisfied: charset-normalizer~=2.0.0 in c:\\users\\lenovo\\anaconda3\\lib\\site-packages (from requests>=2.26->yfinance) (2.0.4)\n",
      "Note: you may need to restart the kernel to use updated packages.\n"
     ]
    }
   ],
   "source": [
    "pip install yfinance"
   ]
  },
  {
   "cell_type": "code",
   "execution_count": 30,
   "id": "34960f82-66c6-4d83-8b45-594f233fa2dc",
   "metadata": {},
   "outputs": [],
   "source": [
    "import yfinance"
   ]
  },
  {
   "cell_type": "markdown",
   "id": "1eeba39b-739f-4980-b3c9-3fb2a0dfe256",
   "metadata": {},
   "source": [
    "# Numpy"
   ]
  },
  {
   "cell_type": "code",
   "execution_count": 31,
   "id": "1830ebfd-eb3b-464f-95f5-322a3b50ee91",
   "metadata": {},
   "outputs": [],
   "source": [
    "import numpy as np"
   ]
  },
  {
   "cell_type": "code",
   "execution_count": 32,
   "id": "ad54dfe1-dcdf-41d5-b8ba-78b564eb8766",
   "metadata": {},
   "outputs": [],
   "source": [
    "edades = [12, 23 ,34, 45 ,56]"
   ]
  },
  {
   "cell_type": "code",
   "execution_count": 33,
   "id": "c95182e6-b6f3-4dbe-964f-3cabd8627ab0",
   "metadata": {},
   "outputs": [
    {
     "data": {
      "text/plain": [
       "list"
      ]
     },
     "execution_count": 33,
     "metadata": {},
     "output_type": "execute_result"
    }
   ],
   "source": [
    "type(edades)"
   ]
  },
  {
   "cell_type": "code",
   "execution_count": 34,
   "id": "19fc7ce8-3dec-444c-8741-aad02bfb8ae9",
   "metadata": {},
   "outputs": [],
   "source": [
    "edades = np.array(edades)"
   ]
  },
  {
   "cell_type": "code",
   "execution_count": 35,
   "id": "99ce5aa3-d2c5-46a9-8c16-29136078c5fd",
   "metadata": {},
   "outputs": [
    {
     "data": {
      "text/plain": [
       "numpy.ndarray"
      ]
     },
     "execution_count": 35,
     "metadata": {},
     "output_type": "execute_result"
    }
   ],
   "source": [
    "type(edades)"
   ]
  },
  {
   "cell_type": "code",
   "execution_count": 37,
   "id": "4fb39136-7ec9-4cd6-a48d-1d7afeccceb6",
   "metadata": {},
   "outputs": [
    {
     "data": {
      "text/plain": [
       "170"
      ]
     },
     "execution_count": 37,
     "metadata": {},
     "output_type": "execute_result"
    }
   ],
   "source": [
    "np.sum(edades)"
   ]
  },
  {
   "cell_type": "code",
   "execution_count": 38,
   "id": "00358192-f5d1-433e-875f-aa142a74d157",
   "metadata": {},
   "outputs": [
    {
     "data": {
      "text/plain": [
       "34.0"
      ]
     },
     "execution_count": 38,
     "metadata": {},
     "output_type": "execute_result"
    }
   ],
   "source": [
    "np.mean(edades)"
   ]
  },
  {
   "cell_type": "code",
   "execution_count": 40,
   "id": "571ebaad-4318-4b97-9a47-1edc293a9869",
   "metadata": {},
   "outputs": [
    {
     "data": {
      "text/plain": [
       "23647680"
      ]
     },
     "execution_count": 40,
     "metadata": {},
     "output_type": "execute_result"
    }
   ],
   "source": [
    "np.prod(edades)"
   ]
  },
  {
   "cell_type": "code",
   "execution_count": 42,
   "id": "a9003ca5-c0ad-467f-af02-b4657d3b55e9",
   "metadata": {},
   "outputs": [
    {
     "data": {
      "text/plain": [
       "242.0"
      ]
     },
     "execution_count": 42,
     "metadata": {},
     "output_type": "execute_result"
    }
   ],
   "source": [
    "np.var(edades)"
   ]
  },
  {
   "cell_type": "code",
   "execution_count": 44,
   "id": "89836db5-4ec0-4ccd-8fec-2dd85f8cba4d",
   "metadata": {},
   "outputs": [
    {
     "data": {
      "text/plain": [
       "302.5"
      ]
     },
     "execution_count": 44,
     "metadata": {},
     "output_type": "execute_result"
    }
   ],
   "source": [
    "np.var(edades,ddof=1)"
   ]
  },
  {
   "cell_type": "code",
   "execution_count": 46,
   "id": "27a5deb9-e114-41ec-9cf1-8ef240ece0af",
   "metadata": {},
   "outputs": [
    {
     "data": {
      "text/plain": [
       "15.556349186104045"
      ]
     },
     "execution_count": 46,
     "metadata": {},
     "output_type": "execute_result"
    }
   ],
   "source": [
    "np.std(edades)"
   ]
  },
  {
   "cell_type": "code",
   "execution_count": 48,
   "id": "39d97047-8116-4dc9-af2a-ae728e22082b",
   "metadata": {},
   "outputs": [
    {
     "data": {
      "text/plain": [
       "17.392527130926087"
      ]
     },
     "execution_count": 48,
     "metadata": {},
     "output_type": "execute_result"
    }
   ],
   "source": [
    "np.std(edades,ddof=1)"
   ]
  },
  {
   "cell_type": "code",
   "execution_count": 51,
   "id": "c8aee315-5fc6-4013-9a6c-b0216ee7369b",
   "metadata": {},
   "outputs": [
    {
     "data": {
      "text/plain": [
       "array([0, 1, 2, 3, 4, 5, 6, 7, 8])"
      ]
     },
     "execution_count": 51,
     "metadata": {},
     "output_type": "execute_result"
    }
   ],
   "source": [
    "np.arange(9)"
   ]
  },
  {
   "cell_type": "code",
   "execution_count": 53,
   "id": "5b67b77c-6d50-4dad-be53-065f0a4f7e78",
   "metadata": {},
   "outputs": [
    {
     "data": {
      "text/plain": [
       "array([ 0, 15, 30, 45, 60, 75, 90])"
      ]
     },
     "execution_count": 53,
     "metadata": {},
     "output_type": "execute_result"
    }
   ],
   "source": [
    "np.arange(0,101,15)"
   ]
  },
  {
   "cell_type": "code",
   "execution_count": 55,
   "id": "1b078e92-ceb8-4a44-a652-d5824a309af1",
   "metadata": {},
   "outputs": [
    {
     "data": {
      "text/plain": [
       "array([0., 0., 0., 0., 0.])"
      ]
     },
     "execution_count": 55,
     "metadata": {},
     "output_type": "execute_result"
    }
   ],
   "source": [
    "np.zeros(5)"
   ]
  },
  {
   "cell_type": "code",
   "execution_count": 57,
   "id": "8d2c6a25-d745-47f1-b7e7-37bc166c4e22",
   "metadata": {},
   "outputs": [
    {
     "data": {
      "text/plain": [
       "array([1., 1., 1., 1., 1., 1.])"
      ]
     },
     "execution_count": 57,
     "metadata": {},
     "output_type": "execute_result"
    }
   ],
   "source": [
    "np.ones(6)"
   ]
  },
  {
   "cell_type": "code",
   "execution_count": 59,
   "id": "2b5474e3-ccc6-4e97-9d5b-eb996376759d",
   "metadata": {},
   "outputs": [
    {
     "data": {
      "text/plain": [
       "array([8, 8, 8, 8, 8, 8])"
      ]
     },
     "execution_count": 59,
     "metadata": {},
     "output_type": "execute_result"
    }
   ],
   "source": [
    "np.full(6,8)"
   ]
  },
  {
   "cell_type": "code",
   "execution_count": 80,
   "id": "86ca681e-d480-4ad5-aa4d-2643263f8361",
   "metadata": {
    "tags": []
   },
   "outputs": [],
   "source": [
    "np.random.seed(5)\n",
    "aleatorios = np.random.randint(0,25,10)"
   ]
  },
  {
   "cell_type": "code",
   "execution_count": 81,
   "id": "ad2fffcf-a5e1-4a2a-8093-2ef676de2e50",
   "metadata": {},
   "outputs": [
    {
     "data": {
      "text/plain": [
       "array([ 3, 14, 15,  6, 22, 16,  9,  8,  4,  7])"
      ]
     },
     "execution_count": 81,
     "metadata": {},
     "output_type": "execute_result"
    }
   ],
   "source": [
    "aleatorios"
   ]
  },
  {
   "cell_type": "code",
   "execution_count": 85,
   "id": "47e3a270-1b57-4936-9cfe-12044708b3ba",
   "metadata": {},
   "outputs": [],
   "source": [
    "aleatorios = np.sort(aleatorios)"
   ]
  },
  {
   "cell_type": "code",
   "execution_count": 87,
   "id": "8e9f6406-0cc7-401c-9017-9620f090b98a",
   "metadata": {},
   "outputs": [
    {
     "data": {
      "text/plain": [
       "array([ 3,  4,  6,  7,  8,  9, 14, 15, 16, 22])"
      ]
     },
     "execution_count": 87,
     "metadata": {},
     "output_type": "execute_result"
    }
   ],
   "source": [
    "aleatorios"
   ]
  },
  {
   "cell_type": "code",
   "execution_count": 89,
   "id": "02bb7a85-2376-4a01-9e03-e0d66f8a3b5b",
   "metadata": {},
   "outputs": [
    {
     "data": {
      "text/plain": [
       "6"
      ]
     },
     "execution_count": 89,
     "metadata": {},
     "output_type": "execute_result"
    }
   ],
   "source": [
    "aleatorios[2]"
   ]
  },
  {
   "cell_type": "code",
   "execution_count": 92,
   "id": "140e2499-32b1-4fa2-82e4-4d6a5d8521ce",
   "metadata": {},
   "outputs": [
    {
     "data": {
      "text/plain": [
       "array([6, 8])"
      ]
     },
     "execution_count": 92,
     "metadata": {},
     "output_type": "execute_result"
    }
   ],
   "source": [
    "aleatorios[[2,4]]"
   ]
  },
  {
   "cell_type": "code",
   "execution_count": 94,
   "id": "a249c29e-2c22-47a6-813a-4a230f80e6b3",
   "metadata": {},
   "outputs": [
    {
     "data": {
      "text/plain": [
       "array([False, False, False, False, False, False,  True,  True,  True,\n",
       "        True])"
      ]
     },
     "execution_count": 94,
     "metadata": {},
     "output_type": "execute_result"
    }
   ],
   "source": [
    "aleatorios > 10"
   ]
  },
  {
   "cell_type": "code",
   "execution_count": 98,
   "id": "97830c5b-d932-4428-a26c-480f8cc6f523",
   "metadata": {},
   "outputs": [
    {
     "data": {
      "text/plain": [
       "array([14, 15, 16, 22])"
      ]
     },
     "execution_count": 98,
     "metadata": {},
     "output_type": "execute_result"
    }
   ],
   "source": [
    "aleatorios[aleatorios > 10]"
   ]
  },
  {
   "cell_type": "markdown",
   "id": "16d376cb-0e4f-45d4-bd41-5cf07e60100f",
   "metadata": {},
   "source": [
    "# Funcion vs Metodo"
   ]
  },
  {
   "cell_type": "code",
   "execution_count": 101,
   "id": "cf257f7a-883d-4604-b2f7-6846eaa2a063",
   "metadata": {},
   "outputs": [],
   "source": [
    "numeros = [3, 4, 5]"
   ]
  },
  {
   "cell_type": "code",
   "execution_count": 111,
   "id": "f6bae487-876c-4b1e-b779-9ea65c607c2b",
   "metadata": {},
   "outputs": [],
   "source": [
    "numeros = np.array(numeros)"
   ]
  },
  {
   "cell_type": "code",
   "execution_count": 116,
   "id": "fb699532-6c23-43b3-9baf-b91c45f18cf4",
   "metadata": {},
   "outputs": [],
   "source": [
    "# funcion"
   ]
  },
  {
   "cell_type": "code",
   "execution_count": 112,
   "id": "2dc58630-8c51-4eaf-8bdd-2954b79dfcad",
   "metadata": {},
   "outputs": [
    {
     "data": {
      "text/plain": [
       "4.0"
      ]
     },
     "execution_count": 112,
     "metadata": {},
     "output_type": "execute_result"
    }
   ],
   "source": [
    "np.mean(numeros)"
   ]
  },
  {
   "cell_type": "code",
   "execution_count": null,
   "id": "aac1fee8-94e8-487c-8163-d0a50935fc34",
   "metadata": {},
   "outputs": [],
   "source": [
    "# Metodo"
   ]
  },
  {
   "cell_type": "code",
   "execution_count": 113,
   "id": "d369bab6-6ed9-44f2-85eb-c19ddeed2b78",
   "metadata": {},
   "outputs": [
    {
     "data": {
      "text/plain": [
       "4.0"
      ]
     },
     "execution_count": 113,
     "metadata": {},
     "output_type": "execute_result"
    }
   ],
   "source": [
    "numeros.mean()"
   ]
  },
  {
   "cell_type": "code",
   "execution_count": null,
   "id": "89e64d60-904e-4416-a088-2cdbda654146",
   "metadata": {},
   "outputs": [],
   "source": [
    "# Funcion"
   ]
  },
  {
   "cell_type": "code",
   "execution_count": 114,
   "id": "a7ee9fca-079b-4405-8165-01dac846c276",
   "metadata": {},
   "outputs": [
    {
     "data": {
      "text/plain": [
       "4.0"
      ]
     },
     "execution_count": 114,
     "metadata": {},
     "output_type": "execute_result"
    }
   ],
   "source": [
    "round(np.mean(np.array(numeros)),2)"
   ]
  },
  {
   "cell_type": "code",
   "execution_count": null,
   "id": "68ed472b-c4c4-4df5-9ab6-bffba4af2ec0",
   "metadata": {},
   "outputs": [],
   "source": [
    "# Metodo"
   ]
  },
  {
   "cell_type": "code",
   "execution_count": 115,
   "id": "9623d034-8b5a-4b50-9c16-5308e9b9fb2d",
   "metadata": {},
   "outputs": [
    {
     "data": {
      "text/plain": [
       "4.0"
      ]
     },
     "execution_count": 115,
     "metadata": {},
     "output_type": "execute_result"
    }
   ],
   "source": [
    "np.array(numeros).mean().round(2)"
   ]
  },
  {
   "cell_type": "code",
   "execution_count": null,
   "id": "5dd1949d-7492-4462-a16b-f35a79bb070f",
   "metadata": {},
   "outputs": [],
   "source": []
  }
 ],
 "metadata": {
  "kernelspec": {
   "display_name": "Python 3 (ipykernel)",
   "language": "python",
   "name": "python3"
  },
  "language_info": {
   "codemirror_mode": {
    "name": "ipython",
    "version": 3
   },
   "file_extension": ".py",
   "mimetype": "text/x-python",
   "name": "python",
   "nbconvert_exporter": "python",
   "pygments_lexer": "ipython3",
   "version": "3.9.12"
  }
 },
 "nbformat": 4,
 "nbformat_minor": 5
}

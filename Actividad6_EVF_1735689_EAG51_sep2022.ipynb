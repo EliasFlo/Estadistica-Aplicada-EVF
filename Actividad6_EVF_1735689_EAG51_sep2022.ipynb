{
 "cells": [
  {
   "cell_type": "markdown",
   "id": "1d249be4",
   "metadata": {},
   "source": [
    "## Elias Villaseñor Flores\n",
    "## 1735689\n",
    "## Estadística Aplicada\n",
    "## Grupo 51"
   ]
  },
  {
   "cell_type": "code",
   "execution_count": 58,
   "id": "0be7bdf4",
   "metadata": {},
   "outputs": [],
   "source": [
    "import numpy as np\n",
    "import pandas as pd \n",
    "import matplotlib.pyplot as plt\n",
    "import statsmodels.formula.api as smf\n",
    "%matplotlib inline"
   ]
  },
  {
   "cell_type": "code",
   "execution_count": 4,
   "id": "4dc33afa",
   "metadata": {},
   "outputs": [],
   "source": [
    "datos=pd.read_excel('modelolineal.xlsx')"
   ]
  },
  {
   "cell_type": "code",
   "execution_count": null,
   "id": "f8628756",
   "metadata": {},
   "outputs": [],
   "source": []
  },
  {
   "cell_type": "code",
   "execution_count": 6,
   "id": "2e2b0a01",
   "metadata": {},
   "outputs": [
    {
     "data": {
      "text/html": [
       "<div>\n",
       "<style scoped>\n",
       "    .dataframe tbody tr th:only-of-type {\n",
       "        vertical-align: middle;\n",
       "    }\n",
       "\n",
       "    .dataframe tbody tr th {\n",
       "        vertical-align: top;\n",
       "    }\n",
       "\n",
       "    .dataframe thead th {\n",
       "        text-align: right;\n",
       "    }\n",
       "</style>\n",
       "<table border=\"1\" class=\"dataframe\">\n",
       "  <thead>\n",
       "    <tr style=\"text-align: right;\">\n",
       "      <th></th>\n",
       "      <th>observación</th>\n",
       "      <th>Y</th>\n",
       "      <th>X</th>\n",
       "      <th>X2</th>\n",
       "      <th>X3</th>\n",
       "      <th>X4</th>\n",
       "    </tr>\n",
       "  </thead>\n",
       "  <tbody>\n",
       "    <tr>\n",
       "      <th>0</th>\n",
       "      <td>1</td>\n",
       "      <td>19.246957</td>\n",
       "      <td>23</td>\n",
       "      <td>529</td>\n",
       "      <td>12167</td>\n",
       "      <td>279841</td>\n",
       "    </tr>\n",
       "    <tr>\n",
       "      <th>1</th>\n",
       "      <td>2</td>\n",
       "      <td>16.878501</td>\n",
       "      <td>19</td>\n",
       "      <td>361</td>\n",
       "      <td>6859</td>\n",
       "      <td>130321</td>\n",
       "    </tr>\n",
       "    <tr>\n",
       "      <th>2</th>\n",
       "      <td>3</td>\n",
       "      <td>20.187237</td>\n",
       "      <td>27</td>\n",
       "      <td>729</td>\n",
       "      <td>19683</td>\n",
       "      <td>531441</td>\n",
       "    </tr>\n",
       "    <tr>\n",
       "      <th>3</th>\n",
       "      <td>4</td>\n",
       "      <td>12.176789</td>\n",
       "      <td>13</td>\n",
       "      <td>169</td>\n",
       "      <td>2197</td>\n",
       "      <td>28561</td>\n",
       "    </tr>\n",
       "    <tr>\n",
       "      <th>4</th>\n",
       "      <td>5</td>\n",
       "      <td>21.420112</td>\n",
       "      <td>21</td>\n",
       "      <td>441</td>\n",
       "      <td>9261</td>\n",
       "      <td>194481</td>\n",
       "    </tr>\n",
       "    <tr>\n",
       "      <th>5</th>\n",
       "      <td>6</td>\n",
       "      <td>24.436799</td>\n",
       "      <td>22</td>\n",
       "      <td>484</td>\n",
       "      <td>10648</td>\n",
       "      <td>234256</td>\n",
       "    </tr>\n",
       "    <tr>\n",
       "      <th>6</th>\n",
       "      <td>7</td>\n",
       "      <td>14.507928</td>\n",
       "      <td>19</td>\n",
       "      <td>361</td>\n",
       "      <td>6859</td>\n",
       "      <td>130321</td>\n",
       "    </tr>\n",
       "    <tr>\n",
       "      <th>7</th>\n",
       "      <td>8</td>\n",
       "      <td>16.013496</td>\n",
       "      <td>14</td>\n",
       "      <td>196</td>\n",
       "      <td>2744</td>\n",
       "      <td>38416</td>\n",
       "    </tr>\n",
       "    <tr>\n",
       "      <th>8</th>\n",
       "      <td>9</td>\n",
       "      <td>12.043514</td>\n",
       "      <td>3</td>\n",
       "      <td>9</td>\n",
       "      <td>27</td>\n",
       "      <td>81</td>\n",
       "    </tr>\n",
       "    <tr>\n",
       "      <th>9</th>\n",
       "      <td>10</td>\n",
       "      <td>6.808838</td>\n",
       "      <td>1</td>\n",
       "      <td>1</td>\n",
       "      <td>1</td>\n",
       "      <td>1</td>\n",
       "    </tr>\n",
       "    <tr>\n",
       "      <th>10</th>\n",
       "      <td>11</td>\n",
       "      <td>20.473608</td>\n",
       "      <td>19</td>\n",
       "      <td>361</td>\n",
       "      <td>6859</td>\n",
       "      <td>130321</td>\n",
       "    </tr>\n",
       "    <tr>\n",
       "      <th>11</th>\n",
       "      <td>12</td>\n",
       "      <td>19.688717</td>\n",
       "      <td>18</td>\n",
       "      <td>324</td>\n",
       "      <td>5832</td>\n",
       "      <td>104976</td>\n",
       "    </tr>\n",
       "    <tr>\n",
       "      <th>12</th>\n",
       "      <td>13</td>\n",
       "      <td>20.405782</td>\n",
       "      <td>12</td>\n",
       "      <td>144</td>\n",
       "      <td>1728</td>\n",
       "      <td>20736</td>\n",
       "    </tr>\n",
       "    <tr>\n",
       "      <th>13</th>\n",
       "      <td>14</td>\n",
       "      <td>24.959259</td>\n",
       "      <td>16</td>\n",
       "      <td>256</td>\n",
       "      <td>4096</td>\n",
       "      <td>65536</td>\n",
       "    </tr>\n",
       "    <tr>\n",
       "      <th>14</th>\n",
       "      <td>15</td>\n",
       "      <td>23.913532</td>\n",
       "      <td>29</td>\n",
       "      <td>841</td>\n",
       "      <td>24389</td>\n",
       "      <td>707281</td>\n",
       "    </tr>\n",
       "    <tr>\n",
       "      <th>15</th>\n",
       "      <td>16</td>\n",
       "      <td>22.719407</td>\n",
       "      <td>23</td>\n",
       "      <td>529</td>\n",
       "      <td>12167</td>\n",
       "      <td>279841</td>\n",
       "    </tr>\n",
       "    <tr>\n",
       "      <th>16</th>\n",
       "      <td>17</td>\n",
       "      <td>18.680587</td>\n",
       "      <td>14</td>\n",
       "      <td>196</td>\n",
       "      <td>2744</td>\n",
       "      <td>38416</td>\n",
       "    </tr>\n",
       "    <tr>\n",
       "      <th>17</th>\n",
       "      <td>18</td>\n",
       "      <td>17.192583</td>\n",
       "      <td>20</td>\n",
       "      <td>400</td>\n",
       "      <td>8000</td>\n",
       "      <td>160000</td>\n",
       "    </tr>\n",
       "    <tr>\n",
       "      <th>18</th>\n",
       "      <td>19</td>\n",
       "      <td>28.422786</td>\n",
       "      <td>27</td>\n",
       "      <td>729</td>\n",
       "      <td>19683</td>\n",
       "      <td>531441</td>\n",
       "    </tr>\n",
       "    <tr>\n",
       "      <th>19</th>\n",
       "      <td>20</td>\n",
       "      <td>24.757379</td>\n",
       "      <td>28</td>\n",
       "      <td>784</td>\n",
       "      <td>21952</td>\n",
       "      <td>614656</td>\n",
       "    </tr>\n",
       "    <tr>\n",
       "      <th>20</th>\n",
       "      <td>21</td>\n",
       "      <td>9.544102</td>\n",
       "      <td>0</td>\n",
       "      <td>0</td>\n",
       "      <td>0</td>\n",
       "      <td>0</td>\n",
       "    </tr>\n",
       "    <tr>\n",
       "      <th>21</th>\n",
       "      <td>22</td>\n",
       "      <td>24.230330</td>\n",
       "      <td>20</td>\n",
       "      <td>400</td>\n",
       "      <td>8000</td>\n",
       "      <td>160000</td>\n",
       "    </tr>\n",
       "    <tr>\n",
       "      <th>22</th>\n",
       "      <td>23</td>\n",
       "      <td>26.417826</td>\n",
       "      <td>24</td>\n",
       "      <td>576</td>\n",
       "      <td>13824</td>\n",
       "      <td>331776</td>\n",
       "    </tr>\n",
       "    <tr>\n",
       "      <th>23</th>\n",
       "      <td>24</td>\n",
       "      <td>23.066723</td>\n",
       "      <td>23</td>\n",
       "      <td>529</td>\n",
       "      <td>12167</td>\n",
       "      <td>279841</td>\n",
       "    </tr>\n",
       "    <tr>\n",
       "      <th>24</th>\n",
       "      <td>25</td>\n",
       "      <td>13.145005</td>\n",
       "      <td>8</td>\n",
       "      <td>64</td>\n",
       "      <td>512</td>\n",
       "      <td>4096</td>\n",
       "    </tr>\n",
       "    <tr>\n",
       "      <th>25</th>\n",
       "      <td>26</td>\n",
       "      <td>24.385156</td>\n",
       "      <td>24</td>\n",
       "      <td>576</td>\n",
       "      <td>13824</td>\n",
       "      <td>331776</td>\n",
       "    </tr>\n",
       "    <tr>\n",
       "      <th>26</th>\n",
       "      <td>27</td>\n",
       "      <td>12.934102</td>\n",
       "      <td>10</td>\n",
       "      <td>100</td>\n",
       "      <td>1000</td>\n",
       "      <td>10000</td>\n",
       "    </tr>\n",
       "    <tr>\n",
       "      <th>27</th>\n",
       "      <td>28</td>\n",
       "      <td>14.002469</td>\n",
       "      <td>4</td>\n",
       "      <td>16</td>\n",
       "      <td>64</td>\n",
       "      <td>256</td>\n",
       "    </tr>\n",
       "    <tr>\n",
       "      <th>28</th>\n",
       "      <td>29</td>\n",
       "      <td>26.599047</td>\n",
       "      <td>29</td>\n",
       "      <td>841</td>\n",
       "      <td>24389</td>\n",
       "      <td>707281</td>\n",
       "    </tr>\n",
       "    <tr>\n",
       "      <th>29</th>\n",
       "      <td>30</td>\n",
       "      <td>11.910387</td>\n",
       "      <td>10</td>\n",
       "      <td>100</td>\n",
       "      <td>1000</td>\n",
       "      <td>10000</td>\n",
       "    </tr>\n",
       "  </tbody>\n",
       "</table>\n",
       "</div>"
      ],
      "text/plain": [
       "    observación          Y   X   X2     X3      X4\n",
       "0             1  19.246957  23  529  12167  279841\n",
       "1             2  16.878501  19  361   6859  130321\n",
       "2             3  20.187237  27  729  19683  531441\n",
       "3             4  12.176789  13  169   2197   28561\n",
       "4             5  21.420112  21  441   9261  194481\n",
       "5             6  24.436799  22  484  10648  234256\n",
       "6             7  14.507928  19  361   6859  130321\n",
       "7             8  16.013496  14  196   2744   38416\n",
       "8             9  12.043514   3    9     27      81\n",
       "9            10   6.808838   1    1      1       1\n",
       "10           11  20.473608  19  361   6859  130321\n",
       "11           12  19.688717  18  324   5832  104976\n",
       "12           13  20.405782  12  144   1728   20736\n",
       "13           14  24.959259  16  256   4096   65536\n",
       "14           15  23.913532  29  841  24389  707281\n",
       "15           16  22.719407  23  529  12167  279841\n",
       "16           17  18.680587  14  196   2744   38416\n",
       "17           18  17.192583  20  400   8000  160000\n",
       "18           19  28.422786  27  729  19683  531441\n",
       "19           20  24.757379  28  784  21952  614656\n",
       "20           21   9.544102   0    0      0       0\n",
       "21           22  24.230330  20  400   8000  160000\n",
       "22           23  26.417826  24  576  13824  331776\n",
       "23           24  23.066723  23  529  12167  279841\n",
       "24           25  13.145005   8   64    512    4096\n",
       "25           26  24.385156  24  576  13824  331776\n",
       "26           27  12.934102  10  100   1000   10000\n",
       "27           28  14.002469   4   16     64     256\n",
       "28           29  26.599047  29  841  24389  707281\n",
       "29           30  11.910387  10  100   1000   10000"
      ]
     },
     "execution_count": 6,
     "metadata": {},
     "output_type": "execute_result"
    }
   ],
   "source": [
    "datos['X2']= datos['X']**2\n",
    "datos['X3']= datos['X']**3\n",
    "datos['X4']= datos['X']**4\n",
    "datos"
   ]
  },
  {
   "cell_type": "markdown",
   "id": "d7dd95f3",
   "metadata": {},
   "source": [
    "## Regresión 1"
   ]
  },
  {
   "cell_type": "markdown",
   "id": "cb81fdf7",
   "metadata": {},
   "source": [
    "### a)Divide los datosen: conjunto de entrenamientoalas observaciones 1-20 (train_set) y conjunto de prueba alas observaciones 21-30 (test_set)."
   ]
  },
  {
   "cell_type": "code",
   "execution_count": 8,
   "id": "24bf1e70",
   "metadata": {},
   "outputs": [],
   "source": [
    "train_set = datos.iloc[:20]\n",
    "test_set = datos.iloc[20:]"
   ]
  },
  {
   "cell_type": "markdown",
   "id": "c04dd96b",
   "metadata": {},
   "source": [
    "### b)Estima el siguiente modelolineal con el conjunto de entrenamiento𝑦=𝑏1𝑥+𝜖Ymuestra el resultado de la regresión(print_summary())"
   ]
  },
  {
   "cell_type": "code",
   "execution_count": 10,
   "id": "0e6c7a1d",
   "metadata": {},
   "outputs": [
    {
     "name": "stdout",
     "output_type": "stream",
     "text": [
      "                            OLS Regression Results                            \n",
      "==============================================================================\n",
      "Dep. Variable:                      Y   R-squared:                       0.615\n",
      "Model:                            OLS   Adj. R-squared:                  0.594\n",
      "Method:                 Least Squares   F-statistic:                     28.80\n",
      "Date:                Mon, 12 Sep 2022   Prob (F-statistic):           4.23e-05\n",
      "Time:                        15:40:24   Log-Likelihood:                -51.332\n",
      "No. Observations:                  20   AIC:                             106.7\n",
      "Df Residuals:                      18   BIC:                             108.7\n",
      "Df Model:                           1                                         \n",
      "Covariance Type:            nonrobust                                         \n",
      "==============================================================================\n",
      "                 coef    std err          t      P>|t|      [0.025      0.975]\n",
      "------------------------------------------------------------------------------\n",
      "Intercept      9.2336      2.008      4.598      0.000       5.015      13.453\n",
      "X              0.5442      0.101      5.367      0.000       0.331       0.757\n",
      "==============================================================================\n",
      "Omnibus:                        0.757   Durbin-Watson:                   1.723\n",
      "Prob(Omnibus):                  0.685   Jarque-Bera (JB):                0.748\n",
      "Skew:                           0.383   Prob(JB):                        0.688\n",
      "Kurtosis:                       2.442   Cond. No.                         53.7\n",
      "==============================================================================\n",
      "\n",
      "Notes:\n",
      "[1] Standard Errors assume that the covariance matrix of the errors is correctly specified.\n"
     ]
    }
   ],
   "source": [
    "reg1 = smf.ols(formula='Y~X', data=train_set)\n",
    "results1 = reg1.fit()\n",
    "print(results1.summary())"
   ]
  },
  {
   "cell_type": "code",
   "execution_count": 12,
   "id": "df650589",
   "metadata": {},
   "outputs": [
    {
     "name": "stderr",
     "output_type": "stream",
     "text": [
      "C:\\Users\\Lenovo\\AppData\\Local\\Temp\\ipykernel_5840\\1145136023.py:1: SettingWithCopyWarning: \n",
      "A value is trying to be set on a copy of a slice from a DataFrame.\n",
      "Try using .loc[row_indexer,col_indexer] = value instead\n",
      "\n",
      "See the caveats in the documentation: https://pandas.pydata.org/pandas-docs/stable/user_guide/indexing.html#returning-a-view-versus-a-copy\n",
      "  test_set['y_gor1'] = results1.predict(test_set)\n",
      "C:\\Users\\Lenovo\\AppData\\Local\\Temp\\ipykernel_5840\\1145136023.py:2: SettingWithCopyWarning: \n",
      "A value is trying to be set on a copy of a slice from a DataFrame.\n",
      "Try using .loc[row_indexer,col_indexer] = value instead\n",
      "\n",
      "See the caveats in the documentation: https://pandas.pydata.org/pandas-docs/stable/user_guide/indexing.html#returning-a-view-versus-a-copy\n",
      "  train_set['y_gor1']= results1.predict(train_set)\n"
     ]
    }
   ],
   "source": [
    "test_set['y_gor1'] = results1.predict(test_set)\n",
    "train_set['y_gor1']= results1.predict(train_set)"
   ]
  },
  {
   "cell_type": "code",
   "execution_count": 16,
   "id": "8691fa7d",
   "metadata": {},
   "outputs": [
    {
     "data": {
      "text/html": [
       "<div>\n",
       "<style scoped>\n",
       "    .dataframe tbody tr th:only-of-type {\n",
       "        vertical-align: middle;\n",
       "    }\n",
       "\n",
       "    .dataframe tbody tr th {\n",
       "        vertical-align: top;\n",
       "    }\n",
       "\n",
       "    .dataframe thead th {\n",
       "        text-align: right;\n",
       "    }\n",
       "</style>\n",
       "<table border=\"1\" class=\"dataframe\">\n",
       "  <thead>\n",
       "    <tr style=\"text-align: right;\">\n",
       "      <th></th>\n",
       "      <th>Y</th>\n",
       "      <th>y_gor1</th>\n",
       "    </tr>\n",
       "  </thead>\n",
       "  <tbody>\n",
       "    <tr>\n",
       "      <th>20</th>\n",
       "      <td>9.544102</td>\n",
       "      <td>9.233587</td>\n",
       "    </tr>\n",
       "    <tr>\n",
       "      <th>21</th>\n",
       "      <td>24.230330</td>\n",
       "      <td>20.117395</td>\n",
       "    </tr>\n",
       "    <tr>\n",
       "      <th>22</th>\n",
       "      <td>26.417826</td>\n",
       "      <td>22.294157</td>\n",
       "    </tr>\n",
       "    <tr>\n",
       "      <th>23</th>\n",
       "      <td>23.066723</td>\n",
       "      <td>21.749966</td>\n",
       "    </tr>\n",
       "    <tr>\n",
       "      <th>24</th>\n",
       "      <td>13.145005</td>\n",
       "      <td>13.587110</td>\n",
       "    </tr>\n",
       "    <tr>\n",
       "      <th>25</th>\n",
       "      <td>24.385156</td>\n",
       "      <td>22.294157</td>\n",
       "    </tr>\n",
       "    <tr>\n",
       "      <th>26</th>\n",
       "      <td>12.934102</td>\n",
       "      <td>14.675491</td>\n",
       "    </tr>\n",
       "    <tr>\n",
       "      <th>27</th>\n",
       "      <td>14.002469</td>\n",
       "      <td>11.410349</td>\n",
       "    </tr>\n",
       "    <tr>\n",
       "      <th>28</th>\n",
       "      <td>26.599047</td>\n",
       "      <td>25.015109</td>\n",
       "    </tr>\n",
       "    <tr>\n",
       "      <th>29</th>\n",
       "      <td>11.910387</td>\n",
       "      <td>14.675491</td>\n",
       "    </tr>\n",
       "  </tbody>\n",
       "</table>\n",
       "</div>"
      ],
      "text/plain": [
       "            Y     y_gor1\n",
       "20   9.544102   9.233587\n",
       "21  24.230330  20.117395\n",
       "22  26.417826  22.294157\n",
       "23  23.066723  21.749966\n",
       "24  13.145005  13.587110\n",
       "25  24.385156  22.294157\n",
       "26  12.934102  14.675491\n",
       "27  14.002469  11.410349\n",
       "28  26.599047  25.015109\n",
       "29  11.910387  14.675491"
      ]
     },
     "execution_count": 16,
     "metadata": {},
     "output_type": "execute_result"
    }
   ],
   "source": [
    "test_set[['Y','y_gor1']]"
   ]
  },
  {
   "cell_type": "markdown",
   "id": "b18f3c41",
   "metadata": {},
   "source": [
    "### c)Con la regresión anterior pronosticael valor de𝑦̂ tanto en el conjunto de prueba como  en  el  conjunto  de  entrenamiento. Del  MAPE,  MAD  y  MSD elige  dos  y obténsu  valorpara  el  conjunto de  pruebay  el  conjunto  de entrenamiento."
   ]
  },
  {
   "cell_type": "code",
   "execution_count": 64,
   "id": "30f7181d",
   "metadata": {},
   "outputs": [],
   "source": [
    "from sklearn.metrics import mean_absolute_error as MAD \n",
    "from sklearn.metrics import mean_absolute_percentage_error as MAPE"
   ]
  },
  {
   "cell_type": "code",
   "execution_count": 65,
   "id": "27689b1e",
   "metadata": {},
   "outputs": [],
   "source": [
    "MAD_E1 = MAD(train_set['Y'],train_set['y_gor1'])\n",
    "MAD_P1 = MAD(test_set['Y'],test_set['y_gor1'])\n",
    "\n",
    "MAPE_E1 = MAPE(train_set['Y'],train_set['y_gor1'])\n",
    "MAPE_P1 = MAPE(test_set['Y'],test_set['y_gor1'])"
   ]
  },
  {
   "cell_type": "code",
   "execution_count": 24,
   "id": "6e631d91",
   "metadata": {},
   "outputs": [
    {
     "data": {
      "text/plain": [
       "(2.597, 2.108)"
      ]
     },
     "execution_count": 24,
     "metadata": {},
     "output_type": "execute_result"
    }
   ],
   "source": [
    "round(MAD_E1,3), round(MAD_P1,3)"
   ]
  },
  {
   "cell_type": "code",
   "execution_count": 67,
   "id": "ac6b3f8f",
   "metadata": {},
   "outputs": [
    {
     "data": {
      "text/plain": [
       "(0.151, 0.115)"
      ]
     },
     "execution_count": 67,
     "metadata": {},
     "output_type": "execute_result"
    }
   ],
   "source": [
    "round(MAPE_E1, 3), round(MAPE_P1, 3)"
   ]
  },
  {
   "cell_type": "markdown",
   "id": "36af4046",
   "metadata": {},
   "source": [
    "### d)Estima el siguiente modelolineal con el conjunto de entrenamiento𝑦=𝑏1𝑥+𝑏2𝑥2+𝜖"
   ]
  },
  {
   "cell_type": "code",
   "execution_count": 28,
   "id": "50ddea17",
   "metadata": {},
   "outputs": [],
   "source": [
    "reg2 = smf.ols(formula='Y~X+X2', data=train_set)\n",
    "results2 = reg2.fit()\n"
   ]
  },
  {
   "cell_type": "code",
   "execution_count": 39,
   "id": "36541cea",
   "metadata": {},
   "outputs": [
    {
     "name": "stderr",
     "output_type": "stream",
     "text": [
      "C:\\Users\\Lenovo\\AppData\\Local\\Temp\\ipykernel_5840\\3572963804.py:1: SettingWithCopyWarning: \n",
      "A value is trying to be set on a copy of a slice from a DataFrame.\n",
      "Try using .loc[row_indexer,col_indexer] = value instead\n",
      "\n",
      "See the caveats in the documentation: https://pandas.pydata.org/pandas-docs/stable/user_guide/indexing.html#returning-a-view-versus-a-copy\n",
      "  test_set['y_gor2'] = results2.predict(test_set)\n",
      "C:\\Users\\Lenovo\\AppData\\Local\\Temp\\ipykernel_5840\\3572963804.py:2: SettingWithCopyWarning: \n",
      "A value is trying to be set on a copy of a slice from a DataFrame.\n",
      "Try using .loc[row_indexer,col_indexer] = value instead\n",
      "\n",
      "See the caveats in the documentation: https://pandas.pydata.org/pandas-docs/stable/user_guide/indexing.html#returning-a-view-versus-a-copy\n",
      "  train_set['y_gor2']= results2.predict(train_set)\n"
     ]
    }
   ],
   "source": [
    "test_set['y_gor2'] = results2.predict(test_set)\n",
    "train_set['y_gor2']= results2.predict(train_set)"
   ]
  },
  {
   "cell_type": "code",
   "execution_count": 68,
   "id": "7a3517d9",
   "metadata": {},
   "outputs": [],
   "source": [
    "MAD_E2 = MAD(train_set['Y'],train_set['y_gor2'])\n",
    "MAD_P2 = MAD(test_set['Y'],test_set['y_gor2'])\n",
    "\n",
    "MAPE_E2 = MAPE(train_set['Y'],train_set['y_gor2'])\n",
    "MAPE_P2 = MAPE(test_set['Y'],test_set['y_gor2'])"
   ]
  },
  {
   "cell_type": "code",
   "execution_count": 70,
   "id": "f678fead",
   "metadata": {},
   "outputs": [
    {
     "data": {
      "text/plain": [
       "(2.554, 2.334)"
      ]
     },
     "execution_count": 70,
     "metadata": {},
     "output_type": "execute_result"
    }
   ],
   "source": [
    "round(MAD_E2,3), round(MAD_P2,3)"
   ]
  },
  {
   "cell_type": "code",
   "execution_count": 71,
   "id": "7f6ebb67",
   "metadata": {},
   "outputs": [
    {
     "data": {
      "text/plain": [
       "(0.147, 0.133)"
      ]
     },
     "execution_count": 71,
     "metadata": {},
     "output_type": "execute_result"
    }
   ],
   "source": [
    "round(MAPE_E2, 3), round(MAPE_P2, 3)"
   ]
  },
  {
   "cell_type": "markdown",
   "id": "e4a7ba78",
   "metadata": {},
   "source": [
    "## e)Estima el siguiente modelolineal con el conjunto de entrenamiento 𝑦=𝑏1𝑥+𝑏2𝑥2+𝑏3𝑥3+𝜖"
   ]
  },
  {
   "cell_type": "code",
   "execution_count": 44,
   "id": "ea8b8d22",
   "metadata": {},
   "outputs": [],
   "source": [
    "reg3 = smf.ols(formula='Y~X+X2+X3', data=train_set)\n",
    "results3 = reg3.fit()"
   ]
  },
  {
   "cell_type": "code",
   "execution_count": 46,
   "id": "785a826d",
   "metadata": {},
   "outputs": [
    {
     "name": "stderr",
     "output_type": "stream",
     "text": [
      "C:\\Users\\Lenovo\\AppData\\Local\\Temp\\ipykernel_5840\\523141156.py:1: SettingWithCopyWarning: \n",
      "A value is trying to be set on a copy of a slice from a DataFrame.\n",
      "Try using .loc[row_indexer,col_indexer] = value instead\n",
      "\n",
      "See the caveats in the documentation: https://pandas.pydata.org/pandas-docs/stable/user_guide/indexing.html#returning-a-view-versus-a-copy\n",
      "  test_set['y_gor3'] = results3.predict(test_set)\n",
      "C:\\Users\\Lenovo\\AppData\\Local\\Temp\\ipykernel_5840\\523141156.py:2: SettingWithCopyWarning: \n",
      "A value is trying to be set on a copy of a slice from a DataFrame.\n",
      "Try using .loc[row_indexer,col_indexer] = value instead\n",
      "\n",
      "See the caveats in the documentation: https://pandas.pydata.org/pandas-docs/stable/user_guide/indexing.html#returning-a-view-versus-a-copy\n",
      "  train_set['y_gor3']= results3.predict(train_set)\n"
     ]
    }
   ],
   "source": [
    "test_set['y_gor3'] = results3.predict(test_set)\n",
    "train_set['y_gor3']= results3.predict(train_set)"
   ]
  },
  {
   "cell_type": "code",
   "execution_count": 73,
   "id": "cf318742",
   "metadata": {},
   "outputs": [],
   "source": [
    "MAD_E3 = MAD(train_set['Y'],train_set['y_gor3'])\n",
    "MAD_P3 = MAD(test_set['Y'],test_set['y_gor3'])\n",
    "\n",
    "MAPE_E3 = MAPE(train_set['Y'],train_set['y_gor3'])\n",
    "MAPE_P3 = MAPE(test_set['Y'],test_set['y_gor3'])"
   ]
  },
  {
   "cell_type": "code",
   "execution_count": 50,
   "id": "bbc33213",
   "metadata": {},
   "outputs": [
    {
     "data": {
      "text/plain": [
       "(2.531, 3.013)"
      ]
     },
     "execution_count": 50,
     "metadata": {},
     "output_type": "execute_result"
    }
   ],
   "source": [
    "round(MAD_E3,3), round(MAD_P3,3)"
   ]
  },
  {
   "cell_type": "code",
   "execution_count": 74,
   "id": "59575d49",
   "metadata": {},
   "outputs": [
    {
     "data": {
      "text/plain": [
       "(0.141, 0.186)"
      ]
     },
     "execution_count": 74,
     "metadata": {},
     "output_type": "execute_result"
    }
   ],
   "source": [
    "round(MAPE_E3, 3), round(MAPE_P3, 3)"
   ]
  },
  {
   "cell_type": "markdown",
   "id": "3dda0f5b",
   "metadata": {},
   "source": [
    "### f)Estima el siguiente modelolineal con el conjunto de entrenamiento𝑦=𝑏1𝑥+𝑏2𝑥2+𝑏3𝑥3+𝑏4𝑥4+𝜖"
   ]
  },
  {
   "cell_type": "code",
   "execution_count": 51,
   "id": "82e8dcb0",
   "metadata": {},
   "outputs": [],
   "source": [
    "reg4 = smf.ols(formula='Y~X+X2+X3+X4', data=train_set)\n",
    "results4 = reg4.fit()"
   ]
  },
  {
   "cell_type": "code",
   "execution_count": 53,
   "id": "d3c7c42a",
   "metadata": {},
   "outputs": [
    {
     "name": "stderr",
     "output_type": "stream",
     "text": [
      "C:\\Users\\Lenovo\\AppData\\Local\\Temp\\ipykernel_5840\\4285325944.py:1: SettingWithCopyWarning: \n",
      "A value is trying to be set on a copy of a slice from a DataFrame.\n",
      "Try using .loc[row_indexer,col_indexer] = value instead\n",
      "\n",
      "See the caveats in the documentation: https://pandas.pydata.org/pandas-docs/stable/user_guide/indexing.html#returning-a-view-versus-a-copy\n",
      "  test_set['y_gor4'] = results4.predict(test_set)\n",
      "C:\\Users\\Lenovo\\AppData\\Local\\Temp\\ipykernel_5840\\4285325944.py:2: SettingWithCopyWarning: \n",
      "A value is trying to be set on a copy of a slice from a DataFrame.\n",
      "Try using .loc[row_indexer,col_indexer] = value instead\n",
      "\n",
      "See the caveats in the documentation: https://pandas.pydata.org/pandas-docs/stable/user_guide/indexing.html#returning-a-view-versus-a-copy\n",
      "  train_set['y_gor4']= results4.predict(train_set)\n"
     ]
    }
   ],
   "source": [
    "test_set['y_gor4'] = results4.predict(test_set)\n",
    "train_set['y_gor4']= results4.predict(train_set)"
   ]
  },
  {
   "cell_type": "code",
   "execution_count": 55,
   "id": "ee8155df",
   "metadata": {},
   "outputs": [],
   "source": [
    "MAD_E4 = MAD(train_set['Y'],train_set['y_gor4'])\n",
    "MAD_P4 = MAD(test_set['Y'],test_set['y_gor4'])\n",
    "\n",
    "MAPE_E4 = MAPE(train_set['Y'],train_set['y_gor4'])\n",
    "MAPE_P4 = MAPE(test_set['Y'],test_set['y_gor4'])"
   ]
  },
  {
   "cell_type": "code",
   "execution_count": 59,
   "id": "04cc8f25",
   "metadata": {},
   "outputs": [
    {
     "data": {
      "text/plain": [
       "(2.34, 3.507)"
      ]
     },
     "execution_count": 59,
     "metadata": {},
     "output_type": "execute_result"
    }
   ],
   "source": [
    "round(MAD_E4,3), round(MAD_P4,3)"
   ]
  },
  {
   "cell_type": "code",
   "execution_count": 75,
   "id": "f191667e",
   "metadata": {},
   "outputs": [
    {
     "data": {
      "text/plain": [
       "(0.141, 0.186)"
      ]
     },
     "execution_count": 75,
     "metadata": {},
     "output_type": "execute_result"
    }
   ],
   "source": [
    "round(MAPE_E3, 3), round(MAPE_P3, 3)"
   ]
  },
  {
   "cell_type": "markdown",
   "id": "0e13ef30",
   "metadata": {},
   "source": [
    "### g)Realiza un cuadro como el siguientey llénalocon las pruebas que hayas elegido, por ejemplo,si elegiste MAPE y MSD:"
   ]
  },
  {
   "cell_type": "markdown",
   "id": "dfd5d600",
   "metadata": {},
   "source": [
    "|                 MAD                     |                               |                        |\n",
    "|:-----------------------------------:    |:-------------------------:    |:------------------:    |\n",
    "|              Regresión                  | Conjunto de entrenamiento     | Conjunto de prueba     |\n",
    "| y = b1x + e                             |           2.597               |        2.108           |\n",
    "| y = b1x + b2x^2 + e                     |           2.554               |        2.334           |\n",
    "| y = b1x + b2x^2 + b3x^3 + e             |           2.531               |        3.013           |\n",
    "| y = b1x + b2x^2 + b3x^3 + b4x^4 + e     |            2.34               |        3.507           |"
   ]
  },
  {
   "cell_type": "markdown",
   "id": "b620d130",
   "metadata": {},
   "source": [
    "|                 MAPE                    |                               |                        |\n",
    "|:-----------------------------------:    |:-------------------------:    |:------------------:    |\n",
    "|              Regresión                  | Conjunto de entrenamiento     | Conjunto de prueba     |\n",
    "| y = b1x + e                             |           0.151               |        0.115           |\n",
    "| y = b1x + b2x^2 + e                     |           0.147               |        0.133           |\n",
    "| y = b1x + b2x^2 + b3x^3 + e             |           0.141               |        0.186           |\n",
    "| y = b1x + b2x^2 + b3x^3 + b4x^4 + e     |           0.141               |        0.186           |"
   ]
  },
  {
   "cell_type": "code",
   "execution_count": null,
   "id": "f78d2fba",
   "metadata": {},
   "outputs": [],
   "source": []
  }
 ],
 "metadata": {
  "kernelspec": {
   "display_name": "Python 3 (ipykernel)",
   "language": "python",
   "name": "python3"
  },
  "language_info": {
   "codemirror_mode": {
    "name": "ipython",
    "version": 3
   },
   "file_extension": ".py",
   "mimetype": "text/x-python",
   "name": "python",
   "nbconvert_exporter": "python",
   "pygments_lexer": "ipython3",
   "version": "3.10.7"
  }
 },
 "nbformat": 4,
 "nbformat_minor": 5
}

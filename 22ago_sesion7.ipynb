{
 "cells": [
  {
   "cell_type": "markdown",
   "id": "4f612a8e",
   "metadata": {},
   "source": [
    "# Estadistica Aplicada\n",
    "## sesión 7, repaso inferencia\n",
    "### 22 de agosto del 2022"
   ]
  },
  {
   "cell_type": "markdown",
   "id": "a69deddf",
   "metadata": {},
   "source": [
    "Los retornos de una accion se distribuyen normal iid. se conoce la desviación estandar poblacional sigma=0.02 se tiene una muestra aleatoia de 50 obs. y se calculó una media muestral xbarra=0.06 construya un intervalo de confianza al 95%"
   ]
  },
  {
   "cell_type": "markdown",
   "id": "c699d513",
   "metadata": {},
   "source": [
    "p(-z(alfa/2 < z < z(alfa/2))) sabiendo que z=((xbarra-miu)/(sigma/raiz(n))) y que z(alfa/2)=1.96\n",
    "sustituimos y despejamos para tener miu sola."
   ]
  },
  {
   "cell_type": "markdown",
   "id": "3c63b5c3",
   "metadata": {},
   "source": [
    "Datos\n",
    "media_muestral=0.06\n",
    "desv_muestral=0.02\n",
    "n=50\n",
    "confianza=0.95\n",
    "alfa=1-confianza=0.05"
   ]
  },
  {
   "cell_type": "code",
   "execution_count": 5,
   "id": "0587a093",
   "metadata": {},
   "outputs": [],
   "source": [
    "import numpy as np\n",
    "import pandas as pd \n",
    "from scipy.stats import norm"
   ]
  },
  {
   "cell_type": "code",
   "execution_count": 22,
   "id": "32604d9c",
   "metadata": {},
   "outputs": [],
   "source": [
    "media_muestral=0.06\n",
    "desv_muestral=0.02\n",
    "n=50\n",
    "confianza=0.95\n",
    "alfa=1-confianza\n",
    "raiz_n=n**0.5"
   ]
  },
  {
   "cell_type": "code",
   "execution_count": 23,
   "id": "a5a3bc15",
   "metadata": {},
   "outputs": [],
   "source": [
    "#calculo de z\n",
    "norm.ppf(alfa/2)\n",
    "z_izq=norm.ppf(alfa/2)\n",
    "z_der=norm.ppf(1-alfa/2)"
   ]
  },
  {
   "cell_type": "code",
   "execution_count": 24,
   "id": "c8bfe470",
   "metadata": {},
   "outputs": [],
   "source": [
    "#Calculo intervalo\n",
    "lim_inf=media_muestral + z_izq*(desv_muestral/raiz_n)\n",
    "lim_sup=media_muestral + z_der*(desv_muestral/raiz_n)"
   ]
  },
  {
   "cell_type": "code",
   "execution_count": 26,
   "id": "4e91354d",
   "metadata": {},
   "outputs": [
    {
     "name": "stdout",
     "output_type": "stream",
     "text": [
      "el intervalo de confianza del 95% es  (0.054, 0.066)\n"
     ]
    }
   ],
   "source": [
    "print('el intervalo de confianza del 95% es ', (lim_inf.round(3),lim_sup.round(3)))"
   ]
  },
  {
   "cell_type": "markdown",
   "id": "423c6f06",
   "metadata": {},
   "source": [
    "Ho : miu=0.061\n",
    "Ha : miu=/ 0.061"
   ]
  },
  {
   "cell_type": "code",
   "execution_count": 27,
   "id": "436d8f98",
   "metadata": {},
   "outputs": [],
   "source": [
    "miu_ho=0.061"
   ]
  },
  {
   "cell_type": "code",
   "execution_count": 30,
   "id": "16e8eee9",
   "metadata": {},
   "outputs": [
    {
     "data": {
      "text/plain": [
       "-0.35355339059327406"
      ]
     },
     "execution_count": 30,
     "metadata": {},
     "output_type": "execute_result"
    }
   ],
   "source": [
    "#estadistico de prueba\n",
    "z_test = (media_muestral-miu_ho)/(desv_muestral/raiz_n)\n",
    "z_test"
   ]
  },
  {
   "cell_type": "markdown",
   "id": "5eafb35e",
   "metadata": {},
   "source": [
    "con un 95% de confianza, no podemos rechazar Ho. por lo tanto  0.061 es un valor posible de la media poblacional"
   ]
  },
  {
   "cell_type": "code",
   "execution_count": null,
   "id": "972aea46",
   "metadata": {},
   "outputs": [],
   "source": [
    "#El p-valor es el nivel de significancia exacta.\n",
    "#prob_ztest=norm.cdf(z_test)"
   ]
  },
  {
   "cell_type": "code",
   "execution_count": 36,
   "id": "794131e6",
   "metadata": {},
   "outputs": [
    {
     "data": {
      "text/plain": [
       "0.7236736098317629"
      ]
     },
     "execution_count": 36,
     "metadata": {},
     "output_type": "execute_result"
    }
   ],
   "source": [
    "prob_ztest=norm.cdf(z_test)\n",
    "p_valor=2*prob_ztest\n",
    "p_valor"
   ]
  },
  {
   "cell_type": "markdown",
   "id": "14a60a85",
   "metadata": {},
   "source": [
    "Tengo un 72% de probabiliad de rechazar y que Ho sea cierto, Por lo tanto no me conviene rechazar"
   ]
  },
  {
   "cell_type": "markdown",
   "id": "ac1de879",
   "metadata": {},
   "source": [
    "p_valor<alfa se rechaza Ho"
   ]
  },
  {
   "cell_type": "code",
   "execution_count": 43,
   "id": "a550d103",
   "metadata": {},
   "outputs": [
    {
     "name": "stdout",
     "output_type": "stream",
     "text": [
      "No podemos rechazar Ho con un p valor de 0.7236736098317629\n"
     ]
    }
   ],
   "source": [
    "if p_valor< alfa:\n",
    "    print(f'Se rechaza Ho con un p valor de {p_valor}')\n",
    "else:\n",
    "    print(f'No podemos rechazar Ho con un p valor de {p_valor}')"
   ]
  },
  {
   "cell_type": "markdown",
   "id": "2af75dea",
   "metadata": {},
   "source": [
    "### Regresión"
   ]
  },
  {
   "cell_type": "code",
   "execution_count": 47,
   "id": "7a94135e",
   "metadata": {},
   "outputs": [],
   "source": [
    "import statsmodels.formula.api as smf "
   ]
  },
  {
   "cell_type": "code",
   "execution_count": 50,
   "id": "e81e1e41",
   "metadata": {},
   "outputs": [
    {
     "data": {
      "text/html": [
       "<div>\n",
       "<style scoped>\n",
       "    .dataframe tbody tr th:only-of-type {\n",
       "        vertical-align: middle;\n",
       "    }\n",
       "\n",
       "    .dataframe tbody tr th {\n",
       "        vertical-align: top;\n",
       "    }\n",
       "\n",
       "    .dataframe thead th {\n",
       "        text-align: right;\n",
       "    }\n",
       "</style>\n",
       "<table border=\"1\" class=\"dataframe\">\n",
       "  <thead>\n",
       "    <tr style=\"text-align: right;\">\n",
       "      <th></th>\n",
       "      <th>observación</th>\n",
       "      <th>Y</th>\n",
       "      <th>X</th>\n",
       "    </tr>\n",
       "  </thead>\n",
       "  <tbody>\n",
       "    <tr>\n",
       "      <th>0</th>\n",
       "      <td>1</td>\n",
       "      <td>19.246957</td>\n",
       "      <td>23</td>\n",
       "    </tr>\n",
       "    <tr>\n",
       "      <th>1</th>\n",
       "      <td>2</td>\n",
       "      <td>16.878501</td>\n",
       "      <td>19</td>\n",
       "    </tr>\n",
       "    <tr>\n",
       "      <th>2</th>\n",
       "      <td>3</td>\n",
       "      <td>20.187237</td>\n",
       "      <td>27</td>\n",
       "    </tr>\n",
       "    <tr>\n",
       "      <th>3</th>\n",
       "      <td>4</td>\n",
       "      <td>12.176789</td>\n",
       "      <td>13</td>\n",
       "    </tr>\n",
       "    <tr>\n",
       "      <th>4</th>\n",
       "      <td>5</td>\n",
       "      <td>21.420112</td>\n",
       "      <td>21</td>\n",
       "    </tr>\n",
       "    <tr>\n",
       "      <th>5</th>\n",
       "      <td>6</td>\n",
       "      <td>24.436799</td>\n",
       "      <td>22</td>\n",
       "    </tr>\n",
       "    <tr>\n",
       "      <th>6</th>\n",
       "      <td>7</td>\n",
       "      <td>14.507928</td>\n",
       "      <td>19</td>\n",
       "    </tr>\n",
       "    <tr>\n",
       "      <th>7</th>\n",
       "      <td>8</td>\n",
       "      <td>16.013496</td>\n",
       "      <td>14</td>\n",
       "    </tr>\n",
       "    <tr>\n",
       "      <th>8</th>\n",
       "      <td>9</td>\n",
       "      <td>12.043514</td>\n",
       "      <td>3</td>\n",
       "    </tr>\n",
       "    <tr>\n",
       "      <th>9</th>\n",
       "      <td>10</td>\n",
       "      <td>6.808838</td>\n",
       "      <td>1</td>\n",
       "    </tr>\n",
       "    <tr>\n",
       "      <th>10</th>\n",
       "      <td>11</td>\n",
       "      <td>20.473608</td>\n",
       "      <td>19</td>\n",
       "    </tr>\n",
       "    <tr>\n",
       "      <th>11</th>\n",
       "      <td>12</td>\n",
       "      <td>19.688717</td>\n",
       "      <td>18</td>\n",
       "    </tr>\n",
       "    <tr>\n",
       "      <th>12</th>\n",
       "      <td>13</td>\n",
       "      <td>20.405782</td>\n",
       "      <td>12</td>\n",
       "    </tr>\n",
       "    <tr>\n",
       "      <th>13</th>\n",
       "      <td>14</td>\n",
       "      <td>24.959259</td>\n",
       "      <td>16</td>\n",
       "    </tr>\n",
       "    <tr>\n",
       "      <th>14</th>\n",
       "      <td>15</td>\n",
       "      <td>23.913532</td>\n",
       "      <td>29</td>\n",
       "    </tr>\n",
       "    <tr>\n",
       "      <th>15</th>\n",
       "      <td>16</td>\n",
       "      <td>22.719407</td>\n",
       "      <td>23</td>\n",
       "    </tr>\n",
       "    <tr>\n",
       "      <th>16</th>\n",
       "      <td>17</td>\n",
       "      <td>18.680587</td>\n",
       "      <td>14</td>\n",
       "    </tr>\n",
       "    <tr>\n",
       "      <th>17</th>\n",
       "      <td>18</td>\n",
       "      <td>17.192583</td>\n",
       "      <td>20</td>\n",
       "    </tr>\n",
       "    <tr>\n",
       "      <th>18</th>\n",
       "      <td>19</td>\n",
       "      <td>28.422786</td>\n",
       "      <td>27</td>\n",
       "    </tr>\n",
       "    <tr>\n",
       "      <th>19</th>\n",
       "      <td>20</td>\n",
       "      <td>24.757379</td>\n",
       "      <td>28</td>\n",
       "    </tr>\n",
       "    <tr>\n",
       "      <th>20</th>\n",
       "      <td>21</td>\n",
       "      <td>9.544102</td>\n",
       "      <td>0</td>\n",
       "    </tr>\n",
       "    <tr>\n",
       "      <th>21</th>\n",
       "      <td>22</td>\n",
       "      <td>24.230330</td>\n",
       "      <td>20</td>\n",
       "    </tr>\n",
       "    <tr>\n",
       "      <th>22</th>\n",
       "      <td>23</td>\n",
       "      <td>26.417826</td>\n",
       "      <td>24</td>\n",
       "    </tr>\n",
       "    <tr>\n",
       "      <th>23</th>\n",
       "      <td>24</td>\n",
       "      <td>23.066723</td>\n",
       "      <td>23</td>\n",
       "    </tr>\n",
       "    <tr>\n",
       "      <th>24</th>\n",
       "      <td>25</td>\n",
       "      <td>13.145005</td>\n",
       "      <td>8</td>\n",
       "    </tr>\n",
       "    <tr>\n",
       "      <th>25</th>\n",
       "      <td>26</td>\n",
       "      <td>24.385156</td>\n",
       "      <td>24</td>\n",
       "    </tr>\n",
       "    <tr>\n",
       "      <th>26</th>\n",
       "      <td>27</td>\n",
       "      <td>12.934102</td>\n",
       "      <td>10</td>\n",
       "    </tr>\n",
       "    <tr>\n",
       "      <th>27</th>\n",
       "      <td>28</td>\n",
       "      <td>14.002469</td>\n",
       "      <td>4</td>\n",
       "    </tr>\n",
       "    <tr>\n",
       "      <th>28</th>\n",
       "      <td>29</td>\n",
       "      <td>26.599047</td>\n",
       "      <td>29</td>\n",
       "    </tr>\n",
       "    <tr>\n",
       "      <th>29</th>\n",
       "      <td>30</td>\n",
       "      <td>11.910387</td>\n",
       "      <td>10</td>\n",
       "    </tr>\n",
       "  </tbody>\n",
       "</table>\n",
       "</div>"
      ],
      "text/plain": [
       "    observación          Y   X\n",
       "0             1  19.246957  23\n",
       "1             2  16.878501  19\n",
       "2             3  20.187237  27\n",
       "3             4  12.176789  13\n",
       "4             5  21.420112  21\n",
       "5             6  24.436799  22\n",
       "6             7  14.507928  19\n",
       "7             8  16.013496  14\n",
       "8             9  12.043514   3\n",
       "9            10   6.808838   1\n",
       "10           11  20.473608  19\n",
       "11           12  19.688717  18\n",
       "12           13  20.405782  12\n",
       "13           14  24.959259  16\n",
       "14           15  23.913532  29\n",
       "15           16  22.719407  23\n",
       "16           17  18.680587  14\n",
       "17           18  17.192583  20\n",
       "18           19  28.422786  27\n",
       "19           20  24.757379  28\n",
       "20           21   9.544102   0\n",
       "21           22  24.230330  20\n",
       "22           23  26.417826  24\n",
       "23           24  23.066723  23\n",
       "24           25  13.145005   8\n",
       "25           26  24.385156  24\n",
       "26           27  12.934102  10\n",
       "27           28  14.002469   4\n",
       "28           29  26.599047  29\n",
       "29           30  11.910387  10"
      ]
     },
     "execution_count": 50,
     "metadata": {},
     "output_type": "execute_result"
    }
   ],
   "source": [
    "datos = pd.read_excel('modelolineal.xlsx')\n",
    "datos"
   ]
  },
  {
   "cell_type": "code",
   "execution_count": 54,
   "id": "d84f5bcb",
   "metadata": {},
   "outputs": [],
   "source": [
    "regresion = smf.ols(formula = 'Y~X', data=datos)\n",
    "results = regresion.fit()"
   ]
  },
  {
   "cell_type": "code",
   "execution_count": 56,
   "id": "0fb124c8",
   "metadata": {
    "scrolled": true
   },
   "outputs": [
    {
     "name": "stdout",
     "output_type": "stream",
     "text": [
      "                            OLS Regression Results                            \n",
      "==============================================================================\n",
      "Dep. Variable:                      Y   R-squared:                       0.732\n",
      "Model:                            OLS   Adj. R-squared:                  0.722\n",
      "Method:                 Least Squares   F-statistic:                     76.40\n",
      "Date:                Mon, 22 Aug 2022   Prob (F-statistic):           1.72e-09\n",
      "Time:                        16:35:39   Log-Likelihood:                -74.480\n",
      "No. Observations:                  30   AIC:                             153.0\n",
      "Df Residuals:                      28   BIC:                             155.8\n",
      "Df Model:                           1                                         \n",
      "Covariance Type:            nonrobust                                         \n",
      "==============================================================================\n",
      "                 coef    std err          t      P>|t|      [0.025      0.975]\n",
      "------------------------------------------------------------------------------\n",
      "Intercept      8.9619      1.276      7.022      0.000       6.347      11.576\n",
      "X              0.5814      0.067      8.740      0.000       0.445       0.718\n",
      "==============================================================================\n",
      "Omnibus:                        0.249   Durbin-Watson:                   1.658\n",
      "Prob(Omnibus):                  0.883   Jarque-Bera (JB):                0.440\n",
      "Skew:                           0.121   Prob(JB):                        0.803\n",
      "Kurtosis:                       2.459   Cond. No.                         44.8\n",
      "==============================================================================\n",
      "\n",
      "Notes:\n",
      "[1] Standard Errors assume that the covariance matrix of the errors is correctly specified.\n"
     ]
    }
   ],
   "source": [
    "print(results.summary())"
   ]
  },
  {
   "cell_type": "code",
   "execution_count": 58,
   "id": "3c1f63a1",
   "metadata": {},
   "outputs": [],
   "source": [
    "#como se interpreta la pendiente 0.58; en promedio por cada unidad que aumenta x, y se incrementa en 0.58\n"
   ]
  },
  {
   "cell_type": "code",
   "execution_count": null,
   "id": "48ca2d5f",
   "metadata": {},
   "outputs": [],
   "source": []
  }
 ],
 "metadata": {
  "kernelspec": {
   "display_name": "Python 3 (ipykernel)",
   "language": "python",
   "name": "python3"
  },
  "language_info": {
   "codemirror_mode": {
    "name": "ipython",
    "version": 3
   },
   "file_extension": ".py",
   "mimetype": "text/x-python",
   "name": "python",
   "nbconvert_exporter": "python",
   "pygments_lexer": "ipython3",
   "version": "3.9.12"
  }
 },
 "nbformat": 4,
 "nbformat_minor": 5
}

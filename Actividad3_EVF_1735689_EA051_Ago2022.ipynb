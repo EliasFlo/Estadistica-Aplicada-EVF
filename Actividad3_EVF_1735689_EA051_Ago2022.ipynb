{
 "cells": [
  {
   "cell_type": "markdown",
   "id": "15077421-4fb8-48e1-a360-252e20cde59a",
   "metadata": {},
   "source": [
    "# Ejercicio de Python"
   ]
  },
  {
   "cell_type": "markdown",
   "id": "453c7bc5-10c6-4adf-aec4-e14206fcf11f",
   "metadata": {},
   "source": [
    "Carga las 3 librerias que hemos visto a lo largo del curso junto con su \"apodo\"\n",
    "\n",
    "numpy, pandas y matplotlib\n",
    "\n",
    "añade al final %matplotlib inline"
   ]
  },
  {
   "cell_type": "markdown",
   "id": "e49faae5-5c69-4680-a9ba-c33e25347850",
   "metadata": {},
   "source": [
    "**Coloca tu nombre y matricula** \n",
    "\n",
    "Nombre: Elias Villaseñor Flores\n",
    "\n",
    "Matricula: 1735689"
   ]
  },
  {
   "cell_type": "code",
   "execution_count": 6,
   "id": "c93b212d-5354-4a80-8de8-dd23f90d8f1a",
   "metadata": {},
   "outputs": [],
   "source": [
    "##### carga las tres librerias (numpy, pandas y matplotlib) \n",
    "import numpy as np\n",
    "import pandas as pd \n",
    "import matplotlib.pyplot as plt\n",
    "%matplotlib inline"
   ]
  },
  {
   "cell_type": "markdown",
   "id": "80e5a00d-5aeb-4ae0-be87-fb17cc86d3fd",
   "metadata": {
    "tags": []
   },
   "source": [
    "El siguiente comando importa un data frame desde un archivo csv de internet"
   ]
  },
  {
   "cell_type": "code",
   "execution_count": 9,
   "id": "48bf2527-df27-43d8-bdd0-20fae67e645e",
   "metadata": {},
   "outputs": [],
   "source": [
    " ventas = pd.read_csv('https://raw.githubusercontent.com/jimmyzac/Estadistica-Aplicada-FCFM-UANL/main/bases_datos/ventas1.csv')"
   ]
  },
  {
   "cell_type": "code",
   "execution_count": 10,
   "id": "70524dc3-d37d-42e0-a570-21d022719a59",
   "metadata": {},
   "outputs": [
    {
     "data": {
      "text/html": [
       "<div>\n",
       "<style scoped>\n",
       "    .dataframe tbody tr th:only-of-type {\n",
       "        vertical-align: middle;\n",
       "    }\n",
       "\n",
       "    .dataframe tbody tr th {\n",
       "        vertical-align: top;\n",
       "    }\n",
       "\n",
       "    .dataframe thead th {\n",
       "        text-align: right;\n",
       "    }\n",
       "</style>\n",
       "<table border=\"1\" class=\"dataframe\">\n",
       "  <thead>\n",
       "    <tr style=\"text-align: right;\">\n",
       "      <th></th>\n",
       "      <th>Año</th>\n",
       "      <th>Mes</th>\n",
       "      <th>Ventas</th>\n",
       "      <th>Gastos</th>\n",
       "    </tr>\n",
       "  </thead>\n",
       "  <tbody>\n",
       "    <tr>\n",
       "      <th>0</th>\n",
       "      <td>2015</td>\n",
       "      <td>Enero</td>\n",
       "      <td>160</td>\n",
       "      <td>71</td>\n",
       "    </tr>\n",
       "    <tr>\n",
       "      <th>1</th>\n",
       "      <td>2015</td>\n",
       "      <td>Febrero</td>\n",
       "      <td>191</td>\n",
       "      <td>125</td>\n",
       "    </tr>\n",
       "    <tr>\n",
       "      <th>2</th>\n",
       "      <td>2015</td>\n",
       "      <td>Marzo</td>\n",
       "      <td>177</td>\n",
       "      <td>72</td>\n",
       "    </tr>\n",
       "    <tr>\n",
       "      <th>3</th>\n",
       "      <td>2015</td>\n",
       "      <td>Abril</td>\n",
       "      <td>154</td>\n",
       "      <td>78</td>\n",
       "    </tr>\n",
       "    <tr>\n",
       "      <th>4</th>\n",
       "      <td>2015</td>\n",
       "      <td>Mayo</td>\n",
       "      <td>175</td>\n",
       "      <td>110</td>\n",
       "    </tr>\n",
       "  </tbody>\n",
       "</table>\n",
       "</div>"
      ],
      "text/plain": [
       "    Año      Mes  Ventas  Gastos\n",
       "0  2015    Enero     160      71\n",
       "1  2015  Febrero     191     125\n",
       "2  2015    Marzo     177      72\n",
       "3  2015    Abril     154      78\n",
       "4  2015     Mayo     175     110"
      ]
     },
     "execution_count": 10,
     "metadata": {},
     "output_type": "execute_result"
    }
   ],
   "source": [
    "#mostrar las primeras 5 filas\n",
    "ventas.head()"
   ]
  },
  {
   "cell_type": "code",
   "execution_count": 11,
   "id": "7256d6a9-86f1-4713-afe5-6564cd004bdc",
   "metadata": {},
   "outputs": [
    {
     "data": {
      "text/html": [
       "<div>\n",
       "<style scoped>\n",
       "    .dataframe tbody tr th:only-of-type {\n",
       "        vertical-align: middle;\n",
       "    }\n",
       "\n",
       "    .dataframe tbody tr th {\n",
       "        vertical-align: top;\n",
       "    }\n",
       "\n",
       "    .dataframe thead th {\n",
       "        text-align: right;\n",
       "    }\n",
       "</style>\n",
       "<table border=\"1\" class=\"dataframe\">\n",
       "  <thead>\n",
       "    <tr style=\"text-align: right;\">\n",
       "      <th></th>\n",
       "      <th>Año</th>\n",
       "      <th>Mes</th>\n",
       "      <th>Ventas</th>\n",
       "      <th>Gastos</th>\n",
       "    </tr>\n",
       "  </thead>\n",
       "  <tbody>\n",
       "    <tr>\n",
       "      <th>31</th>\n",
       "      <td>2017</td>\n",
       "      <td>Agosto</td>\n",
       "      <td>167</td>\n",
       "      <td>107</td>\n",
       "    </tr>\n",
       "    <tr>\n",
       "      <th>32</th>\n",
       "      <td>2017</td>\n",
       "      <td>Septiembre</td>\n",
       "      <td>197</td>\n",
       "      <td>111</td>\n",
       "    </tr>\n",
       "    <tr>\n",
       "      <th>33</th>\n",
       "      <td>2017</td>\n",
       "      <td>Octubre</td>\n",
       "      <td>160</td>\n",
       "      <td>53</td>\n",
       "    </tr>\n",
       "    <tr>\n",
       "      <th>34</th>\n",
       "      <td>2017</td>\n",
       "      <td>Noviembre</td>\n",
       "      <td>171</td>\n",
       "      <td>91</td>\n",
       "    </tr>\n",
       "    <tr>\n",
       "      <th>35</th>\n",
       "      <td>2017</td>\n",
       "      <td>Diciembre</td>\n",
       "      <td>110</td>\n",
       "      <td>66</td>\n",
       "    </tr>\n",
       "  </tbody>\n",
       "</table>\n",
       "</div>"
      ],
      "text/plain": [
       "     Año         Mes  Ventas  Gastos\n",
       "31  2017      Agosto     167     107\n",
       "32  2017  Septiembre     197     111\n",
       "33  2017     Octubre     160      53\n",
       "34  2017   Noviembre     171      91\n",
       "35  2017   Diciembre     110      66"
      ]
     },
     "execution_count": 11,
     "metadata": {},
     "output_type": "execute_result"
    }
   ],
   "source": [
    "#mostrar las ultimas 5 filas\n",
    "ventas.tail()"
   ]
  },
  {
   "cell_type": "markdown",
   "id": "2c10a937-50af-4d99-9dfe-9128a8e21fac",
   "metadata": {},
   "source": [
    "ventas es una base de datos que contiene las ventas mensuales de una tienda X para los años 2015, 2016 y 2017"
   ]
  },
  {
   "cell_type": "markdown",
   "id": "0f97e867-2de1-45ff-ba01-b5fed8e7fbe8",
   "metadata": {},
   "source": [
    "1. Crea una nueva columna que se llame **Ganancias** y que contenga la diferencia entre ventas-gastos "
   ]
  },
  {
   "cell_type": "code",
   "execution_count": 15,
   "id": "769b870a-802b-4c27-864d-f9a442e287bb",
   "metadata": {},
   "outputs": [],
   "source": [
    "## escribe aqui el código\n",
    "ventas['Ganancias'] = ventas['Ventas'] - ventas['Gastos']"
   ]
  },
  {
   "cell_type": "markdown",
   "id": "cf16e2ac-d08c-4a9a-96a6-a2fbecd794e3",
   "metadata": {},
   "source": [
    "2. Muestra el dataframe que incluye esta columna"
   ]
  },
  {
   "cell_type": "code",
   "execution_count": 14,
   "id": "0506853b-39e8-4a98-9607-7fe9e3fa4471",
   "metadata": {},
   "outputs": [
    {
     "data": {
      "text/html": [
       "<div>\n",
       "<style scoped>\n",
       "    .dataframe tbody tr th:only-of-type {\n",
       "        vertical-align: middle;\n",
       "    }\n",
       "\n",
       "    .dataframe tbody tr th {\n",
       "        vertical-align: top;\n",
       "    }\n",
       "\n",
       "    .dataframe thead th {\n",
       "        text-align: right;\n",
       "    }\n",
       "</style>\n",
       "<table border=\"1\" class=\"dataframe\">\n",
       "  <thead>\n",
       "    <tr style=\"text-align: right;\">\n",
       "      <th></th>\n",
       "      <th>Año</th>\n",
       "      <th>Mes</th>\n",
       "      <th>Ventas</th>\n",
       "      <th>Gastos</th>\n",
       "      <th>Ganancias</th>\n",
       "    </tr>\n",
       "  </thead>\n",
       "  <tbody>\n",
       "    <tr>\n",
       "      <th>0</th>\n",
       "      <td>2015</td>\n",
       "      <td>Enero</td>\n",
       "      <td>160</td>\n",
       "      <td>71</td>\n",
       "      <td>89</td>\n",
       "    </tr>\n",
       "    <tr>\n",
       "      <th>1</th>\n",
       "      <td>2015</td>\n",
       "      <td>Febrero</td>\n",
       "      <td>191</td>\n",
       "      <td>125</td>\n",
       "      <td>66</td>\n",
       "    </tr>\n",
       "    <tr>\n",
       "      <th>2</th>\n",
       "      <td>2015</td>\n",
       "      <td>Marzo</td>\n",
       "      <td>177</td>\n",
       "      <td>72</td>\n",
       "      <td>105</td>\n",
       "    </tr>\n",
       "    <tr>\n",
       "      <th>3</th>\n",
       "      <td>2015</td>\n",
       "      <td>Abril</td>\n",
       "      <td>154</td>\n",
       "      <td>78</td>\n",
       "      <td>76</td>\n",
       "    </tr>\n",
       "    <tr>\n",
       "      <th>4</th>\n",
       "      <td>2015</td>\n",
       "      <td>Mayo</td>\n",
       "      <td>175</td>\n",
       "      <td>110</td>\n",
       "      <td>65</td>\n",
       "    </tr>\n",
       "    <tr>\n",
       "      <th>5</th>\n",
       "      <td>2015</td>\n",
       "      <td>Junio</td>\n",
       "      <td>143</td>\n",
       "      <td>56</td>\n",
       "      <td>87</td>\n",
       "    </tr>\n",
       "    <tr>\n",
       "      <th>6</th>\n",
       "      <td>2015</td>\n",
       "      <td>Julio</td>\n",
       "      <td>109</td>\n",
       "      <td>97</td>\n",
       "      <td>12</td>\n",
       "    </tr>\n",
       "    <tr>\n",
       "      <th>7</th>\n",
       "      <td>2015</td>\n",
       "      <td>Agosto</td>\n",
       "      <td>104</td>\n",
       "      <td>100</td>\n",
       "      <td>4</td>\n",
       "    </tr>\n",
       "    <tr>\n",
       "      <th>8</th>\n",
       "      <td>2015</td>\n",
       "      <td>Septiembre</td>\n",
       "      <td>176</td>\n",
       "      <td>80</td>\n",
       "      <td>96</td>\n",
       "    </tr>\n",
       "    <tr>\n",
       "      <th>9</th>\n",
       "      <td>2015</td>\n",
       "      <td>Octubre</td>\n",
       "      <td>198</td>\n",
       "      <td>51</td>\n",
       "      <td>147</td>\n",
       "    </tr>\n",
       "    <tr>\n",
       "      <th>10</th>\n",
       "      <td>2015</td>\n",
       "      <td>Noviembre</td>\n",
       "      <td>120</td>\n",
       "      <td>54</td>\n",
       "      <td>66</td>\n",
       "    </tr>\n",
       "    <tr>\n",
       "      <th>11</th>\n",
       "      <td>2015</td>\n",
       "      <td>Diciembre</td>\n",
       "      <td>149</td>\n",
       "      <td>119</td>\n",
       "      <td>30</td>\n",
       "    </tr>\n",
       "    <tr>\n",
       "      <th>12</th>\n",
       "      <td>2016</td>\n",
       "      <td>Enero</td>\n",
       "      <td>111</td>\n",
       "      <td>92</td>\n",
       "      <td>19</td>\n",
       "    </tr>\n",
       "    <tr>\n",
       "      <th>13</th>\n",
       "      <td>2016</td>\n",
       "      <td>Febrero</td>\n",
       "      <td>198</td>\n",
       "      <td>86</td>\n",
       "      <td>112</td>\n",
       "    </tr>\n",
       "    <tr>\n",
       "      <th>14</th>\n",
       "      <td>2016</td>\n",
       "      <td>Marzo</td>\n",
       "      <td>194</td>\n",
       "      <td>101</td>\n",
       "      <td>93</td>\n",
       "    </tr>\n",
       "    <tr>\n",
       "      <th>15</th>\n",
       "      <td>2016</td>\n",
       "      <td>Abril</td>\n",
       "      <td>171</td>\n",
       "      <td>102</td>\n",
       "      <td>69</td>\n",
       "    </tr>\n",
       "    <tr>\n",
       "      <th>16</th>\n",
       "      <td>2016</td>\n",
       "      <td>Mayo</td>\n",
       "      <td>128</td>\n",
       "      <td>64</td>\n",
       "      <td>64</td>\n",
       "    </tr>\n",
       "    <tr>\n",
       "      <th>17</th>\n",
       "      <td>2016</td>\n",
       "      <td>Junio</td>\n",
       "      <td>105</td>\n",
       "      <td>107</td>\n",
       "      <td>-2</td>\n",
       "    </tr>\n",
       "    <tr>\n",
       "      <th>18</th>\n",
       "      <td>2016</td>\n",
       "      <td>Julio</td>\n",
       "      <td>172</td>\n",
       "      <td>117</td>\n",
       "      <td>55</td>\n",
       "    </tr>\n",
       "    <tr>\n",
       "      <th>19</th>\n",
       "      <td>2016</td>\n",
       "      <td>Agosto</td>\n",
       "      <td>148</td>\n",
       "      <td>110</td>\n",
       "      <td>38</td>\n",
       "    </tr>\n",
       "    <tr>\n",
       "      <th>20</th>\n",
       "      <td>2016</td>\n",
       "      <td>Septiembre</td>\n",
       "      <td>134</td>\n",
       "      <td>85</td>\n",
       "      <td>49</td>\n",
       "    </tr>\n",
       "    <tr>\n",
       "      <th>21</th>\n",
       "      <td>2016</td>\n",
       "      <td>Octubre</td>\n",
       "      <td>192</td>\n",
       "      <td>70</td>\n",
       "      <td>122</td>\n",
       "    </tr>\n",
       "    <tr>\n",
       "      <th>22</th>\n",
       "      <td>2016</td>\n",
       "      <td>Noviembre</td>\n",
       "      <td>156</td>\n",
       "      <td>65</td>\n",
       "      <td>91</td>\n",
       "    </tr>\n",
       "    <tr>\n",
       "      <th>23</th>\n",
       "      <td>2016</td>\n",
       "      <td>Diciembre</td>\n",
       "      <td>165</td>\n",
       "      <td>120</td>\n",
       "      <td>45</td>\n",
       "    </tr>\n",
       "    <tr>\n",
       "      <th>24</th>\n",
       "      <td>2017</td>\n",
       "      <td>Enero</td>\n",
       "      <td>133</td>\n",
       "      <td>117</td>\n",
       "      <td>16</td>\n",
       "    </tr>\n",
       "    <tr>\n",
       "      <th>25</th>\n",
       "      <td>2017</td>\n",
       "      <td>Febrero</td>\n",
       "      <td>128</td>\n",
       "      <td>56</td>\n",
       "      <td>72</td>\n",
       "    </tr>\n",
       "    <tr>\n",
       "      <th>26</th>\n",
       "      <td>2017</td>\n",
       "      <td>Marzo</td>\n",
       "      <td>125</td>\n",
       "      <td>89</td>\n",
       "      <td>36</td>\n",
       "    </tr>\n",
       "    <tr>\n",
       "      <th>27</th>\n",
       "      <td>2017</td>\n",
       "      <td>Abril</td>\n",
       "      <td>168</td>\n",
       "      <td>52</td>\n",
       "      <td>116</td>\n",
       "    </tr>\n",
       "    <tr>\n",
       "      <th>28</th>\n",
       "      <td>2017</td>\n",
       "      <td>Mayo</td>\n",
       "      <td>168</td>\n",
       "      <td>59</td>\n",
       "      <td>109</td>\n",
       "    </tr>\n",
       "    <tr>\n",
       "      <th>29</th>\n",
       "      <td>2017</td>\n",
       "      <td>Junio</td>\n",
       "      <td>141</td>\n",
       "      <td>122</td>\n",
       "      <td>19</td>\n",
       "    </tr>\n",
       "    <tr>\n",
       "      <th>30</th>\n",
       "      <td>2017</td>\n",
       "      <td>Julio</td>\n",
       "      <td>105</td>\n",
       "      <td>64</td>\n",
       "      <td>41</td>\n",
       "    </tr>\n",
       "    <tr>\n",
       "      <th>31</th>\n",
       "      <td>2017</td>\n",
       "      <td>Agosto</td>\n",
       "      <td>167</td>\n",
       "      <td>107</td>\n",
       "      <td>60</td>\n",
       "    </tr>\n",
       "    <tr>\n",
       "      <th>32</th>\n",
       "      <td>2017</td>\n",
       "      <td>Septiembre</td>\n",
       "      <td>197</td>\n",
       "      <td>111</td>\n",
       "      <td>86</td>\n",
       "    </tr>\n",
       "    <tr>\n",
       "      <th>33</th>\n",
       "      <td>2017</td>\n",
       "      <td>Octubre</td>\n",
       "      <td>160</td>\n",
       "      <td>53</td>\n",
       "      <td>107</td>\n",
       "    </tr>\n",
       "    <tr>\n",
       "      <th>34</th>\n",
       "      <td>2017</td>\n",
       "      <td>Noviembre</td>\n",
       "      <td>171</td>\n",
       "      <td>91</td>\n",
       "      <td>80</td>\n",
       "    </tr>\n",
       "    <tr>\n",
       "      <th>35</th>\n",
       "      <td>2017</td>\n",
       "      <td>Diciembre</td>\n",
       "      <td>110</td>\n",
       "      <td>66</td>\n",
       "      <td>44</td>\n",
       "    </tr>\n",
       "  </tbody>\n",
       "</table>\n",
       "</div>"
      ],
      "text/plain": [
       "     Año         Mes  Ventas  Gastos  Ganancias\n",
       "0   2015       Enero     160      71         89\n",
       "1   2015     Febrero     191     125         66\n",
       "2   2015       Marzo     177      72        105\n",
       "3   2015       Abril     154      78         76\n",
       "4   2015        Mayo     175     110         65\n",
       "5   2015       Junio     143      56         87\n",
       "6   2015       Julio     109      97         12\n",
       "7   2015      Agosto     104     100          4\n",
       "8   2015  Septiembre     176      80         96\n",
       "9   2015     Octubre     198      51        147\n",
       "10  2015   Noviembre     120      54         66\n",
       "11  2015   Diciembre     149     119         30\n",
       "12  2016       Enero     111      92         19\n",
       "13  2016     Febrero     198      86        112\n",
       "14  2016       Marzo     194     101         93\n",
       "15  2016       Abril     171     102         69\n",
       "16  2016        Mayo     128      64         64\n",
       "17  2016       Junio     105     107         -2\n",
       "18  2016       Julio     172     117         55\n",
       "19  2016      Agosto     148     110         38\n",
       "20  2016  Septiembre     134      85         49\n",
       "21  2016     Octubre     192      70        122\n",
       "22  2016   Noviembre     156      65         91\n",
       "23  2016   Diciembre     165     120         45\n",
       "24  2017       Enero     133     117         16\n",
       "25  2017     Febrero     128      56         72\n",
       "26  2017       Marzo     125      89         36\n",
       "27  2017       Abril     168      52        116\n",
       "28  2017        Mayo     168      59        109\n",
       "29  2017       Junio     141     122         19\n",
       "30  2017       Julio     105      64         41\n",
       "31  2017      Agosto     167     107         60\n",
       "32  2017  Septiembre     197     111         86\n",
       "33  2017     Octubre     160      53        107\n",
       "34  2017   Noviembre     171      91         80\n",
       "35  2017   Diciembre     110      66         44"
      ]
     },
     "execution_count": 14,
     "metadata": {},
     "output_type": "execute_result"
    }
   ],
   "source": [
    "## escribe aqui el código\n",
    "ventas"
   ]
  },
  {
   "cell_type": "markdown",
   "id": "9914fb6f-89f2-47e3-a1b2-a3a31388dd53",
   "metadata": {},
   "source": [
    "3. Calcula e imprime las ventas totales, gastos totales y ganacias totales de  todo el periodo\\\n",
    "Ejemplo de mensaje= las ventas totales son: \\\n",
    "etc"
   ]
  },
  {
   "cell_type": "code",
   "execution_count": 42,
   "id": "d538d912-e521-4878-aadf-7288917df0a9",
   "metadata": {},
   "outputs": [
    {
     "name": "stdout",
     "output_type": "stream",
     "text": [
      "Las eventas, los gastos y las ganancias totales son de:  Ventas       5503\n",
      "Gastos       3119\n",
      "Ganancias    2384\n",
      "dtype: int64\n"
     ]
    }
   ],
   "source": [
    "## escribe aqui el código\n",
    "Sumas = ventas[['Ventas','Gastos','Ganancias']].sum()\n",
    "print(f'Las eventas, los gastos y las ganancias totales son de: ', Sumas)"
   ]
  },
  {
   "cell_type": "markdown",
   "id": "38dae978-dc9f-4e6c-9902-98437bb6aa54",
   "metadata": {},
   "source": [
    "4. Calcula e imprime las ventas promedio, gastos promedio y ganacias promedio del periodo\\\n",
    "Ejemplo de mensaje= las ventas promedio son: \\\n",
    "etc"
   ]
  },
  {
   "cell_type": "code",
   "execution_count": 45,
   "id": "a6a89162-0e44-428c-bbdf-2fbef86eafb6",
   "metadata": {},
   "outputs": [
    {
     "name": "stdout",
     "output_type": "stream",
     "text": [
      "Los promedios de las ventas, gastos y ganancias es de:  Ventas       152.861111\n",
      "Gastos        86.638889\n",
      "Ganancias     66.222222\n",
      "dtype: float64\n"
     ]
    }
   ],
   "source": [
    "## escribe aqui el código\n",
    "Prom = ventas[['Ventas','Gastos','Ganancias']].mean()\n",
    "print(f'Los promedios de las ventas, gastos y ganancias es de: ', Prom)"
   ]
  },
  {
   "cell_type": "markdown",
   "id": "caffc594-8756-4b20-9f24-49e460ca7797",
   "metadata": {},
   "source": [
    "5. Calcula e imprime las ventas promedio de 2015"
   ]
  },
  {
   "cell_type": "code",
   "execution_count": 65,
   "id": "6beb888c-8b82-4755-9184-2487451436d9",
   "metadata": {},
   "outputs": [
    {
     "data": {
      "text/plain": [
       "154.66666666666666"
      ]
     },
     "execution_count": 65,
     "metadata": {},
     "output_type": "execute_result"
    }
   ],
   "source": [
    "## escribe aqui el código\n",
    "##Pista: primero filtra para el año 2015, luego selecciona la columna ventas \n",
    "ventas[ventas['Año']==2015]['Ventas'].mean()"
   ]
  },
  {
   "cell_type": "markdown",
   "id": "5a7f7347-3def-4fd7-a14a-4ee98b327da6",
   "metadata": {},
   "source": [
    "6. Calcula e imprime las ventas totales  para los 3 meses de enero. Es decir la suma de enero de 2015, enero de 2016 y enero de 2017"
   ]
  },
  {
   "cell_type": "code",
   "execution_count": 29,
   "id": "03387695-22af-481c-93e4-c0493df7a9a5",
   "metadata": {},
   "outputs": [
    {
     "data": {
      "text/plain": [
       "404"
      ]
     },
     "execution_count": 29,
     "metadata": {},
     "output_type": "execute_result"
    }
   ],
   "source": [
    "## escribe aqui el código\n",
    "##Pista: primero filtra los meses de enero, luego selecciona la columna ventas \n"
   ]
  },
  {
   "cell_type": "markdown",
   "id": "f462b2c6-3d85-4c51-8958-d48716cdddd2",
   "metadata": {},
   "source": [
    "7. Calcula las ventas promedio por mes, guardalo en un dataframe y por ultimo muestra ordenado por ventas promedio de menor a mayor"
   ]
  },
  {
   "cell_type": "code",
   "execution_count": 15,
   "id": "9befa656-d898-49f8-b00c-f93485d05560",
   "metadata": {},
   "outputs": [
    {
     "data": {
      "text/html": [
       "<div>\n",
       "<style scoped>\n",
       "    .dataframe tbody tr th:only-of-type {\n",
       "        vertical-align: middle;\n",
       "    }\n",
       "\n",
       "    .dataframe tbody tr th {\n",
       "        vertical-align: top;\n",
       "    }\n",
       "\n",
       "    .dataframe thead th {\n",
       "        text-align: right;\n",
       "    }\n",
       "</style>\n",
       "<table border=\"1\" class=\"dataframe\">\n",
       "  <thead>\n",
       "    <tr style=\"text-align: right;\">\n",
       "      <th></th>\n",
       "      <th>Ventas</th>\n",
       "    </tr>\n",
       "    <tr>\n",
       "      <th>Mes</th>\n",
       "      <th></th>\n",
       "    </tr>\n",
       "  </thead>\n",
       "  <tbody>\n",
       "    <tr>\n",
       "      <th>Abril</th>\n",
       "      <td>164.33</td>\n",
       "    </tr>\n",
       "    <tr>\n",
       "      <th>Agosto</th>\n",
       "      <td>139.67</td>\n",
       "    </tr>\n",
       "    <tr>\n",
       "      <th>Diciembre</th>\n",
       "      <td>141.33</td>\n",
       "    </tr>\n",
       "    <tr>\n",
       "      <th>Enero</th>\n",
       "      <td>134.67</td>\n",
       "    </tr>\n",
       "    <tr>\n",
       "      <th>Febrero</th>\n",
       "      <td>172.33</td>\n",
       "    </tr>\n",
       "    <tr>\n",
       "      <th>Julio</th>\n",
       "      <td>128.67</td>\n",
       "    </tr>\n",
       "    <tr>\n",
       "      <th>Junio</th>\n",
       "      <td>129.67</td>\n",
       "    </tr>\n",
       "    <tr>\n",
       "      <th>Marzo</th>\n",
       "      <td>165.33</td>\n",
       "    </tr>\n",
       "    <tr>\n",
       "      <th>Mayo</th>\n",
       "      <td>157.00</td>\n",
       "    </tr>\n",
       "    <tr>\n",
       "      <th>Noviembre</th>\n",
       "      <td>149.00</td>\n",
       "    </tr>\n",
       "    <tr>\n",
       "      <th>Octubre</th>\n",
       "      <td>183.33</td>\n",
       "    </tr>\n",
       "    <tr>\n",
       "      <th>Septiembre</th>\n",
       "      <td>169.00</td>\n",
       "    </tr>\n",
       "  </tbody>\n",
       "</table>\n",
       "</div>"
      ],
      "text/plain": [
       "            Ventas\n",
       "Mes               \n",
       "Abril       164.33\n",
       "Agosto      139.67\n",
       "Diciembre   141.33\n",
       "Enero       134.67\n",
       "Febrero     172.33\n",
       "Julio       128.67\n",
       "Junio       129.67\n",
       "Marzo       165.33\n",
       "Mayo        157.00\n",
       "Noviembre   149.00\n",
       "Octubre     183.33\n",
       "Septiembre  169.00"
      ]
     },
     "execution_count": 15,
     "metadata": {},
     "output_type": "execute_result"
    }
   ],
   "source": [
    "## aqui va tu codigo\n",
    "\n"
   ]
  },
  {
   "cell_type": "markdown",
   "id": "1b881113-c1d5-4428-b3b7-7c8b2ed40c2a",
   "metadata": {},
   "source": [
    "https://ichi.pro/es/groupby-en-pandas-su-guia-para-resumir-y-agregar-datos-en-python-82945012778048"
   ]
  },
  {
   "cell_type": "markdown",
   "id": "450af3cf-24b6-4a81-ae37-5b67d4553bb3",
   "metadata": {},
   "source": [
    "El siguiente código importa una base de datos desde internet y lo convierte en data frame  con pandas y se guarda en mtcars"
   ]
  },
  {
   "cell_type": "code",
   "execution_count": 5,
   "id": "02d9628c-f745-4f6b-beff-a12eea6be81a",
   "metadata": {},
   "outputs": [],
   "source": [
    "\n",
    "mtcars= pd.read_csv('https://raw.githubusercontent.com/mwaskom/seaborn-data/master/mpg.csv')"
   ]
  },
  {
   "cell_type": "markdown",
   "id": "2105b5a9-7da1-489a-a048-61f4dacfedee",
   "metadata": {},
   "source": [
    "**Variables de la base de datos:** \\\n",
    "**mpg** Miles/(US) gallon. Millas recorridas con un galón de combustible\\\n",
    "**cylinders** Number of cylinders. Número de cilindros\\\n",
    "**displacement** Displacement (cu.in.). Cilindrada del motor en cm3\\\n",
    "**horsepower** Gross horsepower Potencia del motor en caballos\\\n",
    "**weight** Weight (1000 lbs). Peso del automovil\\\n",
    "**acceleration** qsec 1/4 mile time. Tiempo que tarda en recorrer 1/4 de milla desde parado (Aceleración)\\\n",
    "**model year** año del modelo\\\n",
    "**origin** país de origen\\\n",
    "**name** nombre del vehículo\n"
   ]
  },
  {
   "cell_type": "code",
   "execution_count": null,
   "id": "a87410ff-7142-4b10-a5ba-2d782651ac77",
   "metadata": {},
   "outputs": [],
   "source": [
    "## el siguiente codigo nos muestra las primeras cuato observaciones del data frame\n"
   ]
  },
  {
   "cell_type": "markdown",
   "id": "8372affd-d28c-49c1-8063-ac998f2efead",
   "metadata": {},
   "source": [
    "8. Ordena lo coches al mismo tiempo por país de origen y rendimiento (mpg)  "
   ]
  },
  {
   "cell_type": "code",
   "execution_count": 14,
   "id": "0e6c9964-2d23-4f21-9540-5bc3b149894d",
   "metadata": {},
   "outputs": [],
   "source": [
    "## aquí va el código   \n"
   ]
  },
  {
   "cell_type": "markdown",
   "id": "d9fe68f9-9e4a-4108-9932-9937e6f2cb17",
   "metadata": {},
   "source": [
    "9. Cuenta el número de coches por país de origen\n",
    "**value_counts()** es una función de pandas que nos ayuda a contar observaciones, usala "
   ]
  },
  {
   "cell_type": "code",
   "execution_count": 15,
   "id": "30f2777b-6274-4332-b49c-50b3d69c3d07",
   "metadata": {},
   "outputs": [],
   "source": [
    "### aquí va el código\n"
   ]
  },
  {
   "cell_type": "markdown",
   "id": "937b5c18-098d-4979-a860-f2e41cd073bf",
   "metadata": {},
   "source": [
    "9. Expresa en porcentaje el número de coches por país de origen \n",
    "**value_counts(normalize=True)** es una función de pandas que cuenta las observaciones y las expresa en porcentaje\\\n",
    "utiliza el código anterior para saber el porcentaje de coches que tiene origen en cada país "
   ]
  },
  {
   "cell_type": "code",
   "execution_count": 16,
   "id": "1b256027-025d-46fd-bc95-062618f254fc",
   "metadata": {},
   "outputs": [],
   "source": [
    "### aquí va el código\n"
   ]
  },
  {
   "cell_type": "markdown",
   "id": "e5b1dcca-59cd-4691-acca-ed5db667a25f",
   "metadata": {},
   "source": [
    "10. Calcula la media de caballos de fuerza por vehiculo y luego filtra la base de datos para aquellos vehiculos que se encuentran por encima de la media de caballos de fuerza y  guardalo en un nuevo dataframe llamado mtcars2\n",
    "\n",
    "\n",
    "***Pista:** puedes hacerlo en multiples pasos o lineas de código*"
   ]
  },
  {
   "cell_type": "code",
   "execution_count": 17,
   "id": "06474165-f9b1-4696-8aaa-c3bc78f809ef",
   "metadata": {},
   "outputs": [],
   "source": [
    "## aquí va al código\n"
   ]
  },
  {
   "cell_type": "markdown",
   "id": "2248ed1b-d949-454a-83f0-9bd338ea08cd",
   "metadata": {},
   "source": [
    "11. Muestra los 5 coches con mas caballos de fuerza"
   ]
  },
  {
   "cell_type": "code",
   "execution_count": null,
   "id": "1dd3e77b-1686-4125-89a4-0ebe99232886",
   "metadata": {},
   "outputs": [],
   "source": [
    "## aquí va al código\n"
   ]
  }
 ],
 "metadata": {
  "kernelspec": {
   "display_name": "Python 3 (ipykernel)",
   "language": "python",
   "name": "python3"
  },
  "language_info": {
   "codemirror_mode": {
    "name": "ipython",
    "version": 3
   },
   "file_extension": ".py",
   "mimetype": "text/x-python",
   "name": "python",
   "nbconvert_exporter": "python",
   "pygments_lexer": "ipython3",
   "version": "3.9.12"
  }
 },
 "nbformat": 4,
 "nbformat_minor": 5
}

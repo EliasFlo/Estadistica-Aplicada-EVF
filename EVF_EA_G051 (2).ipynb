{
 "cells": [
  {
   "cell_type": "code",
   "execution_count": 2,
   "id": "fd07256c",
   "metadata": {},
   "outputs": [],
   "source": [
    "import pandas as pd"
   ]
  },
  {
   "cell_type": "code",
   "execution_count": 4,
   "id": "31d9b084",
   "metadata": {},
   "outputs": [
    {
     "data": {
      "text/html": [
       "<div>\n",
       "<style scoped>\n",
       "    .dataframe tbody tr th:only-of-type {\n",
       "        vertical-align: middle;\n",
       "    }\n",
       "\n",
       "    .dataframe tbody tr th {\n",
       "        vertical-align: top;\n",
       "    }\n",
       "\n",
       "    .dataframe thead th {\n",
       "        text-align: right;\n",
       "    }\n",
       "</style>\n",
       "<table border=\"1\" class=\"dataframe\">\n",
       "  <thead>\n",
       "    <tr style=\"text-align: right;\">\n",
       "      <th></th>\n",
       "      <th>id</th>\n",
       "      <th>tiempo</th>\n",
       "      <th>examen</th>\n",
       "      <th>calificación</th>\n",
       "      <th>género</th>\n",
       "    </tr>\n",
       "  </thead>\n",
       "  <tbody>\n",
       "    <tr>\n",
       "      <th>0</th>\n",
       "      <td>1</td>\n",
       "      <td>85</td>\n",
       "      <td>1</td>\n",
       "      <td>100.0</td>\n",
       "      <td>m</td>\n",
       "    </tr>\n",
       "    <tr>\n",
       "      <th>1</th>\n",
       "      <td>2</td>\n",
       "      <td>109</td>\n",
       "      <td>1</td>\n",
       "      <td>100.0</td>\n",
       "      <td>m</td>\n",
       "    </tr>\n",
       "    <tr>\n",
       "      <th>2</th>\n",
       "      <td>3</td>\n",
       "      <td>118</td>\n",
       "      <td>1</td>\n",
       "      <td>100.0</td>\n",
       "      <td>m</td>\n",
       "    </tr>\n",
       "    <tr>\n",
       "      <th>3</th>\n",
       "      <td>4</td>\n",
       "      <td>120</td>\n",
       "      <td>1</td>\n",
       "      <td>100.0</td>\n",
       "      <td>f</td>\n",
       "    </tr>\n",
       "    <tr>\n",
       "      <th>4</th>\n",
       "      <td>5</td>\n",
       "      <td>106</td>\n",
       "      <td>1</td>\n",
       "      <td>98.0</td>\n",
       "      <td>f</td>\n",
       "    </tr>\n",
       "    <tr>\n",
       "      <th>5</th>\n",
       "      <td>6</td>\n",
       "      <td>103</td>\n",
       "      <td>1</td>\n",
       "      <td>98.0</td>\n",
       "      <td>m</td>\n",
       "    </tr>\n",
       "    <tr>\n",
       "      <th>6</th>\n",
       "      <td>7</td>\n",
       "      <td>108</td>\n",
       "      <td>1</td>\n",
       "      <td>96.0</td>\n",
       "      <td>f</td>\n",
       "    </tr>\n",
       "    <tr>\n",
       "      <th>7</th>\n",
       "      <td>8</td>\n",
       "      <td>119</td>\n",
       "      <td>1</td>\n",
       "      <td>96.0</td>\n",
       "      <td>f</td>\n",
       "    </tr>\n",
       "    <tr>\n",
       "      <th>8</th>\n",
       "      <td>9</td>\n",
       "      <td>115</td>\n",
       "      <td>1</td>\n",
       "      <td>96.0</td>\n",
       "      <td>f</td>\n",
       "    </tr>\n",
       "    <tr>\n",
       "      <th>9</th>\n",
       "      <td>10</td>\n",
       "      <td>108</td>\n",
       "      <td>1</td>\n",
       "      <td>94.0</td>\n",
       "      <td>f</td>\n",
       "    </tr>\n",
       "    <tr>\n",
       "      <th>10</th>\n",
       "      <td>11</td>\n",
       "      <td>87</td>\n",
       "      <td>1</td>\n",
       "      <td>88.0</td>\n",
       "      <td>m</td>\n",
       "    </tr>\n",
       "    <tr>\n",
       "      <th>11</th>\n",
       "      <td>12</td>\n",
       "      <td>99</td>\n",
       "      <td>1</td>\n",
       "      <td>86.0</td>\n",
       "      <td>f</td>\n",
       "    </tr>\n",
       "    <tr>\n",
       "      <th>12</th>\n",
       "      <td>13</td>\n",
       "      <td>112</td>\n",
       "      <td>1</td>\n",
       "      <td>84.0</td>\n",
       "      <td>m</td>\n",
       "    </tr>\n",
       "    <tr>\n",
       "      <th>13</th>\n",
       "      <td>14</td>\n",
       "      <td>111</td>\n",
       "      <td>1</td>\n",
       "      <td>82.0</td>\n",
       "      <td>m</td>\n",
       "    </tr>\n",
       "    <tr>\n",
       "      <th>14</th>\n",
       "      <td>15</td>\n",
       "      <td>90</td>\n",
       "      <td>1</td>\n",
       "      <td>78.0</td>\n",
       "      <td>f</td>\n",
       "    </tr>\n",
       "    <tr>\n",
       "      <th>15</th>\n",
       "      <td>16</td>\n",
       "      <td>116</td>\n",
       "      <td>1</td>\n",
       "      <td>74.0</td>\n",
       "      <td>m</td>\n",
       "    </tr>\n",
       "    <tr>\n",
       "      <th>16</th>\n",
       "      <td>17</td>\n",
       "      <td>119</td>\n",
       "      <td>1</td>\n",
       "      <td>72.0</td>\n",
       "      <td>m</td>\n",
       "    </tr>\n",
       "  </tbody>\n",
       "</table>\n",
       "</div>"
      ],
      "text/plain": [
       "    id  tiempo  examen  calificación género\n",
       "0    1      85       1         100.0      m\n",
       "1    2     109       1         100.0      m\n",
       "2    3     118       1         100.0      m\n",
       "3    4     120       1         100.0      f\n",
       "4    5     106       1          98.0      f\n",
       "5    6     103       1          98.0      m\n",
       "6    7     108       1          96.0      f\n",
       "7    8     119       1          96.0      f\n",
       "8    9     115       1          96.0      f\n",
       "9   10     108       1          94.0      f\n",
       "10  11      87       1          88.0      m\n",
       "11  12      99       1          86.0      f\n",
       "12  13     112       1          84.0      m\n",
       "13  14     111       1          82.0      m\n",
       "14  15      90       1          78.0      f\n",
       "15  16     116       1          74.0      m\n",
       "16  17     119       1          72.0      m"
      ]
     },
     "execution_count": 4,
     "metadata": {},
     "output_type": "execute_result"
    }
   ],
   "source": [
    "datos = pd.read_excel('supervivencia_examenes.xlsx')\n",
    "datos"
   ]
  },
  {
   "cell_type": "code",
   "execution_count": 6,
   "id": "3ff02ad1",
   "metadata": {},
   "outputs": [
    {
     "data": {
      "text/html": [
       "<div>\n",
       "<style scoped>\n",
       "    .dataframe tbody tr th:only-of-type {\n",
       "        vertical-align: middle;\n",
       "    }\n",
       "\n",
       "    .dataframe tbody tr th {\n",
       "        vertical-align: top;\n",
       "    }\n",
       "\n",
       "    .dataframe thead th {\n",
       "        text-align: right;\n",
       "    }\n",
       "</style>\n",
       "<table border=\"1\" class=\"dataframe\">\n",
       "  <thead>\n",
       "    <tr style=\"text-align: right;\">\n",
       "      <th></th>\n",
       "      <th>id</th>\n",
       "      <th>tiempo</th>\n",
       "      <th>examen</th>\n",
       "      <th>calificación</th>\n",
       "      <th>género_m</th>\n",
       "    </tr>\n",
       "  </thead>\n",
       "  <tbody>\n",
       "    <tr>\n",
       "      <th>0</th>\n",
       "      <td>1</td>\n",
       "      <td>85</td>\n",
       "      <td>1</td>\n",
       "      <td>100.0</td>\n",
       "      <td>1</td>\n",
       "    </tr>\n",
       "    <tr>\n",
       "      <th>1</th>\n",
       "      <td>2</td>\n",
       "      <td>109</td>\n",
       "      <td>1</td>\n",
       "      <td>100.0</td>\n",
       "      <td>1</td>\n",
       "    </tr>\n",
       "    <tr>\n",
       "      <th>2</th>\n",
       "      <td>3</td>\n",
       "      <td>118</td>\n",
       "      <td>1</td>\n",
       "      <td>100.0</td>\n",
       "      <td>1</td>\n",
       "    </tr>\n",
       "    <tr>\n",
       "      <th>3</th>\n",
       "      <td>4</td>\n",
       "      <td>120</td>\n",
       "      <td>1</td>\n",
       "      <td>100.0</td>\n",
       "      <td>0</td>\n",
       "    </tr>\n",
       "    <tr>\n",
       "      <th>4</th>\n",
       "      <td>5</td>\n",
       "      <td>106</td>\n",
       "      <td>1</td>\n",
       "      <td>98.0</td>\n",
       "      <td>0</td>\n",
       "    </tr>\n",
       "    <tr>\n",
       "      <th>5</th>\n",
       "      <td>6</td>\n",
       "      <td>103</td>\n",
       "      <td>1</td>\n",
       "      <td>98.0</td>\n",
       "      <td>1</td>\n",
       "    </tr>\n",
       "    <tr>\n",
       "      <th>6</th>\n",
       "      <td>7</td>\n",
       "      <td>108</td>\n",
       "      <td>1</td>\n",
       "      <td>96.0</td>\n",
       "      <td>0</td>\n",
       "    </tr>\n",
       "    <tr>\n",
       "      <th>7</th>\n",
       "      <td>8</td>\n",
       "      <td>119</td>\n",
       "      <td>1</td>\n",
       "      <td>96.0</td>\n",
       "      <td>0</td>\n",
       "    </tr>\n",
       "    <tr>\n",
       "      <th>8</th>\n",
       "      <td>9</td>\n",
       "      <td>115</td>\n",
       "      <td>1</td>\n",
       "      <td>96.0</td>\n",
       "      <td>0</td>\n",
       "    </tr>\n",
       "    <tr>\n",
       "      <th>9</th>\n",
       "      <td>10</td>\n",
       "      <td>108</td>\n",
       "      <td>1</td>\n",
       "      <td>94.0</td>\n",
       "      <td>0</td>\n",
       "    </tr>\n",
       "    <tr>\n",
       "      <th>10</th>\n",
       "      <td>11</td>\n",
       "      <td>87</td>\n",
       "      <td>1</td>\n",
       "      <td>88.0</td>\n",
       "      <td>1</td>\n",
       "    </tr>\n",
       "    <tr>\n",
       "      <th>11</th>\n",
       "      <td>12</td>\n",
       "      <td>99</td>\n",
       "      <td>1</td>\n",
       "      <td>86.0</td>\n",
       "      <td>0</td>\n",
       "    </tr>\n",
       "    <tr>\n",
       "      <th>12</th>\n",
       "      <td>13</td>\n",
       "      <td>112</td>\n",
       "      <td>1</td>\n",
       "      <td>84.0</td>\n",
       "      <td>1</td>\n",
       "    </tr>\n",
       "    <tr>\n",
       "      <th>13</th>\n",
       "      <td>14</td>\n",
       "      <td>111</td>\n",
       "      <td>1</td>\n",
       "      <td>82.0</td>\n",
       "      <td>1</td>\n",
       "    </tr>\n",
       "    <tr>\n",
       "      <th>14</th>\n",
       "      <td>15</td>\n",
       "      <td>90</td>\n",
       "      <td>1</td>\n",
       "      <td>78.0</td>\n",
       "      <td>0</td>\n",
       "    </tr>\n",
       "    <tr>\n",
       "      <th>15</th>\n",
       "      <td>16</td>\n",
       "      <td>116</td>\n",
       "      <td>1</td>\n",
       "      <td>74.0</td>\n",
       "      <td>1</td>\n",
       "    </tr>\n",
       "    <tr>\n",
       "      <th>16</th>\n",
       "      <td>17</td>\n",
       "      <td>119</td>\n",
       "      <td>1</td>\n",
       "      <td>72.0</td>\n",
       "      <td>1</td>\n",
       "    </tr>\n",
       "  </tbody>\n",
       "</table>\n",
       "</div>"
      ],
      "text/plain": [
       "    id  tiempo  examen  calificación  género_m\n",
       "0    1      85       1         100.0         1\n",
       "1    2     109       1         100.0         1\n",
       "2    3     118       1         100.0         1\n",
       "3    4     120       1         100.0         0\n",
       "4    5     106       1          98.0         0\n",
       "5    6     103       1          98.0         1\n",
       "6    7     108       1          96.0         0\n",
       "7    8     119       1          96.0         0\n",
       "8    9     115       1          96.0         0\n",
       "9   10     108       1          94.0         0\n",
       "10  11      87       1          88.0         1\n",
       "11  12      99       1          86.0         0\n",
       "12  13     112       1          84.0         1\n",
       "13  14     111       1          82.0         1\n",
       "14  15      90       1          78.0         0\n",
       "15  16     116       1          74.0         1\n",
       "16  17     119       1          72.0         1"
      ]
     },
     "execution_count": 6,
     "metadata": {},
     "output_type": "execute_result"
    }
   ],
   "source": [
    "datos = pd.get_dummies(datos,'género', drop_first=True )\n",
    "datos"
   ]
  },
  {
   "cell_type": "markdown",
   "id": "9b26695e",
   "metadata": {},
   "source": [
    "a) Estadísticas descriptivas. Calcule el tiempo promedio que tardaron en\n",
    "responder los alumnos el examen y la calificación promedio obtenida.\n",
    "El profesor sospecha que las alumnas responden más rápido el examen,\n",
    "calcule el tiempo promedio que tardaron en responder las alumnas y su\n",
    "calificación promedio, asi como el tiempo promedio que tardaron en\n",
    "responder los alumnos y su calificación promedio.\n",
    "Elabore un print mostrando dichos resultados"
   ]
  },
  {
   "cell_type": "code",
   "execution_count": 7,
   "id": "cc7764e0",
   "metadata": {},
   "outputs": [
    {
     "data": {
      "text/plain": [
       "107.3529411764706"
      ]
     },
     "execution_count": 7,
     "metadata": {},
     "output_type": "execute_result"
    }
   ],
   "source": [
    "datos['tiempo'].mean()"
   ]
  },
  {
   "cell_type": "code",
   "execution_count": 8,
   "id": "d2196bab",
   "metadata": {},
   "outputs": [
    {
     "data": {
      "text/plain": [
       "90.70588235294117"
      ]
     },
     "execution_count": 8,
     "metadata": {},
     "output_type": "execute_result"
    }
   ],
   "source": [
    "datos['calificación'].mean()"
   ]
  },
  {
   "cell_type": "code",
   "execution_count": 38,
   "id": "90b029e1",
   "metadata": {
    "scrolled": true
   },
   "outputs": [],
   "source": [
    "datosM = datos[datos['género_m'] == 1]\n",
    "datosM\n",
    "promM=datosM['tiempo'].mean()"
   ]
  },
  {
   "cell_type": "code",
   "execution_count": 28,
   "id": "8f57cb47",
   "metadata": {},
   "outputs": [],
   "source": [
    "datosF = datos[datos['género_m'] == 0]\n",
    "datosF\n",
    "promF=datosF['tiempo'].mean()"
   ]
  },
  {
   "cell_type": "code",
   "execution_count": 34,
   "id": "5ed1a170",
   "metadata": {},
   "outputs": [
    {
     "name": "stdout",
     "output_type": "stream",
     "text": [
      "La calificación promedio de hombres es de 106.66666666666667 Y la calificacion promedio de mujeres es de  108.125\n"
     ]
    }
   ],
   "source": [
    "print('La calificación promedio de hombres es de', promM, 'Y la calificacion promedio de mujeres es de ',promF)"
   ]
  },
  {
   "cell_type": "markdown",
   "id": "8171d933",
   "metadata": {},
   "source": [
    "b) ¿Cómo crees que se comporta el riesgo de entregar el examen conforme\n",
    "transcurre el tiempo? ¿es constante, creciente, o decreciente? Según tu \n",
    "respuesta ajusta un modelo exponencial o Weibull, primero para todos\n",
    "los individuos y muestra la función de riesgo."
   ]
  },
  {
   "cell_type": "code",
   "execution_count": 43,
   "id": "edbf4df1",
   "metadata": {},
   "outputs": [],
   "source": [
    "import numpy as np\n",
    "import matplotlib.pyplot as plt\n",
    "from lifelines import ExponentialFitter"
   ]
  },
  {
   "cell_type": "code",
   "execution_count": 49,
   "id": "231ce631",
   "metadata": {},
   "outputs": [
    {
     "name": "stdout",
     "output_type": "stream",
     "text": [
      "Requirement already satisfied: lifelines in c:\\users\\lenovo\\anaconda3\\lib\\site-packages (0.27.2)\n",
      "Requirement already satisfied: autograd-gamma>=0.3 in c:\\users\\lenovo\\anaconda3\\lib\\site-packages (from lifelines) (0.5.0)\n",
      "Requirement already satisfied: autograd>=1.3 in c:\\users\\lenovo\\anaconda3\\lib\\site-packages (from lifelines) (1.4)\n",
      "Requirement already satisfied: pandas>=1.0.0 in c:\\users\\lenovo\\anaconda3\\lib\\site-packages (from lifelines) (1.4.2)\n",
      "Requirement already satisfied: scipy>=1.2.0 in c:\\users\\lenovo\\anaconda3\\lib\\site-packages (from lifelines) (1.7.3)\n",
      "Requirement already satisfied: numpy>=1.14.0 in c:\\users\\lenovo\\anaconda3\\lib\\site-packages (from lifelines) (1.21.5)\n",
      "Requirement already satisfied: formulaic>=0.2.2 in c:\\users\\lenovo\\anaconda3\\lib\\site-packages (from lifelines) (0.5.1)\n",
      "Requirement already satisfied: matplotlib>=3.0 in c:\\users\\lenovo\\anaconda3\\lib\\site-packages (from lifelines) (3.5.1)\n",
      "Requirement already satisfied: future>=0.15.2 in c:\\users\\lenovo\\anaconda3\\lib\\site-packages (from autograd>=1.3->lifelines) (0.18.2)\n",
      "Requirement already satisfied: astor>=0.8 in c:\\users\\lenovo\\anaconda3\\lib\\site-packages (from formulaic>=0.2.2->lifelines) (0.8.1)\n",
      "Requirement already satisfied: interface-meta>=1.2.0 in c:\\users\\lenovo\\anaconda3\\lib\\site-packages (from formulaic>=0.2.2->lifelines) (1.3.0)\n",
      "Requirement already satisfied: typing-extensions>=4.2.0 in c:\\users\\lenovo\\anaconda3\\lib\\site-packages (from formulaic>=0.2.2->lifelines) (4.3.0)\n",
      "Requirement already satisfied: wrapt>=1.0 in c:\\users\\lenovo\\anaconda3\\lib\\site-packages (from formulaic>=0.2.2->lifelines) (1.12.1)\n",
      "Requirement already satisfied: packaging>=20.0 in c:\\users\\lenovo\\anaconda3\\lib\\site-packages (from matplotlib>=3.0->lifelines) (21.3)\n",
      "Requirement already satisfied: kiwisolver>=1.0.1 in c:\\users\\lenovo\\anaconda3\\lib\\site-packages (from matplotlib>=3.0->lifelines) (1.3.2)\n",
      "Requirement already satisfied: pyparsing>=2.2.1 in c:\\users\\lenovo\\anaconda3\\lib\\site-packages (from matplotlib>=3.0->lifelines) (3.0.4)\n",
      "Requirement already satisfied: fonttools>=4.22.0 in c:\\users\\lenovo\\anaconda3\\lib\\site-packages (from matplotlib>=3.0->lifelines) (4.25.0)\n",
      "Requirement already satisfied: cycler>=0.10 in c:\\users\\lenovo\\anaconda3\\lib\\site-packages (from matplotlib>=3.0->lifelines) (0.11.0)\n",
      "Requirement already satisfied: pillow>=6.2.0 in c:\\users\\lenovo\\anaconda3\\lib\\site-packages (from matplotlib>=3.0->lifelines) (9.0.1)\n",
      "Requirement already satisfied: python-dateutil>=2.7 in c:\\users\\lenovo\\anaconda3\\lib\\site-packages (from matplotlib>=3.0->lifelines) (2.8.2)\n",
      "Requirement already satisfied: pytz>=2020.1 in c:\\users\\lenovo\\anaconda3\\lib\\site-packages (from pandas>=1.0.0->lifelines) (2021.3)\n",
      "Requirement already satisfied: six>=1.5 in c:\\users\\lenovo\\anaconda3\\lib\\site-packages (from python-dateutil>=2.7->matplotlib>=3.0->lifelines) (1.16.0)\n",
      "Note: you may need to restart the kernel to use updated packages.\n"
     ]
    }
   ],
   "source": [
    "pip install lifelines"
   ]
  },
  {
   "cell_type": "code",
   "execution_count": 57,
   "id": "d05dd553",
   "metadata": {},
   "outputs": [
    {
     "data": {
      "text/plain": [
       "0.009315068493150684"
      ]
     },
     "execution_count": 57,
     "metadata": {},
     "output_type": "execute_result"
    }
   ],
   "source": [
    "estimador_lamda = datos['examen'].sum()/datos['tiempo'].sum()\n",
    "estimador_lamda"
   ]
  },
  {
   "cell_type": "code",
   "execution_count": 56,
   "id": "752fb326",
   "metadata": {},
   "outputs": [],
   "source": [
    "exf = ExponentialFitter().fit(datos['tiempo'], datos['examen'])"
   ]
  },
  {
   "cell_type": "code",
   "execution_count": 58,
   "id": "4d1f315d",
   "metadata": {},
   "outputs": [
    {
     "ename": "AttributeError",
     "evalue": "'ExponentialFitter' object has no attribute 'hazard'",
     "output_type": "error",
     "traceback": [
      "\u001b[1;31m---------------------------------------------------------------------------\u001b[0m",
      "\u001b[1;31mAttributeError\u001b[0m                            Traceback (most recent call last)",
      "Input \u001b[1;32mIn [58]\u001b[0m, in \u001b[0;36m<cell line: 1>\u001b[1;34m()\u001b[0m\n\u001b[1;32m----> 1\u001b[0m \u001b[43mexf\u001b[49m\u001b[38;5;241;43m.\u001b[39;49m\u001b[43mhazard\u001b[49m\n",
      "\u001b[1;31mAttributeError\u001b[0m: 'ExponentialFitter' object has no attribute 'hazard'"
     ]
    }
   ],
   "source": [
    "exf.hazard"
   ]
  },
  {
   "cell_type": "markdown",
   "id": "a30d509c",
   "metadata": {},
   "source": [
    "c) Ahora estima el mismo modelo que planteaste en el inciso anterior, pero\n",
    "para hombres y mujeres, y grafica ambas funciones de supervivencia\n",
    "juntas (empalmadas), ¿gráficamente quien tarda más en entregar el\n",
    "examen?"
   ]
  },
  {
   "cell_type": "code",
   "execution_count": 60,
   "id": "1db09539",
   "metadata": {},
   "outputs": [
    {
     "data": {
      "text/plain": [
       "0.009375"
      ]
     },
     "execution_count": 60,
     "metadata": {},
     "output_type": "execute_result"
    }
   ],
   "source": [
    "estimador_lamda = datosM['examen'].sum()/datosM['tiempo'].sum()\n",
    "estimador_lamda"
   ]
  },
  {
   "cell_type": "code",
   "execution_count": 63,
   "id": "e83ac256",
   "metadata": {},
   "outputs": [],
   "source": [
    "exfM = ExponentialFitter().fit(datosM['tiempo'], datosM['examen'])"
   ]
  },
  {
   "cell_type": "code",
   "execution_count": 64,
   "id": "cab07c4d",
   "metadata": {},
   "outputs": [
    {
     "ename": "AttributeError",
     "evalue": "'ExponentialFitter' object has no attribute 'hazard'",
     "output_type": "error",
     "traceback": [
      "\u001b[1;31m---------------------------------------------------------------------------\u001b[0m",
      "\u001b[1;31mAttributeError\u001b[0m                            Traceback (most recent call last)",
      "Input \u001b[1;32mIn [64]\u001b[0m, in \u001b[0;36m<cell line: 1>\u001b[1;34m()\u001b[0m\n\u001b[1;32m----> 1\u001b[0m \u001b[43mexfM\u001b[49m\u001b[38;5;241;43m.\u001b[39;49m\u001b[43mhazard\u001b[49m\n",
      "\u001b[1;31mAttributeError\u001b[0m: 'ExponentialFitter' object has no attribute 'hazard'"
     ]
    }
   ],
   "source": [
    "exfM.hazard"
   ]
  },
  {
   "cell_type": "code",
   "execution_count": 65,
   "id": "b8604c41",
   "metadata": {},
   "outputs": [
    {
     "data": {
      "image/png": "[encoded data removed]",
      "text/plain": [
       "<Figure size 432x288 with 1 Axes>"
      ]
     },
     "metadata": {
      "needs_background": "light"
     },
     "output_type": "display_data"
    }
   ],
   "source": [
    "exfM.plot_survival_function()\n",
    "plt.show()"
   ]
  },
  {
   "cell_type": "code",
   "execution_count": 66,
   "id": "bde5c099",
   "metadata": {},
   "outputs": [
    {
     "data": {
      "text/plain": [
       "0.009248554913294798"
      ]
     },
     "execution_count": 66,
     "metadata": {},
     "output_type": "execute_result"
    }
   ],
   "source": [
    "estimador_lamda = datosF['examen'].sum()/datosF['tiempo'].sum()\n",
    "estimador_lamda"
   ]
  },
  {
   "cell_type": "code",
   "execution_count": 70,
   "id": "58f805da",
   "metadata": {},
   "outputs": [],
   "source": [
    "exfF = ExponentialFitter().fit(datosF['tiempo'], datosF['examen'])"
   ]
  },
  {
   "cell_type": "code",
   "execution_count": 72,
   "id": "f8d0a33c",
   "metadata": {},
   "outputs": [
    {
     "ename": "AttributeError",
     "evalue": "'ExponentialFitter' object has no attribute 'hazard'",
     "output_type": "error",
     "traceback": [
      "\u001b[1;31m---------------------------------------------------------------------------\u001b[0m",
      "\u001b[1;31mAttributeError\u001b[0m                            Traceback (most recent call last)",
      "Input \u001b[1;32mIn [72]\u001b[0m, in \u001b[0;36m<cell line: 1>\u001b[1;34m()\u001b[0m\n\u001b[1;32m----> 1\u001b[0m \u001b[43mexfF\u001b[49m\u001b[38;5;241;43m.\u001b[39;49m\u001b[43mhazard\u001b[49m\n",
      "\u001b[1;31mAttributeError\u001b[0m: 'ExponentialFitter' object has no attribute 'hazard'"
     ]
    }
   ],
   "source": [
    "exfF.hazard"
   ]
  },
  {
   "cell_type": "code",
   "execution_count": null,
   "id": "668c8704",
   "metadata": {},
   "outputs": [],
   "source": [
    "exfH.plot_survival_function()\n",
    "plt.show()"
   ]
  },
  {
   "cell_type": "code",
   "execution_count": null,
   "id": "5ca36417",
   "metadata": {},
   "outputs": [],
   "source": []
  },
  {
   "cell_type": "markdown",
   "id": "111e1afa",
   "metadata": {},
   "source": [
    "d) Estime la función de supervivencia del tiempo de entrega del examen de\n",
    "todos los alumnos utilizando Kaplan-Meier, muestre los valores de la\n",
    "función de supervivencia, los valores del intervalos de confianza al 95%,\n",
    "asi como la gráfica respectiva de la función de supervivencia con sus\n",
    "intervalos"
   ]
  },
  {
   "cell_type": "code",
   "execution_count": null,
   "id": "c8185911",
   "metadata": {},
   "outputs": [],
   "source": [
    "from lifelines import KaplanMeierFitter "
   ]
  },
  {
   "cell_type": "code",
   "execution_count": null,
   "id": "332c81f9",
   "metadata": {},
   "outputs": [],
   "source": [
    "kmf = KaplanMeierFitter(label=\"Duración de entrega del examen\")\n",
    "kmf.fit(datos['tiempo'], datos['examen'])\n",
    "kmf.plot();"
   ]
  },
  {
   "cell_type": "code",
   "execution_count": null,
   "id": "8dabd51f",
   "metadata": {},
   "outputs": [],
   "source": [
    "kmf.survival_function_"
   ]
  },
  {
   "cell_type": "code",
   "execution_count": null,
   "id": "8c5938dc",
   "metadata": {},
   "outputs": [],
   "source": [
    "Hombres = datos[datos['género']==0] \n",
    "Mujeres = datos[datos['género']==1] "
   ]
  },
  {
   "cell_type": "code",
   "execution_count": null,
   "id": "86c6fdae",
   "metadata": {},
   "outputs": [],
   "source": [
    "kmf1 = KaplanMeierFitter(label=\"Hombres\")\n",
    "kmf1.fit(Hombres['tiempo'], Hombres['examen'])\n",
    "\n",
    "kmf2 = KaplanMeierFitter(label=\"Mujeres\")\n",
    "kmf2.fit(Mujeres['tiempo'],Mujeres['examen']) \n",
    "\n",
    "kmf1.plot();\n",
    "kmf2.plot();"
   ]
  },
  {
   "cell_type": "code",
   "execution_count": null,
   "id": "181ba80f",
   "metadata": {},
   "outputs": [],
   "source": []
  }
 ],
 "metadata": {
  "kernelspec": {
   "display_name": "Python 3 (ipykernel)",
   "language": "python",
   "name": "python3"
  },
  "language_info": {
   "codemirror_mode": {
    "name": "ipython",
    "version": 3
   },
   "file_extension": ".py",
   "mimetype": "text/x-python",
   "name": "python",
   "nbconvert_exporter": "python",
   "pygments_lexer": "ipython3",
   "version": "3.9.12"
  }
 },
 "nbformat": 4,
 "nbformat_minor": 5
}
